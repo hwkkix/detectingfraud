{
 "cells": [
  {
   "cell_type": "code",
   "execution_count": 1,
   "metadata": {
    "collapsed": false
   },
   "outputs": [],
   "source": [
    "import pandas as pd\n",
    "import numpy as np\n",
    "import matplotlib.pyplot as plt\n",
    "import warnings\n",
    "from ipywidgets import interact\n",
    "from sklearn.model_selection import train_test_split as tts\n",
    "from sklearn.ensemble import RandomForestClassifier\n",
    "from sklearn.svm import LinearSVC\n",
    "from sklearn.cluster import KMeans\n",
    "from sklearn.model_selection import StratifiedKFold\n",
    "from sklearn.model_selection import cross_val_score\n",
    "from sklearn.model_selection import cross_val_predict\n",
    "from sklearn.model_selection import KFold\n",
    "from sklearn.decomposition import PCA\n",
    "from sklearn.metrics import confusion_matrix\n",
    "from sklearn.metrics import classification_report\n",
    "from sklearn.pipeline import make_pipeline\n",
    "warnings.filterwarnings(\"ignore\")\n",
    "%matplotlib inline"
   ]
  },
  {
   "cell_type": "code",
   "execution_count": 2,
   "metadata": {
    "collapsed": false
   },
   "outputs": [
    {
     "data": {
      "text/html": [
       "<div>\n",
       "<table border=\"1\" class=\"dataframe\">\n",
       "  <thead>\n",
       "    <tr style=\"text-align: right;\">\n",
       "      <th></th>\n",
       "      <th>step</th>\n",
       "      <th>type</th>\n",
       "      <th>amount</th>\n",
       "      <th>nameOrig</th>\n",
       "      <th>oldbalanceOrg</th>\n",
       "      <th>newbalanceOrig</th>\n",
       "      <th>nameDest</th>\n",
       "      <th>oldbalanceDest</th>\n",
       "      <th>newbalanceDest</th>\n",
       "      <th>isFraud</th>\n",
       "      <th>id</th>\n",
       "    </tr>\n",
       "  </thead>\n",
       "  <tbody>\n",
       "    <tr>\n",
       "      <th>0</th>\n",
       "      <td>303</td>\n",
       "      <td>CASH_IN</td>\n",
       "      <td>185164.71</td>\n",
       "      <td>C1499985475</td>\n",
       "      <td>3075480.01</td>\n",
       "      <td>3260644.72</td>\n",
       "      <td>C1771727877</td>\n",
       "      <td>881991.88</td>\n",
       "      <td>696827.18</td>\n",
       "      <td>0</td>\n",
       "      <td>540576</td>\n",
       "    </tr>\n",
       "    <tr>\n",
       "      <th>1</th>\n",
       "      <td>356</td>\n",
       "      <td>CASH_IN</td>\n",
       "      <td>79083.65</td>\n",
       "      <td>C108745493</td>\n",
       "      <td>5489716.32</td>\n",
       "      <td>5568799.97</td>\n",
       "      <td>C1167754301</td>\n",
       "      <td>153219.51</td>\n",
       "      <td>74135.86</td>\n",
       "      <td>0</td>\n",
       "      <td>120014</td>\n",
       "    </tr>\n",
       "    <tr>\n",
       "      <th>2</th>\n",
       "      <td>10</td>\n",
       "      <td>TRANSFER</td>\n",
       "      <td>2336832.78</td>\n",
       "      <td>C975415534</td>\n",
       "      <td>147958.78</td>\n",
       "      <td>0.00</td>\n",
       "      <td>C718985478</td>\n",
       "      <td>5069347.06</td>\n",
       "      <td>7307970.46</td>\n",
       "      <td>0</td>\n",
       "      <td>623141</td>\n",
       "    </tr>\n",
       "    <tr>\n",
       "      <th>3</th>\n",
       "      <td>238</td>\n",
       "      <td>TRANSFER</td>\n",
       "      <td>228517.91</td>\n",
       "      <td>C1968162743</td>\n",
       "      <td>0.00</td>\n",
       "      <td>0.00</td>\n",
       "      <td>C1544755390</td>\n",
       "      <td>18768561.09</td>\n",
       "      <td>18997079.00</td>\n",
       "      <td>0</td>\n",
       "      <td>547737</td>\n",
       "    </tr>\n",
       "    <tr>\n",
       "      <th>4</th>\n",
       "      <td>133</td>\n",
       "      <td>CASH_IN</td>\n",
       "      <td>180179.73</td>\n",
       "      <td>C467196066</td>\n",
       "      <td>21448.00</td>\n",
       "      <td>201627.73</td>\n",
       "      <td>C1386847873</td>\n",
       "      <td>7160295.13</td>\n",
       "      <td>6980115.40</td>\n",
       "      <td>0</td>\n",
       "      <td>569291</td>\n",
       "    </tr>\n",
       "  </tbody>\n",
       "</table>\n",
       "</div>"
      ],
      "text/plain": [
       "   step      type      amount     nameOrig  oldbalanceOrg  newbalanceOrig  \\\n",
       "0   303   CASH_IN   185164.71  C1499985475     3075480.01      3260644.72   \n",
       "1   356   CASH_IN    79083.65   C108745493     5489716.32      5568799.97   \n",
       "2    10  TRANSFER  2336832.78   C975415534      147958.78            0.00   \n",
       "3   238  TRANSFER   228517.91  C1968162743           0.00            0.00   \n",
       "4   133   CASH_IN   180179.73   C467196066       21448.00       201627.73   \n",
       "\n",
       "      nameDest  oldbalanceDest  newbalanceDest  isFraud      id  \n",
       "0  C1771727877       881991.88       696827.18        0  540576  \n",
       "1  C1167754301       153219.51        74135.86        0  120014  \n",
       "2   C718985478      5069347.06      7307970.46        0  623141  \n",
       "3  C1544755390     18768561.09     18997079.00        0  547737  \n",
       "4  C1386847873      7160295.13      6980115.40        0  569291  "
      ]
     },
     "execution_count": 2,
     "metadata": {},
     "output_type": "execute_result"
    }
   ],
   "source": [
    "df = pd.read_csv('train.csv')\n",
    "df.head()\n",
    "# importing data set"
   ]
  },
  {
   "cell_type": "code",
   "execution_count": 3,
   "metadata": {
    "collapsed": false
   },
   "outputs": [
    {
     "name": "stdout",
     "output_type": "stream",
     "text": [
      "<class 'pandas.core.frame.DataFrame'>\n",
      "RangeIndex: 509009 entries, 0 to 509008\n",
      "Data columns (total 11 columns):\n",
      "step              509009 non-null int64\n",
      "type              509009 non-null object\n",
      "amount            509009 non-null float64\n",
      "nameOrig          509009 non-null object\n",
      "oldbalanceOrg     509009 non-null float64\n",
      "newbalanceOrig    509009 non-null float64\n",
      "nameDest          509009 non-null object\n",
      "oldbalanceDest    509009 non-null float64\n",
      "newbalanceDest    509009 non-null float64\n",
      "isFraud           509009 non-null int64\n",
      "id                509009 non-null int64\n",
      "dtypes: float64(5), int64(3), object(3)\n",
      "memory usage: 42.7+ MB\n"
     ]
    }
   ],
   "source": [
    "df.info()"
   ]
  },
  {
   "cell_type": "code",
   "execution_count": 4,
   "metadata": {
    "collapsed": false
   },
   "outputs": [
    {
     "data": {
      "text/html": [
       "<div>\n",
       "<table border=\"1\" class=\"dataframe\">\n",
       "  <thead>\n",
       "    <tr style=\"text-align: right;\">\n",
       "      <th></th>\n",
       "      <th>step</th>\n",
       "      <th>type</th>\n",
       "      <th>amount</th>\n",
       "      <th>nameOrig</th>\n",
       "      <th>oldbalanceOrg</th>\n",
       "      <th>newbalanceOrig</th>\n",
       "      <th>nameDest</th>\n",
       "      <th>oldbalanceDest</th>\n",
       "      <th>newbalanceDest</th>\n",
       "      <th>isFraud</th>\n",
       "      <th>id</th>\n",
       "      <th>Recipient</th>\n",
       "    </tr>\n",
       "  </thead>\n",
       "  <tbody>\n",
       "    <tr>\n",
       "      <th>0</th>\n",
       "      <td>303</td>\n",
       "      <td>CASH_IN</td>\n",
       "      <td>185164.71</td>\n",
       "      <td>C1499985475</td>\n",
       "      <td>3075480.01</td>\n",
       "      <td>3260644.72</td>\n",
       "      <td>C1771727877</td>\n",
       "      <td>881991.88</td>\n",
       "      <td>696827.18</td>\n",
       "      <td>0</td>\n",
       "      <td>540576</td>\n",
       "      <td>C</td>\n",
       "    </tr>\n",
       "    <tr>\n",
       "      <th>1</th>\n",
       "      <td>356</td>\n",
       "      <td>CASH_IN</td>\n",
       "      <td>79083.65</td>\n",
       "      <td>C108745493</td>\n",
       "      <td>5489716.32</td>\n",
       "      <td>5568799.97</td>\n",
       "      <td>C1167754301</td>\n",
       "      <td>153219.51</td>\n",
       "      <td>74135.86</td>\n",
       "      <td>0</td>\n",
       "      <td>120014</td>\n",
       "      <td>C</td>\n",
       "    </tr>\n",
       "    <tr>\n",
       "      <th>2</th>\n",
       "      <td>10</td>\n",
       "      <td>TRANSFER</td>\n",
       "      <td>2336832.78</td>\n",
       "      <td>C975415534</td>\n",
       "      <td>147958.78</td>\n",
       "      <td>0.00</td>\n",
       "      <td>C718985478</td>\n",
       "      <td>5069347.06</td>\n",
       "      <td>7307970.46</td>\n",
       "      <td>0</td>\n",
       "      <td>623141</td>\n",
       "      <td>C</td>\n",
       "    </tr>\n",
       "    <tr>\n",
       "      <th>3</th>\n",
       "      <td>238</td>\n",
       "      <td>TRANSFER</td>\n",
       "      <td>228517.91</td>\n",
       "      <td>C1968162743</td>\n",
       "      <td>0.00</td>\n",
       "      <td>0.00</td>\n",
       "      <td>C1544755390</td>\n",
       "      <td>18768561.09</td>\n",
       "      <td>18997079.00</td>\n",
       "      <td>0</td>\n",
       "      <td>547737</td>\n",
       "      <td>C</td>\n",
       "    </tr>\n",
       "    <tr>\n",
       "      <th>4</th>\n",
       "      <td>133</td>\n",
       "      <td>CASH_IN</td>\n",
       "      <td>180179.73</td>\n",
       "      <td>C467196066</td>\n",
       "      <td>21448.00</td>\n",
       "      <td>201627.73</td>\n",
       "      <td>C1386847873</td>\n",
       "      <td>7160295.13</td>\n",
       "      <td>6980115.40</td>\n",
       "      <td>0</td>\n",
       "      <td>569291</td>\n",
       "      <td>C</td>\n",
       "    </tr>\n",
       "  </tbody>\n",
       "</table>\n",
       "</div>"
      ],
      "text/plain": [
       "   step      type      amount     nameOrig  oldbalanceOrg  newbalanceOrig  \\\n",
       "0   303   CASH_IN   185164.71  C1499985475     3075480.01      3260644.72   \n",
       "1   356   CASH_IN    79083.65   C108745493     5489716.32      5568799.97   \n",
       "2    10  TRANSFER  2336832.78   C975415534      147958.78            0.00   \n",
       "3   238  TRANSFER   228517.91  C1968162743           0.00            0.00   \n",
       "4   133   CASH_IN   180179.73   C467196066       21448.00       201627.73   \n",
       "\n",
       "      nameDest  oldbalanceDest  newbalanceDest  isFraud      id Recipient  \n",
       "0  C1771727877       881991.88       696827.18        0  540576         C  \n",
       "1  C1167754301       153219.51        74135.86        0  120014         C  \n",
       "2   C718985478      5069347.06      7307970.46        0  623141         C  \n",
       "3  C1544755390     18768561.09     18997079.00        0  547737         C  \n",
       "4  C1386847873      7160295.13      6980115.40        0  569291         C  "
      ]
     },
     "execution_count": 4,
     "metadata": {},
     "output_type": "execute_result"
    }
   ],
   "source": [
    "df['Recipient'] = df['nameDest'].str[:1]\n",
    "df.head()\n",
    "# Splitting nameDest to retain letter"
   ]
  },
  {
   "cell_type": "code",
   "execution_count": 5,
   "metadata": {
    "collapsed": false
   },
   "outputs": [
    {
     "data": {
      "text/html": [
       "<div>\n",
       "<table border=\"1\" class=\"dataframe\">\n",
       "  <thead>\n",
       "    <tr style=\"text-align: right;\">\n",
       "      <th></th>\n",
       "      <th>step</th>\n",
       "      <th>type</th>\n",
       "      <th>amount</th>\n",
       "      <th>oldbalanceOrg</th>\n",
       "      <th>newbalanceOrig</th>\n",
       "      <th>oldbalanceDest</th>\n",
       "      <th>newbalanceDest</th>\n",
       "      <th>isFraud</th>\n",
       "      <th>Recipient</th>\n",
       "    </tr>\n",
       "  </thead>\n",
       "  <tbody>\n",
       "    <tr>\n",
       "      <th>0</th>\n",
       "      <td>303</td>\n",
       "      <td>CASH_IN</td>\n",
       "      <td>185164.71</td>\n",
       "      <td>3075480.01</td>\n",
       "      <td>3260644.72</td>\n",
       "      <td>881991.88</td>\n",
       "      <td>696827.18</td>\n",
       "      <td>0</td>\n",
       "      <td>C</td>\n",
       "    </tr>\n",
       "    <tr>\n",
       "      <th>1</th>\n",
       "      <td>356</td>\n",
       "      <td>CASH_IN</td>\n",
       "      <td>79083.65</td>\n",
       "      <td>5489716.32</td>\n",
       "      <td>5568799.97</td>\n",
       "      <td>153219.51</td>\n",
       "      <td>74135.86</td>\n",
       "      <td>0</td>\n",
       "      <td>C</td>\n",
       "    </tr>\n",
       "    <tr>\n",
       "      <th>2</th>\n",
       "      <td>10</td>\n",
       "      <td>TRANSFER</td>\n",
       "      <td>2336832.78</td>\n",
       "      <td>147958.78</td>\n",
       "      <td>0.00</td>\n",
       "      <td>5069347.06</td>\n",
       "      <td>7307970.46</td>\n",
       "      <td>0</td>\n",
       "      <td>C</td>\n",
       "    </tr>\n",
       "    <tr>\n",
       "      <th>3</th>\n",
       "      <td>238</td>\n",
       "      <td>TRANSFER</td>\n",
       "      <td>228517.91</td>\n",
       "      <td>0.00</td>\n",
       "      <td>0.00</td>\n",
       "      <td>18768561.09</td>\n",
       "      <td>18997079.00</td>\n",
       "      <td>0</td>\n",
       "      <td>C</td>\n",
       "    </tr>\n",
       "    <tr>\n",
       "      <th>4</th>\n",
       "      <td>133</td>\n",
       "      <td>CASH_IN</td>\n",
       "      <td>180179.73</td>\n",
       "      <td>21448.00</td>\n",
       "      <td>201627.73</td>\n",
       "      <td>7160295.13</td>\n",
       "      <td>6980115.40</td>\n",
       "      <td>0</td>\n",
       "      <td>C</td>\n",
       "    </tr>\n",
       "  </tbody>\n",
       "</table>\n",
       "</div>"
      ],
      "text/plain": [
       "   step      type      amount  oldbalanceOrg  newbalanceOrig  oldbalanceDest  \\\n",
       "0   303   CASH_IN   185164.71     3075480.01      3260644.72       881991.88   \n",
       "1   356   CASH_IN    79083.65     5489716.32      5568799.97       153219.51   \n",
       "2    10  TRANSFER  2336832.78      147958.78            0.00      5069347.06   \n",
       "3   238  TRANSFER   228517.91           0.00            0.00     18768561.09   \n",
       "4   133   CASH_IN   180179.73       21448.00       201627.73      7160295.13   \n",
       "\n",
       "   newbalanceDest  isFraud Recipient  \n",
       "0       696827.18        0         C  \n",
       "1        74135.86        0         C  \n",
       "2      7307970.46        0         C  \n",
       "3     18997079.00        0         C  \n",
       "4      6980115.40        0         C  "
      ]
     },
     "execution_count": 5,
     "metadata": {},
     "output_type": "execute_result"
    }
   ],
   "source": [
    "df1 = df.ix[:, [0, 1, 2, 4, 5, 7, 8, 9, 11]]\n",
    "df1.head()\n",
    "# dropping unwanted columns"
   ]
  },
  {
   "cell_type": "code",
   "execution_count": 6,
   "metadata": {
    "collapsed": false,
    "scrolled": true
   },
   "outputs": [
    {
     "data": {
      "text/html": [
       "<div>\n",
       "<table border=\"1\" class=\"dataframe\">\n",
       "  <thead>\n",
       "    <tr style=\"text-align: right;\">\n",
       "      <th></th>\n",
       "      <th>step</th>\n",
       "      <th>amount</th>\n",
       "      <th>oldbalanceOrg</th>\n",
       "      <th>newbalanceOrig</th>\n",
       "      <th>oldbalanceDest</th>\n",
       "      <th>newbalanceDest</th>\n",
       "      <th>isFraud</th>\n",
       "      <th>was_CASH_IN</th>\n",
       "      <th>was_CASH_OUT</th>\n",
       "      <th>was_DEBIT</th>\n",
       "      <th>was_PAYMENT</th>\n",
       "      <th>was_TRANSFER</th>\n",
       "      <th>was_C</th>\n",
       "      <th>was_M</th>\n",
       "    </tr>\n",
       "  </thead>\n",
       "  <tbody>\n",
       "    <tr>\n",
       "      <th>0</th>\n",
       "      <td>303</td>\n",
       "      <td>185164.71</td>\n",
       "      <td>3075480.01</td>\n",
       "      <td>3260644.72</td>\n",
       "      <td>881991.88</td>\n",
       "      <td>696827.18</td>\n",
       "      <td>0</td>\n",
       "      <td>1.0</td>\n",
       "      <td>0.0</td>\n",
       "      <td>0.0</td>\n",
       "      <td>0.0</td>\n",
       "      <td>0.0</td>\n",
       "      <td>1.0</td>\n",
       "      <td>0.0</td>\n",
       "    </tr>\n",
       "    <tr>\n",
       "      <th>1</th>\n",
       "      <td>356</td>\n",
       "      <td>79083.65</td>\n",
       "      <td>5489716.32</td>\n",
       "      <td>5568799.97</td>\n",
       "      <td>153219.51</td>\n",
       "      <td>74135.86</td>\n",
       "      <td>0</td>\n",
       "      <td>1.0</td>\n",
       "      <td>0.0</td>\n",
       "      <td>0.0</td>\n",
       "      <td>0.0</td>\n",
       "      <td>0.0</td>\n",
       "      <td>1.0</td>\n",
       "      <td>0.0</td>\n",
       "    </tr>\n",
       "    <tr>\n",
       "      <th>2</th>\n",
       "      <td>10</td>\n",
       "      <td>2336832.78</td>\n",
       "      <td>147958.78</td>\n",
       "      <td>0.00</td>\n",
       "      <td>5069347.06</td>\n",
       "      <td>7307970.46</td>\n",
       "      <td>0</td>\n",
       "      <td>0.0</td>\n",
       "      <td>0.0</td>\n",
       "      <td>0.0</td>\n",
       "      <td>0.0</td>\n",
       "      <td>1.0</td>\n",
       "      <td>1.0</td>\n",
       "      <td>0.0</td>\n",
       "    </tr>\n",
       "    <tr>\n",
       "      <th>3</th>\n",
       "      <td>238</td>\n",
       "      <td>228517.91</td>\n",
       "      <td>0.00</td>\n",
       "      <td>0.00</td>\n",
       "      <td>18768561.09</td>\n",
       "      <td>18997079.00</td>\n",
       "      <td>0</td>\n",
       "      <td>0.0</td>\n",
       "      <td>0.0</td>\n",
       "      <td>0.0</td>\n",
       "      <td>0.0</td>\n",
       "      <td>1.0</td>\n",
       "      <td>1.0</td>\n",
       "      <td>0.0</td>\n",
       "    </tr>\n",
       "    <tr>\n",
       "      <th>4</th>\n",
       "      <td>133</td>\n",
       "      <td>180179.73</td>\n",
       "      <td>21448.00</td>\n",
       "      <td>201627.73</td>\n",
       "      <td>7160295.13</td>\n",
       "      <td>6980115.40</td>\n",
       "      <td>0</td>\n",
       "      <td>1.0</td>\n",
       "      <td>0.0</td>\n",
       "      <td>0.0</td>\n",
       "      <td>0.0</td>\n",
       "      <td>0.0</td>\n",
       "      <td>1.0</td>\n",
       "      <td>0.0</td>\n",
       "    </tr>\n",
       "  </tbody>\n",
       "</table>\n",
       "</div>"
      ],
      "text/plain": [
       "   step      amount  oldbalanceOrg  newbalanceOrig  oldbalanceDest  \\\n",
       "0   303   185164.71     3075480.01      3260644.72       881991.88   \n",
       "1   356    79083.65     5489716.32      5568799.97       153219.51   \n",
       "2    10  2336832.78      147958.78            0.00      5069347.06   \n",
       "3   238   228517.91           0.00            0.00     18768561.09   \n",
       "4   133   180179.73       21448.00       201627.73      7160295.13   \n",
       "\n",
       "   newbalanceDest  isFraud  was_CASH_IN  was_CASH_OUT  was_DEBIT  was_PAYMENT  \\\n",
       "0       696827.18        0          1.0           0.0        0.0          0.0   \n",
       "1        74135.86        0          1.0           0.0        0.0          0.0   \n",
       "2      7307970.46        0          0.0           0.0        0.0          0.0   \n",
       "3     18997079.00        0          0.0           0.0        0.0          0.0   \n",
       "4      6980115.40        0          1.0           0.0        0.0          0.0   \n",
       "\n",
       "   was_TRANSFER  was_C  was_M  \n",
       "0           0.0    1.0    0.0  \n",
       "1           0.0    1.0    0.0  \n",
       "2           1.0    1.0    0.0  \n",
       "3           1.0    1.0    0.0  \n",
       "4           0.0    1.0    0.0  "
      ]
     },
     "execution_count": 6,
     "metadata": {},
     "output_type": "execute_result"
    }
   ],
   "source": [
    "df1 = pd.get_dummies(df1, prefix='was', prefix_sep='_')\n",
    "df1.head()\n",
    "# encoding categorical features"
   ]
  },
  {
   "cell_type": "code",
   "execution_count": 7,
   "metadata": {
    "collapsed": false
   },
   "outputs": [
    {
     "name": "stdout",
     "output_type": "stream",
     "text": [
      "['oldbalanceDest', 'was_C', 'amount', 'was_M', 'was_TRANSFER', 'was_CASH_IN', 'newbalanceDest', 'newbalanceOrig', 'was_PAYMENT', 'was_CASH_OUT', 'was_DEBIT', 'oldbalanceOrg', 'step']\n"
     ]
    }
   ],
   "source": [
    "features = list(set(df1.columns) - {'isFraud'})\n",
    "print(features)\n",
    "# setting features to a list"
   ]
  },
  {
   "cell_type": "code",
   "execution_count": 8,
   "metadata": {
    "collapsed": false
   },
   "outputs": [
    {
     "data": {
      "text/plain": [
       "KMeans(algorithm='auto', copy_x=True, init='k-means++', max_iter=300,\n",
       "    n_clusters=25, n_init=10, n_jobs=-1, precompute_distances='auto',\n",
       "    random_state=0, tol=0.0001, verbose=0)"
      ]
     },
     "execution_count": 8,
     "metadata": {},
     "output_type": "execute_result"
    }
   ],
   "source": [
    "kmeans = KMeans(n_clusters=25, random_state=0, n_jobs=-1)\n",
    "kmeans.fit(df1[features])\n",
    "# breaking data into 25 clusters based on features"
   ]
  },
  {
   "cell_type": "code",
   "execution_count": 9,
   "metadata": {
    "collapsed": true
   },
   "outputs": [],
   "source": [
    "predictedLabels = kmeans.predict(df1[features])\n",
    "df1['predictedCluster'] = predictedLabels\n",
    "df1['predictedCluster'] = df1.predictedCluster.astype('object')\n",
    "# setting predicted clusters to variable\n",
    "# adding predicted clusters to df1\n",
    "# setting new feature dtype"
   ]
  },
  {
   "cell_type": "code",
   "execution_count": 10,
   "metadata": {
    "collapsed": false
   },
   "outputs": [
    {
     "data": {
      "text/html": [
       "<div>\n",
       "<table border=\"1\" class=\"dataframe\">\n",
       "  <thead>\n",
       "    <tr style=\"text-align: right;\">\n",
       "      <th></th>\n",
       "      <th>step</th>\n",
       "      <th>amount</th>\n",
       "      <th>oldbalanceOrg</th>\n",
       "      <th>newbalanceOrig</th>\n",
       "      <th>oldbalanceDest</th>\n",
       "      <th>newbalanceDest</th>\n",
       "      <th>isFraud</th>\n",
       "      <th>was_CASH_IN</th>\n",
       "      <th>was_CASH_OUT</th>\n",
       "      <th>was_DEBIT</th>\n",
       "      <th>was_PAYMENT</th>\n",
       "      <th>was_TRANSFER</th>\n",
       "      <th>was_C</th>\n",
       "      <th>was_M</th>\n",
       "      <th>predictedCluster</th>\n",
       "    </tr>\n",
       "  </thead>\n",
       "  <tbody>\n",
       "    <tr>\n",
       "      <th>0</th>\n",
       "      <td>303</td>\n",
       "      <td>185164.71</td>\n",
       "      <td>3075480.01</td>\n",
       "      <td>3260644.72</td>\n",
       "      <td>881991.88</td>\n",
       "      <td>696827.18</td>\n",
       "      <td>0</td>\n",
       "      <td>1.0</td>\n",
       "      <td>0.0</td>\n",
       "      <td>0.0</td>\n",
       "      <td>0.0</td>\n",
       "      <td>0.0</td>\n",
       "      <td>1.0</td>\n",
       "      <td>0.0</td>\n",
       "      <td>11</td>\n",
       "    </tr>\n",
       "    <tr>\n",
       "      <th>1</th>\n",
       "      <td>356</td>\n",
       "      <td>79083.65</td>\n",
       "      <td>5489716.32</td>\n",
       "      <td>5568799.97</td>\n",
       "      <td>153219.51</td>\n",
       "      <td>74135.86</td>\n",
       "      <td>0</td>\n",
       "      <td>1.0</td>\n",
       "      <td>0.0</td>\n",
       "      <td>0.0</td>\n",
       "      <td>0.0</td>\n",
       "      <td>0.0</td>\n",
       "      <td>1.0</td>\n",
       "      <td>0.0</td>\n",
       "      <td>19</td>\n",
       "    </tr>\n",
       "    <tr>\n",
       "      <th>2</th>\n",
       "      <td>10</td>\n",
       "      <td>2336832.78</td>\n",
       "      <td>147958.78</td>\n",
       "      <td>0.00</td>\n",
       "      <td>5069347.06</td>\n",
       "      <td>7307970.46</td>\n",
       "      <td>0</td>\n",
       "      <td>0.0</td>\n",
       "      <td>0.0</td>\n",
       "      <td>0.0</td>\n",
       "      <td>0.0</td>\n",
       "      <td>1.0</td>\n",
       "      <td>1.0</td>\n",
       "      <td>0.0</td>\n",
       "      <td>7</td>\n",
       "    </tr>\n",
       "    <tr>\n",
       "      <th>3</th>\n",
       "      <td>238</td>\n",
       "      <td>228517.91</td>\n",
       "      <td>0.00</td>\n",
       "      <td>0.00</td>\n",
       "      <td>18768561.09</td>\n",
       "      <td>18997079.00</td>\n",
       "      <td>0</td>\n",
       "      <td>0.0</td>\n",
       "      <td>0.0</td>\n",
       "      <td>0.0</td>\n",
       "      <td>0.0</td>\n",
       "      <td>1.0</td>\n",
       "      <td>1.0</td>\n",
       "      <td>0.0</td>\n",
       "      <td>2</td>\n",
       "    </tr>\n",
       "    <tr>\n",
       "      <th>4</th>\n",
       "      <td>133</td>\n",
       "      <td>180179.73</td>\n",
       "      <td>21448.00</td>\n",
       "      <td>201627.73</td>\n",
       "      <td>7160295.13</td>\n",
       "      <td>6980115.40</td>\n",
       "      <td>0</td>\n",
       "      <td>1.0</td>\n",
       "      <td>0.0</td>\n",
       "      <td>0.0</td>\n",
       "      <td>0.0</td>\n",
       "      <td>0.0</td>\n",
       "      <td>1.0</td>\n",
       "      <td>0.0</td>\n",
       "      <td>18</td>\n",
       "    </tr>\n",
       "  </tbody>\n",
       "</table>\n",
       "</div>"
      ],
      "text/plain": [
       "   step      amount  oldbalanceOrg  newbalanceOrig  oldbalanceDest  \\\n",
       "0   303   185164.71     3075480.01      3260644.72       881991.88   \n",
       "1   356    79083.65     5489716.32      5568799.97       153219.51   \n",
       "2    10  2336832.78      147958.78            0.00      5069347.06   \n",
       "3   238   228517.91           0.00            0.00     18768561.09   \n",
       "4   133   180179.73       21448.00       201627.73      7160295.13   \n",
       "\n",
       "   newbalanceDest  isFraud  was_CASH_IN  was_CASH_OUT  was_DEBIT  was_PAYMENT  \\\n",
       "0       696827.18        0          1.0           0.0        0.0          0.0   \n",
       "1        74135.86        0          1.0           0.0        0.0          0.0   \n",
       "2      7307970.46        0          0.0           0.0        0.0          0.0   \n",
       "3     18997079.00        0          0.0           0.0        0.0          0.0   \n",
       "4      6980115.40        0          1.0           0.0        0.0          0.0   \n",
       "\n",
       "   was_TRANSFER  was_C  was_M predictedCluster  \n",
       "0           0.0    1.0    0.0               11  \n",
       "1           0.0    1.0    0.0               19  \n",
       "2           1.0    1.0    0.0                7  \n",
       "3           1.0    1.0    0.0                2  \n",
       "4           0.0    1.0    0.0               18  "
      ]
     },
     "execution_count": 10,
     "metadata": {},
     "output_type": "execute_result"
    }
   ],
   "source": [
    "df1.head()\n",
    "# confirming cluster transformation"
   ]
  },
  {
   "cell_type": "code",
   "execution_count": 11,
   "metadata": {
    "collapsed": false
   },
   "outputs": [
    {
     "data": {
      "text/html": [
       "<div>\n",
       "<table border=\"1\" class=\"dataframe\">\n",
       "  <thead>\n",
       "    <tr style=\"text-align: right;\">\n",
       "      <th></th>\n",
       "      <th>step</th>\n",
       "      <th>amount</th>\n",
       "      <th>oldbalanceOrg</th>\n",
       "      <th>newbalanceOrig</th>\n",
       "      <th>oldbalanceDest</th>\n",
       "      <th>newbalanceDest</th>\n",
       "      <th>isFraud</th>\n",
       "      <th>was_CASH_IN</th>\n",
       "      <th>was_CASH_OUT</th>\n",
       "      <th>was_DEBIT</th>\n",
       "      <th>...</th>\n",
       "      <th>was_15</th>\n",
       "      <th>was_16</th>\n",
       "      <th>was_17</th>\n",
       "      <th>was_18</th>\n",
       "      <th>was_19</th>\n",
       "      <th>was_20</th>\n",
       "      <th>was_21</th>\n",
       "      <th>was_22</th>\n",
       "      <th>was_23</th>\n",
       "      <th>was_24</th>\n",
       "    </tr>\n",
       "  </thead>\n",
       "  <tbody>\n",
       "    <tr>\n",
       "      <th>0</th>\n",
       "      <td>303</td>\n",
       "      <td>185164.71</td>\n",
       "      <td>3075480.01</td>\n",
       "      <td>3260644.72</td>\n",
       "      <td>881991.88</td>\n",
       "      <td>696827.18</td>\n",
       "      <td>0</td>\n",
       "      <td>1.0</td>\n",
       "      <td>0.0</td>\n",
       "      <td>0.0</td>\n",
       "      <td>...</td>\n",
       "      <td>0.0</td>\n",
       "      <td>0.0</td>\n",
       "      <td>0.0</td>\n",
       "      <td>0.0</td>\n",
       "      <td>0.0</td>\n",
       "      <td>0.0</td>\n",
       "      <td>0.0</td>\n",
       "      <td>0.0</td>\n",
       "      <td>0.0</td>\n",
       "      <td>0.0</td>\n",
       "    </tr>\n",
       "    <tr>\n",
       "      <th>1</th>\n",
       "      <td>356</td>\n",
       "      <td>79083.65</td>\n",
       "      <td>5489716.32</td>\n",
       "      <td>5568799.97</td>\n",
       "      <td>153219.51</td>\n",
       "      <td>74135.86</td>\n",
       "      <td>0</td>\n",
       "      <td>1.0</td>\n",
       "      <td>0.0</td>\n",
       "      <td>0.0</td>\n",
       "      <td>...</td>\n",
       "      <td>0.0</td>\n",
       "      <td>0.0</td>\n",
       "      <td>0.0</td>\n",
       "      <td>0.0</td>\n",
       "      <td>1.0</td>\n",
       "      <td>0.0</td>\n",
       "      <td>0.0</td>\n",
       "      <td>0.0</td>\n",
       "      <td>0.0</td>\n",
       "      <td>0.0</td>\n",
       "    </tr>\n",
       "    <tr>\n",
       "      <th>2</th>\n",
       "      <td>10</td>\n",
       "      <td>2336832.78</td>\n",
       "      <td>147958.78</td>\n",
       "      <td>0.00</td>\n",
       "      <td>5069347.06</td>\n",
       "      <td>7307970.46</td>\n",
       "      <td>0</td>\n",
       "      <td>0.0</td>\n",
       "      <td>0.0</td>\n",
       "      <td>0.0</td>\n",
       "      <td>...</td>\n",
       "      <td>0.0</td>\n",
       "      <td>0.0</td>\n",
       "      <td>0.0</td>\n",
       "      <td>0.0</td>\n",
       "      <td>0.0</td>\n",
       "      <td>0.0</td>\n",
       "      <td>0.0</td>\n",
       "      <td>0.0</td>\n",
       "      <td>0.0</td>\n",
       "      <td>0.0</td>\n",
       "    </tr>\n",
       "    <tr>\n",
       "      <th>3</th>\n",
       "      <td>238</td>\n",
       "      <td>228517.91</td>\n",
       "      <td>0.00</td>\n",
       "      <td>0.00</td>\n",
       "      <td>18768561.09</td>\n",
       "      <td>18997079.00</td>\n",
       "      <td>0</td>\n",
       "      <td>0.0</td>\n",
       "      <td>0.0</td>\n",
       "      <td>0.0</td>\n",
       "      <td>...</td>\n",
       "      <td>0.0</td>\n",
       "      <td>0.0</td>\n",
       "      <td>0.0</td>\n",
       "      <td>0.0</td>\n",
       "      <td>0.0</td>\n",
       "      <td>0.0</td>\n",
       "      <td>0.0</td>\n",
       "      <td>0.0</td>\n",
       "      <td>0.0</td>\n",
       "      <td>0.0</td>\n",
       "    </tr>\n",
       "    <tr>\n",
       "      <th>4</th>\n",
       "      <td>133</td>\n",
       "      <td>180179.73</td>\n",
       "      <td>21448.00</td>\n",
       "      <td>201627.73</td>\n",
       "      <td>7160295.13</td>\n",
       "      <td>6980115.40</td>\n",
       "      <td>0</td>\n",
       "      <td>1.0</td>\n",
       "      <td>0.0</td>\n",
       "      <td>0.0</td>\n",
       "      <td>...</td>\n",
       "      <td>0.0</td>\n",
       "      <td>0.0</td>\n",
       "      <td>0.0</td>\n",
       "      <td>1.0</td>\n",
       "      <td>0.0</td>\n",
       "      <td>0.0</td>\n",
       "      <td>0.0</td>\n",
       "      <td>0.0</td>\n",
       "      <td>0.0</td>\n",
       "      <td>0.0</td>\n",
       "    </tr>\n",
       "  </tbody>\n",
       "</table>\n",
       "<p>5 rows × 39 columns</p>\n",
       "</div>"
      ],
      "text/plain": [
       "   step      amount  oldbalanceOrg  newbalanceOrig  oldbalanceDest  \\\n",
       "0   303   185164.71     3075480.01      3260644.72       881991.88   \n",
       "1   356    79083.65     5489716.32      5568799.97       153219.51   \n",
       "2    10  2336832.78      147958.78            0.00      5069347.06   \n",
       "3   238   228517.91           0.00            0.00     18768561.09   \n",
       "4   133   180179.73       21448.00       201627.73      7160295.13   \n",
       "\n",
       "   newbalanceDest  isFraud  was_CASH_IN  was_CASH_OUT  was_DEBIT   ...    \\\n",
       "0       696827.18        0          1.0           0.0        0.0   ...     \n",
       "1        74135.86        0          1.0           0.0        0.0   ...     \n",
       "2      7307970.46        0          0.0           0.0        0.0   ...     \n",
       "3     18997079.00        0          0.0           0.0        0.0   ...     \n",
       "4      6980115.40        0          1.0           0.0        0.0   ...     \n",
       "\n",
       "   was_15  was_16  was_17  was_18  was_19  was_20  was_21  was_22  was_23  \\\n",
       "0     0.0     0.0     0.0     0.0     0.0     0.0     0.0     0.0     0.0   \n",
       "1     0.0     0.0     0.0     0.0     1.0     0.0     0.0     0.0     0.0   \n",
       "2     0.0     0.0     0.0     0.0     0.0     0.0     0.0     0.0     0.0   \n",
       "3     0.0     0.0     0.0     0.0     0.0     0.0     0.0     0.0     0.0   \n",
       "4     0.0     0.0     0.0     1.0     0.0     0.0     0.0     0.0     0.0   \n",
       "\n",
       "   was_24  \n",
       "0     0.0  \n",
       "1     0.0  \n",
       "2     0.0  \n",
       "3     0.0  \n",
       "4     0.0  \n",
       "\n",
       "[5 rows x 39 columns]"
      ]
     },
     "execution_count": 11,
     "metadata": {},
     "output_type": "execute_result"
    }
   ],
   "source": [
    "df1 = pd.get_dummies(df1, prefix='was', prefix_sep='_')\n",
    "df1.head()\n",
    "# encoding new categorical feature"
   ]
  },
  {
   "cell_type": "code",
   "execution_count": 12,
   "metadata": {
    "collapsed": false
   },
   "outputs": [
    {
     "name": "stdout",
     "output_type": "stream",
     "text": [
      "['was_21', 'was_C', 'amount', 'was_M', 'was_14', 'was_PAYMENT', 'was_5', 'was_13', 'was_TRANSFER', 'was_20', 'was_7', 'was_24', 'was_0', 'was_10', 'oldbalanceOrg', 'was_17', 'newbalanceOrig', 'step', 'was_CASH_OUT', 'was_19', 'was_15', 'was_12', 'newbalanceDest', 'was_3', 'was_4', 'was_23', 'was_18', 'was_DEBIT', 'was_6', 'was_11', 'oldbalanceDest', 'was_CASH_IN', 'was_2', 'was_9', 'was_22', 'was_16', 'was_8', 'was_1']\n"
     ]
    }
   ],
   "source": [
    "features1 = list(set(df1.columns) - {'isFraud'})\n",
    "print(features1)\n",
    "# setting features to a list due to additions"
   ]
  },
  {
   "cell_type": "code",
   "execution_count": 13,
   "metadata": {
    "collapsed": false
   },
   "outputs": [
    {
     "data": {
      "text/plain": [
       "(509009, 39)"
      ]
     },
     "execution_count": 13,
     "metadata": {},
     "output_type": "execute_result"
    }
   ],
   "source": [
    "df1.shape\n",
    "# 509009 row & 39 columns\n",
    "# 27 total columns added"
   ]
  },
  {
   "cell_type": "code",
   "execution_count": 14,
   "metadata": {
    "collapsed": false
   },
   "outputs": [
    {
     "data": {
      "text/plain": [
       "RandomForestClassifier(bootstrap=True, class_weight=None, criterion='gini',\n",
       "            max_depth=None, max_features='auto', max_leaf_nodes=None,\n",
       "            min_impurity_split=1e-07, min_samples_leaf=1,\n",
       "            min_samples_split=2, min_weight_fraction_leaf=0.0,\n",
       "            n_estimators=125, n_jobs=-1, oob_score=False, random_state=0,\n",
       "            verbose=0, warm_start=False)"
      ]
     },
     "execution_count": 14,
     "metadata": {},
     "output_type": "execute_result"
    }
   ],
   "source": [
    "model = RandomForestClassifier(n_estimators=125, n_jobs=-1, random_state=0)\n",
    "model.fit(df1[features1], df1.isFraud)\n",
    "# fitting the model to the train data set"
   ]
  },
  {
   "cell_type": "code",
   "execution_count": 15,
   "metadata": {
    "collapsed": true
   },
   "outputs": [],
   "source": [
    "kf = StratifiedKFold(n_splits=5)\n",
    "# setting folds to 5"
   ]
  },
  {
   "cell_type": "code",
   "execution_count": 16,
   "metadata": {
    "collapsed": false
   },
   "outputs": [
    {
     "name": "stdout",
     "output_type": "stream",
     "text": [
      "[ 0.99964637  0.99964637  0.99963655  0.99959726  0.99967584]\n",
      "0.999640477939\n"
     ]
    }
   ],
   "source": [
    "kf = StratifiedKFold(n_splits=5, shuffle=True, random_state=0)\n",
    "scores = cross_val_score(model, df1[features1],\n",
    "                         df1.isFraud, scoring='accuracy', cv=kf)\n",
    "print(scores)\n",
    "print(scores.mean())\n",
    "# running kfolds model"
   ]
  },
  {
   "cell_type": "code",
   "execution_count": 17,
   "metadata": {
    "collapsed": false
   },
   "outputs": [
    {
     "name": "stdout",
     "output_type": "stream",
     "text": [
      "Model R^2 score on entire train data: 1.0\n"
     ]
    }
   ],
   "source": [
    "print(\"Model R^2 score on entire train data: %s\" %\n",
    "      model.score(df1[features1], df1.isFraud))\n",
    "# scoring full train set"
   ]
  },
  {
   "cell_type": "code",
   "execution_count": 18,
   "metadata": {
    "collapsed": false,
    "scrolled": true
   },
   "outputs": [
    {
     "data": {
      "text/html": [
       "<div>\n",
       "<table border=\"1\" class=\"dataframe\">\n",
       "  <thead>\n",
       "    <tr style=\"text-align: right;\">\n",
       "      <th></th>\n",
       "      <th>step</th>\n",
       "      <th>type</th>\n",
       "      <th>amount</th>\n",
       "      <th>nameOrig</th>\n",
       "      <th>oldbalanceOrg</th>\n",
       "      <th>newbalanceOrig</th>\n",
       "      <th>nameDest</th>\n",
       "      <th>oldbalanceDest</th>\n",
       "      <th>newbalanceDest</th>\n",
       "      <th>id</th>\n",
       "    </tr>\n",
       "  </thead>\n",
       "  <tbody>\n",
       "    <tr>\n",
       "      <th>0</th>\n",
       "      <td>257</td>\n",
       "      <td>CASH_OUT</td>\n",
       "      <td>208758.36</td>\n",
       "      <td>C1628429873</td>\n",
       "      <td>186770.00</td>\n",
       "      <td>0.00</td>\n",
       "      <td>C703878081</td>\n",
       "      <td>98209.59</td>\n",
       "      <td>306967.94</td>\n",
       "      <td>98777</td>\n",
       "    </tr>\n",
       "    <tr>\n",
       "      <th>1</th>\n",
       "      <td>375</td>\n",
       "      <td>PAYMENT</td>\n",
       "      <td>8078.82</td>\n",
       "      <td>C1642149666</td>\n",
       "      <td>40458.00</td>\n",
       "      <td>32379.18</td>\n",
       "      <td>M1726657457</td>\n",
       "      <td>0.00</td>\n",
       "      <td>0.00</td>\n",
       "      <td>397457</td>\n",
       "    </tr>\n",
       "    <tr>\n",
       "      <th>2</th>\n",
       "      <td>168</td>\n",
       "      <td>CASH_OUT</td>\n",
       "      <td>60783.19</td>\n",
       "      <td>C346779827</td>\n",
       "      <td>0.00</td>\n",
       "      <td>0.00</td>\n",
       "      <td>C1063782390</td>\n",
       "      <td>747531.29</td>\n",
       "      <td>808314.48</td>\n",
       "      <td>592225</td>\n",
       "    </tr>\n",
       "    <tr>\n",
       "      <th>3</th>\n",
       "      <td>590</td>\n",
       "      <td>CASH_IN</td>\n",
       "      <td>267290.88</td>\n",
       "      <td>C713342712</td>\n",
       "      <td>4646500.36</td>\n",
       "      <td>4913791.24</td>\n",
       "      <td>C1390373129</td>\n",
       "      <td>299549.13</td>\n",
       "      <td>32258.25</td>\n",
       "      <td>425029</td>\n",
       "    </tr>\n",
       "    <tr>\n",
       "      <th>4</th>\n",
       "      <td>377</td>\n",
       "      <td>CASH_IN</td>\n",
       "      <td>226575.08</td>\n",
       "      <td>C1831624676</td>\n",
       "      <td>7615712.40</td>\n",
       "      <td>7842287.48</td>\n",
       "      <td>C1453112071</td>\n",
       "      <td>1822519.59</td>\n",
       "      <td>1595944.51</td>\n",
       "      <td>118706</td>\n",
       "    </tr>\n",
       "  </tbody>\n",
       "</table>\n",
       "</div>"
      ],
      "text/plain": [
       "   step      type     amount     nameOrig  oldbalanceOrg  newbalanceOrig  \\\n",
       "0   257  CASH_OUT  208758.36  C1628429873      186770.00            0.00   \n",
       "1   375   PAYMENT    8078.82  C1642149666       40458.00        32379.18   \n",
       "2   168  CASH_OUT   60783.19   C346779827           0.00            0.00   \n",
       "3   590   CASH_IN  267290.88   C713342712     4646500.36      4913791.24   \n",
       "4   377   CASH_IN  226575.08  C1831624676     7615712.40      7842287.48   \n",
       "\n",
       "      nameDest  oldbalanceDest  newbalanceDest      id  \n",
       "0   C703878081        98209.59       306967.94   98777  \n",
       "1  M1726657457            0.00            0.00  397457  \n",
       "2  C1063782390       747531.29       808314.48  592225  \n",
       "3  C1390373129       299549.13        32258.25  425029  \n",
       "4  C1453112071      1822519.59      1595944.51  118706  "
      ]
     },
     "execution_count": 18,
     "metadata": {},
     "output_type": "execute_result"
    }
   ],
   "source": [
    "dftest = pd.read_csv('test.csv')\n",
    "dftest.head()\n",
    "# importing test data set"
   ]
  },
  {
   "cell_type": "code",
   "execution_count": 19,
   "metadata": {
    "collapsed": false,
    "scrolled": true
   },
   "outputs": [
    {
     "data": {
      "text/html": [
       "<div>\n",
       "<table border=\"1\" class=\"dataframe\">\n",
       "  <thead>\n",
       "    <tr style=\"text-align: right;\">\n",
       "      <th></th>\n",
       "      <th>step</th>\n",
       "      <th>type</th>\n",
       "      <th>amount</th>\n",
       "      <th>nameOrig</th>\n",
       "      <th>oldbalanceOrg</th>\n",
       "      <th>newbalanceOrig</th>\n",
       "      <th>nameDest</th>\n",
       "      <th>oldbalanceDest</th>\n",
       "      <th>newbalanceDest</th>\n",
       "      <th>id</th>\n",
       "      <th>Recipient</th>\n",
       "    </tr>\n",
       "  </thead>\n",
       "  <tbody>\n",
       "    <tr>\n",
       "      <th>0</th>\n",
       "      <td>257</td>\n",
       "      <td>CASH_OUT</td>\n",
       "      <td>208758.36</td>\n",
       "      <td>C1628429873</td>\n",
       "      <td>186770.00</td>\n",
       "      <td>0.00</td>\n",
       "      <td>C703878081</td>\n",
       "      <td>98209.59</td>\n",
       "      <td>306967.94</td>\n",
       "      <td>98777</td>\n",
       "      <td>C</td>\n",
       "    </tr>\n",
       "    <tr>\n",
       "      <th>1</th>\n",
       "      <td>375</td>\n",
       "      <td>PAYMENT</td>\n",
       "      <td>8078.82</td>\n",
       "      <td>C1642149666</td>\n",
       "      <td>40458.00</td>\n",
       "      <td>32379.18</td>\n",
       "      <td>M1726657457</td>\n",
       "      <td>0.00</td>\n",
       "      <td>0.00</td>\n",
       "      <td>397457</td>\n",
       "      <td>M</td>\n",
       "    </tr>\n",
       "    <tr>\n",
       "      <th>2</th>\n",
       "      <td>168</td>\n",
       "      <td>CASH_OUT</td>\n",
       "      <td>60783.19</td>\n",
       "      <td>C346779827</td>\n",
       "      <td>0.00</td>\n",
       "      <td>0.00</td>\n",
       "      <td>C1063782390</td>\n",
       "      <td>747531.29</td>\n",
       "      <td>808314.48</td>\n",
       "      <td>592225</td>\n",
       "      <td>C</td>\n",
       "    </tr>\n",
       "    <tr>\n",
       "      <th>3</th>\n",
       "      <td>590</td>\n",
       "      <td>CASH_IN</td>\n",
       "      <td>267290.88</td>\n",
       "      <td>C713342712</td>\n",
       "      <td>4646500.36</td>\n",
       "      <td>4913791.24</td>\n",
       "      <td>C1390373129</td>\n",
       "      <td>299549.13</td>\n",
       "      <td>32258.25</td>\n",
       "      <td>425029</td>\n",
       "      <td>C</td>\n",
       "    </tr>\n",
       "    <tr>\n",
       "      <th>4</th>\n",
       "      <td>377</td>\n",
       "      <td>CASH_IN</td>\n",
       "      <td>226575.08</td>\n",
       "      <td>C1831624676</td>\n",
       "      <td>7615712.40</td>\n",
       "      <td>7842287.48</td>\n",
       "      <td>C1453112071</td>\n",
       "      <td>1822519.59</td>\n",
       "      <td>1595944.51</td>\n",
       "      <td>118706</td>\n",
       "      <td>C</td>\n",
       "    </tr>\n",
       "  </tbody>\n",
       "</table>\n",
       "</div>"
      ],
      "text/plain": [
       "   step      type     amount     nameOrig  oldbalanceOrg  newbalanceOrig  \\\n",
       "0   257  CASH_OUT  208758.36  C1628429873      186770.00            0.00   \n",
       "1   375   PAYMENT    8078.82  C1642149666       40458.00        32379.18   \n",
       "2   168  CASH_OUT   60783.19   C346779827           0.00            0.00   \n",
       "3   590   CASH_IN  267290.88   C713342712     4646500.36      4913791.24   \n",
       "4   377   CASH_IN  226575.08  C1831624676     7615712.40      7842287.48   \n",
       "\n",
       "      nameDest  oldbalanceDest  newbalanceDest      id Recipient  \n",
       "0   C703878081        98209.59       306967.94   98777         C  \n",
       "1  M1726657457            0.00            0.00  397457         M  \n",
       "2  C1063782390       747531.29       808314.48  592225         C  \n",
       "3  C1390373129       299549.13        32258.25  425029         C  \n",
       "4  C1453112071      1822519.59      1595944.51  118706         C  "
      ]
     },
     "execution_count": 19,
     "metadata": {},
     "output_type": "execute_result"
    }
   ],
   "source": [
    "dftest['Recipient'] = dftest['nameDest'].str[:1]\n",
    "dftest.head()\n",
    "# Splitting nameDest to retain letter"
   ]
  },
  {
   "cell_type": "code",
   "execution_count": 20,
   "metadata": {
    "collapsed": false,
    "scrolled": false
   },
   "outputs": [
    {
     "name": "stdout",
     "output_type": "stream",
     "text": [
      "<class 'pandas.core.frame.DataFrame'>\n",
      "RangeIndex: 127253 entries, 0 to 127252\n",
      "Data columns (total 9 columns):\n",
      "step              127253 non-null int64\n",
      "type              127253 non-null object\n",
      "amount            127253 non-null float64\n",
      "oldbalanceOrg     127253 non-null float64\n",
      "newbalanceOrig    127253 non-null float64\n",
      "oldbalanceDest    127253 non-null float64\n",
      "newbalanceDest    127253 non-null float64\n",
      "id                127253 non-null int64\n",
      "Recipient         127253 non-null object\n",
      "dtypes: float64(5), int64(2), object(2)\n",
      "memory usage: 8.7+ MB\n"
     ]
    }
   ],
   "source": [
    "dftest1 = dftest.ix[:, [0, 1, 2, 4, 5, 7, 8, 9, 10]]\n",
    "dftest1.info()\n",
    "# dropping unwanted columns"
   ]
  },
  {
   "cell_type": "code",
   "execution_count": 21,
   "metadata": {
    "collapsed": false,
    "scrolled": true
   },
   "outputs": [
    {
     "data": {
      "text/html": [
       "<div>\n",
       "<table border=\"1\" class=\"dataframe\">\n",
       "  <thead>\n",
       "    <tr style=\"text-align: right;\">\n",
       "      <th></th>\n",
       "      <th>step</th>\n",
       "      <th>amount</th>\n",
       "      <th>oldbalanceOrg</th>\n",
       "      <th>newbalanceOrig</th>\n",
       "      <th>oldbalanceDest</th>\n",
       "      <th>newbalanceDest</th>\n",
       "      <th>id</th>\n",
       "      <th>was_CASH_IN</th>\n",
       "      <th>was_CASH_OUT</th>\n",
       "      <th>was_DEBIT</th>\n",
       "      <th>was_PAYMENT</th>\n",
       "      <th>was_TRANSFER</th>\n",
       "      <th>was_C</th>\n",
       "      <th>was_M</th>\n",
       "    </tr>\n",
       "  </thead>\n",
       "  <tbody>\n",
       "    <tr>\n",
       "      <th>0</th>\n",
       "      <td>257</td>\n",
       "      <td>208758.36</td>\n",
       "      <td>186770.00</td>\n",
       "      <td>0.00</td>\n",
       "      <td>98209.59</td>\n",
       "      <td>306967.94</td>\n",
       "      <td>98777</td>\n",
       "      <td>0.0</td>\n",
       "      <td>1.0</td>\n",
       "      <td>0.0</td>\n",
       "      <td>0.0</td>\n",
       "      <td>0.0</td>\n",
       "      <td>1.0</td>\n",
       "      <td>0.0</td>\n",
       "    </tr>\n",
       "    <tr>\n",
       "      <th>1</th>\n",
       "      <td>375</td>\n",
       "      <td>8078.82</td>\n",
       "      <td>40458.00</td>\n",
       "      <td>32379.18</td>\n",
       "      <td>0.00</td>\n",
       "      <td>0.00</td>\n",
       "      <td>397457</td>\n",
       "      <td>0.0</td>\n",
       "      <td>0.0</td>\n",
       "      <td>0.0</td>\n",
       "      <td>1.0</td>\n",
       "      <td>0.0</td>\n",
       "      <td>0.0</td>\n",
       "      <td>1.0</td>\n",
       "    </tr>\n",
       "    <tr>\n",
       "      <th>2</th>\n",
       "      <td>168</td>\n",
       "      <td>60783.19</td>\n",
       "      <td>0.00</td>\n",
       "      <td>0.00</td>\n",
       "      <td>747531.29</td>\n",
       "      <td>808314.48</td>\n",
       "      <td>592225</td>\n",
       "      <td>0.0</td>\n",
       "      <td>1.0</td>\n",
       "      <td>0.0</td>\n",
       "      <td>0.0</td>\n",
       "      <td>0.0</td>\n",
       "      <td>1.0</td>\n",
       "      <td>0.0</td>\n",
       "    </tr>\n",
       "    <tr>\n",
       "      <th>3</th>\n",
       "      <td>590</td>\n",
       "      <td>267290.88</td>\n",
       "      <td>4646500.36</td>\n",
       "      <td>4913791.24</td>\n",
       "      <td>299549.13</td>\n",
       "      <td>32258.25</td>\n",
       "      <td>425029</td>\n",
       "      <td>1.0</td>\n",
       "      <td>0.0</td>\n",
       "      <td>0.0</td>\n",
       "      <td>0.0</td>\n",
       "      <td>0.0</td>\n",
       "      <td>1.0</td>\n",
       "      <td>0.0</td>\n",
       "    </tr>\n",
       "    <tr>\n",
       "      <th>4</th>\n",
       "      <td>377</td>\n",
       "      <td>226575.08</td>\n",
       "      <td>7615712.40</td>\n",
       "      <td>7842287.48</td>\n",
       "      <td>1822519.59</td>\n",
       "      <td>1595944.51</td>\n",
       "      <td>118706</td>\n",
       "      <td>1.0</td>\n",
       "      <td>0.0</td>\n",
       "      <td>0.0</td>\n",
       "      <td>0.0</td>\n",
       "      <td>0.0</td>\n",
       "      <td>1.0</td>\n",
       "      <td>0.0</td>\n",
       "    </tr>\n",
       "  </tbody>\n",
       "</table>\n",
       "</div>"
      ],
      "text/plain": [
       "   step     amount  oldbalanceOrg  newbalanceOrig  oldbalanceDest  \\\n",
       "0   257  208758.36      186770.00            0.00        98209.59   \n",
       "1   375    8078.82       40458.00        32379.18            0.00   \n",
       "2   168   60783.19           0.00            0.00       747531.29   \n",
       "3   590  267290.88     4646500.36      4913791.24       299549.13   \n",
       "4   377  226575.08     7615712.40      7842287.48      1822519.59   \n",
       "\n",
       "   newbalanceDest      id  was_CASH_IN  was_CASH_OUT  was_DEBIT  was_PAYMENT  \\\n",
       "0       306967.94   98777          0.0           1.0        0.0          0.0   \n",
       "1            0.00  397457          0.0           0.0        0.0          1.0   \n",
       "2       808314.48  592225          0.0           1.0        0.0          0.0   \n",
       "3        32258.25  425029          1.0           0.0        0.0          0.0   \n",
       "4      1595944.51  118706          1.0           0.0        0.0          0.0   \n",
       "\n",
       "   was_TRANSFER  was_C  was_M  \n",
       "0           0.0    1.0    0.0  \n",
       "1           0.0    0.0    1.0  \n",
       "2           0.0    1.0    0.0  \n",
       "3           0.0    1.0    0.0  \n",
       "4           0.0    1.0    0.0  "
      ]
     },
     "execution_count": 21,
     "metadata": {},
     "output_type": "execute_result"
    }
   ],
   "source": [
    "dftest1 = pd.get_dummies(dftest1, prefix='was', prefix_sep='_')\n",
    "dftest1.head()\n",
    "# encoding categorical features"
   ]
  },
  {
   "cell_type": "code",
   "execution_count": 22,
   "metadata": {
    "collapsed": false
   },
   "outputs": [
    {
     "data": {
      "text/plain": [
       "KMeans(algorithm='auto', copy_x=True, init='k-means++', max_iter=300,\n",
       "    n_clusters=25, n_init=10, n_jobs=-1, precompute_distances='auto',\n",
       "    random_state=0, tol=0.0001, verbose=0)"
      ]
     },
     "execution_count": 22,
     "metadata": {},
     "output_type": "execute_result"
    }
   ],
   "source": [
    "kmeanstest = KMeans(n_clusters=25, random_state=0, n_jobs=-1)\n",
    "kmeanstest.fit(dftest1[features])\n",
    "# breaking data into 25 clusters based on features"
   ]
  },
  {
   "cell_type": "code",
   "execution_count": 23,
   "metadata": {
    "collapsed": false
   },
   "outputs": [],
   "source": [
    "predictedLabelstest = kmeanstest.predict(dftest1[features])\n",
    "dftest1['predictedCluster'] = predictedLabelstest\n",
    "dftest1['predictedCluster'] = dftest1.predictedCluster.astype('object')\n",
    "# setting predicted clusters to variable\n",
    "# adding predicted clusters to df1\n",
    "# setting new feature dtype"
   ]
  },
  {
   "cell_type": "code",
   "execution_count": 24,
   "metadata": {
    "collapsed": false,
    "scrolled": true
   },
   "outputs": [
    {
     "data": {
      "text/html": [
       "<div>\n",
       "<table border=\"1\" class=\"dataframe\">\n",
       "  <thead>\n",
       "    <tr style=\"text-align: right;\">\n",
       "      <th></th>\n",
       "      <th>step</th>\n",
       "      <th>amount</th>\n",
       "      <th>oldbalanceOrg</th>\n",
       "      <th>newbalanceOrig</th>\n",
       "      <th>oldbalanceDest</th>\n",
       "      <th>newbalanceDest</th>\n",
       "      <th>id</th>\n",
       "      <th>was_CASH_IN</th>\n",
       "      <th>was_CASH_OUT</th>\n",
       "      <th>was_DEBIT</th>\n",
       "      <th>...</th>\n",
       "      <th>was_15</th>\n",
       "      <th>was_16</th>\n",
       "      <th>was_17</th>\n",
       "      <th>was_18</th>\n",
       "      <th>was_19</th>\n",
       "      <th>was_20</th>\n",
       "      <th>was_21</th>\n",
       "      <th>was_22</th>\n",
       "      <th>was_23</th>\n",
       "      <th>was_24</th>\n",
       "    </tr>\n",
       "  </thead>\n",
       "  <tbody>\n",
       "    <tr>\n",
       "      <th>0</th>\n",
       "      <td>257</td>\n",
       "      <td>208758.36</td>\n",
       "      <td>186770.00</td>\n",
       "      <td>0.00</td>\n",
       "      <td>98209.59</td>\n",
       "      <td>306967.94</td>\n",
       "      <td>98777</td>\n",
       "      <td>0.0</td>\n",
       "      <td>1.0</td>\n",
       "      <td>0.0</td>\n",
       "      <td>...</td>\n",
       "      <td>0.0</td>\n",
       "      <td>0.0</td>\n",
       "      <td>0.0</td>\n",
       "      <td>0.0</td>\n",
       "      <td>0.0</td>\n",
       "      <td>0.0</td>\n",
       "      <td>0.0</td>\n",
       "      <td>0.0</td>\n",
       "      <td>0.0</td>\n",
       "      <td>0.0</td>\n",
       "    </tr>\n",
       "    <tr>\n",
       "      <th>1</th>\n",
       "      <td>375</td>\n",
       "      <td>8078.82</td>\n",
       "      <td>40458.00</td>\n",
       "      <td>32379.18</td>\n",
       "      <td>0.00</td>\n",
       "      <td>0.00</td>\n",
       "      <td>397457</td>\n",
       "      <td>0.0</td>\n",
       "      <td>0.0</td>\n",
       "      <td>0.0</td>\n",
       "      <td>...</td>\n",
       "      <td>0.0</td>\n",
       "      <td>0.0</td>\n",
       "      <td>0.0</td>\n",
       "      <td>0.0</td>\n",
       "      <td>0.0</td>\n",
       "      <td>0.0</td>\n",
       "      <td>0.0</td>\n",
       "      <td>0.0</td>\n",
       "      <td>0.0</td>\n",
       "      <td>0.0</td>\n",
       "    </tr>\n",
       "    <tr>\n",
       "      <th>2</th>\n",
       "      <td>168</td>\n",
       "      <td>60783.19</td>\n",
       "      <td>0.00</td>\n",
       "      <td>0.00</td>\n",
       "      <td>747531.29</td>\n",
       "      <td>808314.48</td>\n",
       "      <td>592225</td>\n",
       "      <td>0.0</td>\n",
       "      <td>1.0</td>\n",
       "      <td>0.0</td>\n",
       "      <td>...</td>\n",
       "      <td>0.0</td>\n",
       "      <td>0.0</td>\n",
       "      <td>0.0</td>\n",
       "      <td>0.0</td>\n",
       "      <td>0.0</td>\n",
       "      <td>0.0</td>\n",
       "      <td>0.0</td>\n",
       "      <td>0.0</td>\n",
       "      <td>0.0</td>\n",
       "      <td>1.0</td>\n",
       "    </tr>\n",
       "    <tr>\n",
       "      <th>3</th>\n",
       "      <td>590</td>\n",
       "      <td>267290.88</td>\n",
       "      <td>4646500.36</td>\n",
       "      <td>4913791.24</td>\n",
       "      <td>299549.13</td>\n",
       "      <td>32258.25</td>\n",
       "      <td>425029</td>\n",
       "      <td>1.0</td>\n",
       "      <td>0.0</td>\n",
       "      <td>0.0</td>\n",
       "      <td>...</td>\n",
       "      <td>0.0</td>\n",
       "      <td>0.0</td>\n",
       "      <td>0.0</td>\n",
       "      <td>0.0</td>\n",
       "      <td>0.0</td>\n",
       "      <td>0.0</td>\n",
       "      <td>0.0</td>\n",
       "      <td>1.0</td>\n",
       "      <td>0.0</td>\n",
       "      <td>0.0</td>\n",
       "    </tr>\n",
       "    <tr>\n",
       "      <th>4</th>\n",
       "      <td>377</td>\n",
       "      <td>226575.08</td>\n",
       "      <td>7615712.40</td>\n",
       "      <td>7842287.48</td>\n",
       "      <td>1822519.59</td>\n",
       "      <td>1595944.51</td>\n",
       "      <td>118706</td>\n",
       "      <td>1.0</td>\n",
       "      <td>0.0</td>\n",
       "      <td>0.0</td>\n",
       "      <td>...</td>\n",
       "      <td>0.0</td>\n",
       "      <td>0.0</td>\n",
       "      <td>0.0</td>\n",
       "      <td>0.0</td>\n",
       "      <td>0.0</td>\n",
       "      <td>0.0</td>\n",
       "      <td>0.0</td>\n",
       "      <td>0.0</td>\n",
       "      <td>0.0</td>\n",
       "      <td>0.0</td>\n",
       "    </tr>\n",
       "  </tbody>\n",
       "</table>\n",
       "<p>5 rows × 39 columns</p>\n",
       "</div>"
      ],
      "text/plain": [
       "   step     amount  oldbalanceOrg  newbalanceOrig  oldbalanceDest  \\\n",
       "0   257  208758.36      186770.00            0.00        98209.59   \n",
       "1   375    8078.82       40458.00        32379.18            0.00   \n",
       "2   168   60783.19           0.00            0.00       747531.29   \n",
       "3   590  267290.88     4646500.36      4913791.24       299549.13   \n",
       "4   377  226575.08     7615712.40      7842287.48      1822519.59   \n",
       "\n",
       "   newbalanceDest      id  was_CASH_IN  was_CASH_OUT  was_DEBIT   ...    \\\n",
       "0       306967.94   98777          0.0           1.0        0.0   ...     \n",
       "1            0.00  397457          0.0           0.0        0.0   ...     \n",
       "2       808314.48  592225          0.0           1.0        0.0   ...     \n",
       "3        32258.25  425029          1.0           0.0        0.0   ...     \n",
       "4      1595944.51  118706          1.0           0.0        0.0   ...     \n",
       "\n",
       "   was_15  was_16  was_17  was_18  was_19  was_20  was_21  was_22  was_23  \\\n",
       "0     0.0     0.0     0.0     0.0     0.0     0.0     0.0     0.0     0.0   \n",
       "1     0.0     0.0     0.0     0.0     0.0     0.0     0.0     0.0     0.0   \n",
       "2     0.0     0.0     0.0     0.0     0.0     0.0     0.0     0.0     0.0   \n",
       "3     0.0     0.0     0.0     0.0     0.0     0.0     0.0     1.0     0.0   \n",
       "4     0.0     0.0     0.0     0.0     0.0     0.0     0.0     0.0     0.0   \n",
       "\n",
       "   was_24  \n",
       "0     0.0  \n",
       "1     0.0  \n",
       "2     1.0  \n",
       "3     0.0  \n",
       "4     0.0  \n",
       "\n",
       "[5 rows x 39 columns]"
      ]
     },
     "execution_count": 24,
     "metadata": {},
     "output_type": "execute_result"
    }
   ],
   "source": [
    "dftest1 = pd.get_dummies(dftest1, prefix='was', prefix_sep='_')\n",
    "dftest1.head()\n",
    "# encoding new categorical feature"
   ]
  },
  {
   "cell_type": "code",
   "execution_count": 25,
   "metadata": {
    "collapsed": false
   },
   "outputs": [],
   "source": [
    "preds = model.predict_proba(dftest1[features1])[:, 1]\n",
    "# making predictions on test data using full feature list"
   ]
  },
  {
   "cell_type": "code",
   "execution_count": 26,
   "metadata": {
    "collapsed": false
   },
   "outputs": [
    {
     "data": {
      "text/plain": [
       "array([ 0.024,  0.008,  0.064, ...,  0.024,  0.016,  0.008])"
      ]
     },
     "execution_count": 26,
     "metadata": {},
     "output_type": "execute_result"
    }
   ],
   "source": [
    "preds\n",
    "# making sure predictions are probabilities"
   ]
  },
  {
   "cell_type": "code",
   "execution_count": 27,
   "metadata": {
    "collapsed": false
   },
   "outputs": [
    {
     "data": {
      "text/plain": [
       "127253"
      ]
     },
     "execution_count": 27,
     "metadata": {},
     "output_type": "execute_result"
    }
   ],
   "source": [
    "len(preds)\n",
    "# verifying preditions were on correct dataset"
   ]
  },
  {
   "cell_type": "code",
   "execution_count": 28,
   "metadata": {
    "collapsed": false
   },
   "outputs": [],
   "source": [
    "submit = {'Prediction': preds, 'id': dftest.id}\n",
    "# making dictionary of predictions and ids"
   ]
  },
  {
   "cell_type": "code",
   "execution_count": 29,
   "metadata": {
    "collapsed": false
   },
   "outputs": [
    {
     "data": {
      "text/html": [
       "<div>\n",
       "<table border=\"1\" class=\"dataframe\">\n",
       "  <thead>\n",
       "    <tr style=\"text-align: right;\">\n",
       "      <th></th>\n",
       "      <th>Prediction</th>\n",
       "      <th>id</th>\n",
       "    </tr>\n",
       "  </thead>\n",
       "  <tbody>\n",
       "    <tr>\n",
       "      <th>0</th>\n",
       "      <td>0.024</td>\n",
       "      <td>98777</td>\n",
       "    </tr>\n",
       "    <tr>\n",
       "      <th>1</th>\n",
       "      <td>0.008</td>\n",
       "      <td>397457</td>\n",
       "    </tr>\n",
       "    <tr>\n",
       "      <th>2</th>\n",
       "      <td>0.064</td>\n",
       "      <td>592225</td>\n",
       "    </tr>\n",
       "    <tr>\n",
       "      <th>3</th>\n",
       "      <td>0.000</td>\n",
       "      <td>425029</td>\n",
       "    </tr>\n",
       "    <tr>\n",
       "      <th>4</th>\n",
       "      <td>0.000</td>\n",
       "      <td>118706</td>\n",
       "    </tr>\n",
       "  </tbody>\n",
       "</table>\n",
       "</div>"
      ],
      "text/plain": [
       "   Prediction      id\n",
       "0       0.024   98777\n",
       "1       0.008  397457\n",
       "2       0.064  592225\n",
       "3       0.000  425029\n",
       "4       0.000  118706"
      ]
     },
     "execution_count": 29,
     "metadata": {},
     "output_type": "execute_result"
    }
   ],
   "source": [
    "submit = pd.DataFrame(submit)\n",
    "submit.head()\n",
    "# creating dataframe"
   ]
  },
  {
   "cell_type": "code",
   "execution_count": 30,
   "metadata": {
    "collapsed": false
   },
   "outputs": [],
   "source": [
    "submit.to_csv('rt150pluskmeanspluskfolds.csv')\n",
    "# exporting dataframe to .csv for submittal"
   ]
  },
  {
   "cell_type": "code",
   "execution_count": 31,
   "metadata": {
    "collapsed": false
   },
   "outputs": [
    {
     "name": "stdout",
     "output_type": "stream",
     "text": [
      "Feature ranking:\n",
      "1. feature 22 (0.249880)\n",
      "2. feature 14 (0.234298)\n",
      "3. feature 2 (0.162343)\n",
      "4. feature 17 (0.105505)\n",
      "5. feature 30 (0.084083)\n",
      "6. feature 16 (0.044753)\n",
      "7. feature 8 (0.041899)\n",
      "8. feature 18 (0.024746)\n",
      "9. feature 31 (0.012464)\n",
      "10. feature 35 (0.010169)\n",
      "11. feature 29 (0.008085)\n",
      "12. feature 12 (0.006448)\n",
      "13. feature 21 (0.003916)\n",
      "14. feature 1 (0.002299)\n",
      "15. feature 5 (0.001929)\n",
      "16. feature 19 (0.001816)\n",
      "17. feature 23 (0.001269)\n",
      "18. feature 10 (0.000816)\n",
      "19. feature 37 (0.000661)\n",
      "20. feature 3 (0.000495)\n",
      "21. feature 6 (0.000410)\n",
      "22. feature 26 (0.000358)\n",
      "23. feature 27 (0.000340)\n",
      "24. feature 11 (0.000324)\n",
      "25. feature 36 (0.000303)\n",
      "26. feature 4 (0.000141)\n",
      "27. feature 32 (0.000071)\n",
      "28. feature 33 (0.000060)\n",
      "29. feature 20 (0.000058)\n",
      "30. feature 9 (0.000036)\n",
      "31. feature 7 (0.000013)\n",
      "32. feature 25 (0.000009)\n",
      "33. feature 13 (0.000001)\n",
      "34. feature 0 (0.000001)\n",
      "35. feature 34 (0.000000)\n",
      "36. feature 24 (0.000000)\n",
      "37. feature 28 (0.000000)\n",
      "38. feature 15 (0.000000)\n"
     ]
    },
    {
     "data": {
      "image/png": "[encoded data removed]",
      "text/plain": [
       "<matplotlib.figure.Figure at 0x2afe975bbe0>"
      ]
     },
     "metadata": {},
     "output_type": "display_data"
    }
   ],
   "source": [
    "importances = model.feature_importances_\n",
    "std = np.std([model.feature_importances_ for model in model.estimators_],\n",
    "             axis=0)\n",
    "indices = np.argsort(importances)[::-1]\n",
    "print(\"Feature ranking:\")\n",
    "for f in range(df1[features1].shape[1]):\n",
    "    print(\"%d. feature %d (%f)\" % (f + 1, indices[f], importances[indices[f]]))\n",
    "plt.figure()\n",
    "plt.title(\"Feature importances\")\n",
    "plt.bar(range(df1[features1].shape[1]), importances[indices],\n",
    "        color=\"r\", yerr=std[indices], align=\"center\")\n",
    "plt.xticks(range(df1[features1].shape[1]), df1[features1])\n",
    "plt.xlim([-1, df1[features1].shape[1]])\n",
    "plt.show()\n",
    "# Plot the feature importances of the forest\n",
    "# trying to determine the need of the engineered features"
   ]
  },
  {
   "cell_type": "code",
   "execution_count": 32,
   "metadata": {
    "collapsed": false
   },
   "outputs": [
    {
     "data": {
      "text/plain": [
       "[['was_21',\n",
       "  'was_C',\n",
       "  'amount',\n",
       "  'was_M',\n",
       "  'was_14',\n",
       "  'was_PAYMENT',\n",
       "  'was_5',\n",
       "  'was_13',\n",
       "  'was_TRANSFER',\n",
       "  'was_20',\n",
       "  'was_7',\n",
       "  'was_24',\n",
       "  'was_0',\n",
       "  'was_10',\n",
       "  'oldbalanceOrg',\n",
       "  'was_17',\n",
       "  'newbalanceOrig',\n",
       "  'step',\n",
       "  'was_CASH_OUT',\n",
       "  'was_19',\n",
       "  'was_15',\n",
       "  'was_12',\n",
       "  'newbalanceDest',\n",
       "  'was_3',\n",
       "  'was_4',\n",
       "  'was_23',\n",
       "  'was_18',\n",
       "  'was_DEBIT',\n",
       "  'was_6',\n",
       "  'was_11',\n",
       "  'oldbalanceDest',\n",
       "  'was_CASH_IN',\n",
       "  'was_2',\n",
       "  'was_9',\n",
       "  'was_22',\n",
       "  'was_16',\n",
       "  'was_8',\n",
       "  'was_1']]"
      ]
     },
     "execution_count": 32,
     "metadata": {},
     "output_type": "execute_result"
    }
   ],
   "source": [
    "[features1]\n",
    "# Getting feature names\n",
    "# .97 of feature importance represented by:\n",
    "# Features 2, 10, 37, 9, 6, 31, 3, 18, 8"
   ]
  },
  {
   "cell_type": "markdown",
   "metadata": {},
   "source": [
    "### Process Checkpoint: 1\n",
    " I'm rather pleased with my simple Random Forest model utilizing k means feature engineering and a k folds cross validation strategy.  The features driving this model are (in order of importance):\n",
    " \n",
    "Feature ranking:\n",
    "1. 'newbalanceDest' (0.247011)\n",
    "2. 'oldbalanceOrg' (0.226982)\n",
    "3. 'amount' (0.155077)\n",
    "4. 'step' (0.104939)\n",
    "5. 'oldbalanceDest' (0.073532)\n",
    "6. 'was_TRANSFER' (0.064203)\n",
    "7. 'oldbalanceDest' (0.048071)\n",
    "8. 'was_CASH_OUT' (0.026618)\n",
    "9. 'was_CASH_IN' (0.017521)\n",
    "10. 'was_11' (0.009711)\n",
    " \n",
    "This model did score very high on the public leaderboard putting me at the number one spot with a 0.98416!  I noticed too that of the top models on the private board this model was the only one that had a higher rating on the private board than it had on the public board with a 0.987466.  Even when the model fell from the top spot I still took pride in this fact.\n",
    "\n",
    "However, the feature ranking is telling me my k means clustering efforts are not really of any value - that I can point to.  Neither is the splitting off of the customer/merchant designation.  Wonder what skipping those steps will mean for model performance. \n",
    "\n",
    " Let's see.... "
   ]
  },
  {
   "cell_type": "code",
   "execution_count": 33,
   "metadata": {
    "collapsed": false
   },
   "outputs": [
    {
     "data": {
      "text/html": [
       "<div>\n",
       "<table border=\"1\" class=\"dataframe\">\n",
       "  <thead>\n",
       "    <tr style=\"text-align: right;\">\n",
       "      <th></th>\n",
       "      <th>step</th>\n",
       "      <th>type</th>\n",
       "      <th>amount</th>\n",
       "      <th>nameOrig</th>\n",
       "      <th>oldbalanceOrg</th>\n",
       "      <th>newbalanceOrig</th>\n",
       "      <th>nameDest</th>\n",
       "      <th>oldbalanceDest</th>\n",
       "      <th>newbalanceDest</th>\n",
       "      <th>isFraud</th>\n",
       "      <th>id</th>\n",
       "      <th>Recipient</th>\n",
       "    </tr>\n",
       "  </thead>\n",
       "  <tbody>\n",
       "    <tr>\n",
       "      <th>0</th>\n",
       "      <td>303</td>\n",
       "      <td>CASH_IN</td>\n",
       "      <td>185164.71</td>\n",
       "      <td>C1499985475</td>\n",
       "      <td>3075480.01</td>\n",
       "      <td>3260644.72</td>\n",
       "      <td>C1771727877</td>\n",
       "      <td>881991.88</td>\n",
       "      <td>696827.18</td>\n",
       "      <td>0</td>\n",
       "      <td>540576</td>\n",
       "      <td>C</td>\n",
       "    </tr>\n",
       "    <tr>\n",
       "      <th>1</th>\n",
       "      <td>356</td>\n",
       "      <td>CASH_IN</td>\n",
       "      <td>79083.65</td>\n",
       "      <td>C108745493</td>\n",
       "      <td>5489716.32</td>\n",
       "      <td>5568799.97</td>\n",
       "      <td>C1167754301</td>\n",
       "      <td>153219.51</td>\n",
       "      <td>74135.86</td>\n",
       "      <td>0</td>\n",
       "      <td>120014</td>\n",
       "      <td>C</td>\n",
       "    </tr>\n",
       "    <tr>\n",
       "      <th>2</th>\n",
       "      <td>10</td>\n",
       "      <td>TRANSFER</td>\n",
       "      <td>2336832.78</td>\n",
       "      <td>C975415534</td>\n",
       "      <td>147958.78</td>\n",
       "      <td>0.00</td>\n",
       "      <td>C718985478</td>\n",
       "      <td>5069347.06</td>\n",
       "      <td>7307970.46</td>\n",
       "      <td>0</td>\n",
       "      <td>623141</td>\n",
       "      <td>C</td>\n",
       "    </tr>\n",
       "    <tr>\n",
       "      <th>3</th>\n",
       "      <td>238</td>\n",
       "      <td>TRANSFER</td>\n",
       "      <td>228517.91</td>\n",
       "      <td>C1968162743</td>\n",
       "      <td>0.00</td>\n",
       "      <td>0.00</td>\n",
       "      <td>C1544755390</td>\n",
       "      <td>18768561.09</td>\n",
       "      <td>18997079.00</td>\n",
       "      <td>0</td>\n",
       "      <td>547737</td>\n",
       "      <td>C</td>\n",
       "    </tr>\n",
       "    <tr>\n",
       "      <th>4</th>\n",
       "      <td>133</td>\n",
       "      <td>CASH_IN</td>\n",
       "      <td>180179.73</td>\n",
       "      <td>C467196066</td>\n",
       "      <td>21448.00</td>\n",
       "      <td>201627.73</td>\n",
       "      <td>C1386847873</td>\n",
       "      <td>7160295.13</td>\n",
       "      <td>6980115.40</td>\n",
       "      <td>0</td>\n",
       "      <td>569291</td>\n",
       "      <td>C</td>\n",
       "    </tr>\n",
       "  </tbody>\n",
       "</table>\n",
       "</div>"
      ],
      "text/plain": [
       "   step      type      amount     nameOrig  oldbalanceOrg  newbalanceOrig  \\\n",
       "0   303   CASH_IN   185164.71  C1499985475     3075480.01      3260644.72   \n",
       "1   356   CASH_IN    79083.65   C108745493     5489716.32      5568799.97   \n",
       "2    10  TRANSFER  2336832.78   C975415534      147958.78            0.00   \n",
       "3   238  TRANSFER   228517.91  C1968162743           0.00            0.00   \n",
       "4   133   CASH_IN   180179.73   C467196066       21448.00       201627.73   \n",
       "\n",
       "      nameDest  oldbalanceDest  newbalanceDest  isFraud      id Recipient  \n",
       "0  C1771727877       881991.88       696827.18        0  540576         C  \n",
       "1  C1167754301       153219.51        74135.86        0  120014         C  \n",
       "2   C718985478      5069347.06      7307970.46        0  623141         C  \n",
       "3  C1544755390     18768561.09     18997079.00        0  547737         C  \n",
       "4  C1386847873      7160295.13      6980115.40        0  569291         C  "
      ]
     },
     "execution_count": 33,
     "metadata": {},
     "output_type": "execute_result"
    }
   ],
   "source": [
    "df3 = df\n",
    "df3.head()"
   ]
  },
  {
   "cell_type": "code",
   "execution_count": 34,
   "metadata": {
    "collapsed": false
   },
   "outputs": [
    {
     "data": {
      "text/html": [
       "<div>\n",
       "<table border=\"1\" class=\"dataframe\">\n",
       "  <thead>\n",
       "    <tr style=\"text-align: right;\">\n",
       "      <th></th>\n",
       "      <th>step</th>\n",
       "      <th>type</th>\n",
       "      <th>amount</th>\n",
       "      <th>oldbalanceOrg</th>\n",
       "      <th>newbalanceOrig</th>\n",
       "      <th>oldbalanceDest</th>\n",
       "      <th>newbalanceDest</th>\n",
       "      <th>isFraud</th>\n",
       "    </tr>\n",
       "  </thead>\n",
       "  <tbody>\n",
       "    <tr>\n",
       "      <th>0</th>\n",
       "      <td>303</td>\n",
       "      <td>CASH_IN</td>\n",
       "      <td>185164.71</td>\n",
       "      <td>3075480.01</td>\n",
       "      <td>3260644.72</td>\n",
       "      <td>881991.88</td>\n",
       "      <td>696827.18</td>\n",
       "      <td>0</td>\n",
       "    </tr>\n",
       "    <tr>\n",
       "      <th>1</th>\n",
       "      <td>356</td>\n",
       "      <td>CASH_IN</td>\n",
       "      <td>79083.65</td>\n",
       "      <td>5489716.32</td>\n",
       "      <td>5568799.97</td>\n",
       "      <td>153219.51</td>\n",
       "      <td>74135.86</td>\n",
       "      <td>0</td>\n",
       "    </tr>\n",
       "    <tr>\n",
       "      <th>2</th>\n",
       "      <td>10</td>\n",
       "      <td>TRANSFER</td>\n",
       "      <td>2336832.78</td>\n",
       "      <td>147958.78</td>\n",
       "      <td>0.00</td>\n",
       "      <td>5069347.06</td>\n",
       "      <td>7307970.46</td>\n",
       "      <td>0</td>\n",
       "    </tr>\n",
       "    <tr>\n",
       "      <th>3</th>\n",
       "      <td>238</td>\n",
       "      <td>TRANSFER</td>\n",
       "      <td>228517.91</td>\n",
       "      <td>0.00</td>\n",
       "      <td>0.00</td>\n",
       "      <td>18768561.09</td>\n",
       "      <td>18997079.00</td>\n",
       "      <td>0</td>\n",
       "    </tr>\n",
       "    <tr>\n",
       "      <th>4</th>\n",
       "      <td>133</td>\n",
       "      <td>CASH_IN</td>\n",
       "      <td>180179.73</td>\n",
       "      <td>21448.00</td>\n",
       "      <td>201627.73</td>\n",
       "      <td>7160295.13</td>\n",
       "      <td>6980115.40</td>\n",
       "      <td>0</td>\n",
       "    </tr>\n",
       "  </tbody>\n",
       "</table>\n",
       "</div>"
      ],
      "text/plain": [
       "   step      type      amount  oldbalanceOrg  newbalanceOrig  oldbalanceDest  \\\n",
       "0   303   CASH_IN   185164.71     3075480.01      3260644.72       881991.88   \n",
       "1   356   CASH_IN    79083.65     5489716.32      5568799.97       153219.51   \n",
       "2    10  TRANSFER  2336832.78      147958.78            0.00      5069347.06   \n",
       "3   238  TRANSFER   228517.91           0.00            0.00     18768561.09   \n",
       "4   133   CASH_IN   180179.73       21448.00       201627.73      7160295.13   \n",
       "\n",
       "   newbalanceDest  isFraud  \n",
       "0       696827.18        0  \n",
       "1        74135.86        0  \n",
       "2      7307970.46        0  \n",
       "3     18997079.00        0  \n",
       "4      6980115.40        0  "
      ]
     },
     "execution_count": 34,
     "metadata": {},
     "output_type": "execute_result"
    }
   ],
   "source": [
    "df3 = df3.ix[:, [0, 1, 2, 4, 5, 7, 8, 9]]\n",
    "df3.head()\n",
    "# dropping unwanted columns"
   ]
  },
  {
   "cell_type": "code",
   "execution_count": 35,
   "metadata": {
    "collapsed": false
   },
   "outputs": [
    {
     "data": {
      "text/html": [
       "<div>\n",
       "<table border=\"1\" class=\"dataframe\">\n",
       "  <thead>\n",
       "    <tr style=\"text-align: right;\">\n",
       "      <th></th>\n",
       "      <th>step</th>\n",
       "      <th>type</th>\n",
       "      <th>amount</th>\n",
       "      <th>oldbalanceOrg</th>\n",
       "      <th>newbalanceOrig</th>\n",
       "      <th>oldbalanceDest</th>\n",
       "      <th>newbalanceDest</th>\n",
       "      <th>isFraud</th>\n",
       "    </tr>\n",
       "  </thead>\n",
       "  <tbody>\n",
       "    <tr>\n",
       "      <th>0</th>\n",
       "      <td>303</td>\n",
       "      <td>CASH_IN</td>\n",
       "      <td>185164.71</td>\n",
       "      <td>3075480.01</td>\n",
       "      <td>3260644.72</td>\n",
       "      <td>881991.88</td>\n",
       "      <td>696827.18</td>\n",
       "      <td>0</td>\n",
       "    </tr>\n",
       "    <tr>\n",
       "      <th>1</th>\n",
       "      <td>356</td>\n",
       "      <td>CASH_IN</td>\n",
       "      <td>79083.65</td>\n",
       "      <td>5489716.32</td>\n",
       "      <td>5568799.97</td>\n",
       "      <td>153219.51</td>\n",
       "      <td>74135.86</td>\n",
       "      <td>0</td>\n",
       "    </tr>\n",
       "    <tr>\n",
       "      <th>2</th>\n",
       "      <td>10</td>\n",
       "      <td>TRANSFER</td>\n",
       "      <td>2336832.78</td>\n",
       "      <td>147958.78</td>\n",
       "      <td>0.00</td>\n",
       "      <td>5069347.06</td>\n",
       "      <td>7307970.46</td>\n",
       "      <td>0</td>\n",
       "    </tr>\n",
       "    <tr>\n",
       "      <th>3</th>\n",
       "      <td>238</td>\n",
       "      <td>TRANSFER</td>\n",
       "      <td>228517.91</td>\n",
       "      <td>0.00</td>\n",
       "      <td>0.00</td>\n",
       "      <td>18768561.09</td>\n",
       "      <td>18997079.00</td>\n",
       "      <td>0</td>\n",
       "    </tr>\n",
       "    <tr>\n",
       "      <th>4</th>\n",
       "      <td>133</td>\n",
       "      <td>CASH_IN</td>\n",
       "      <td>180179.73</td>\n",
       "      <td>21448.00</td>\n",
       "      <td>201627.73</td>\n",
       "      <td>7160295.13</td>\n",
       "      <td>6980115.40</td>\n",
       "      <td>0</td>\n",
       "    </tr>\n",
       "  </tbody>\n",
       "</table>\n",
       "</div>"
      ],
      "text/plain": [
       "   step      type      amount  oldbalanceOrg  newbalanceOrig  oldbalanceDest  \\\n",
       "0   303   CASH_IN   185164.71     3075480.01      3260644.72       881991.88   \n",
       "1   356   CASH_IN    79083.65     5489716.32      5568799.97       153219.51   \n",
       "2    10  TRANSFER  2336832.78      147958.78            0.00      5069347.06   \n",
       "3   238  TRANSFER   228517.91           0.00            0.00     18768561.09   \n",
       "4   133   CASH_IN   180179.73       21448.00       201627.73      7160295.13   \n",
       "\n",
       "   newbalanceDest  isFraud  \n",
       "0       696827.18        0  \n",
       "1        74135.86        0  \n",
       "2      7307970.46        0  \n",
       "3     18997079.00        0  \n",
       "4      6980115.40        0  "
      ]
     },
     "execution_count": 35,
     "metadata": {},
     "output_type": "execute_result"
    }
   ],
   "source": [
    "df3.head()\n",
    "# Confirming transformation"
   ]
  },
  {
   "cell_type": "code",
   "execution_count": 36,
   "metadata": {
    "collapsed": false,
    "scrolled": true
   },
   "outputs": [
    {
     "data": {
      "text/html": [
       "<div>\n",
       "<table border=\"1\" class=\"dataframe\">\n",
       "  <thead>\n",
       "    <tr style=\"text-align: right;\">\n",
       "      <th></th>\n",
       "      <th>step</th>\n",
       "      <th>amount</th>\n",
       "      <th>oldbalanceOrg</th>\n",
       "      <th>newbalanceOrig</th>\n",
       "      <th>oldbalanceDest</th>\n",
       "      <th>newbalanceDest</th>\n",
       "      <th>isFraud</th>\n",
       "      <th>was_CASH_IN</th>\n",
       "      <th>was_CASH_OUT</th>\n",
       "      <th>was_DEBIT</th>\n",
       "      <th>was_PAYMENT</th>\n",
       "      <th>was_TRANSFER</th>\n",
       "    </tr>\n",
       "  </thead>\n",
       "  <tbody>\n",
       "    <tr>\n",
       "      <th>0</th>\n",
       "      <td>303</td>\n",
       "      <td>185164.71</td>\n",
       "      <td>3075480.01</td>\n",
       "      <td>3260644.72</td>\n",
       "      <td>881991.88</td>\n",
       "      <td>696827.18</td>\n",
       "      <td>0</td>\n",
       "      <td>1.0</td>\n",
       "      <td>0.0</td>\n",
       "      <td>0.0</td>\n",
       "      <td>0.0</td>\n",
       "      <td>0.0</td>\n",
       "    </tr>\n",
       "    <tr>\n",
       "      <th>1</th>\n",
       "      <td>356</td>\n",
       "      <td>79083.65</td>\n",
       "      <td>5489716.32</td>\n",
       "      <td>5568799.97</td>\n",
       "      <td>153219.51</td>\n",
       "      <td>74135.86</td>\n",
       "      <td>0</td>\n",
       "      <td>1.0</td>\n",
       "      <td>0.0</td>\n",
       "      <td>0.0</td>\n",
       "      <td>0.0</td>\n",
       "      <td>0.0</td>\n",
       "    </tr>\n",
       "    <tr>\n",
       "      <th>2</th>\n",
       "      <td>10</td>\n",
       "      <td>2336832.78</td>\n",
       "      <td>147958.78</td>\n",
       "      <td>0.00</td>\n",
       "      <td>5069347.06</td>\n",
       "      <td>7307970.46</td>\n",
       "      <td>0</td>\n",
       "      <td>0.0</td>\n",
       "      <td>0.0</td>\n",
       "      <td>0.0</td>\n",
       "      <td>0.0</td>\n",
       "      <td>1.0</td>\n",
       "    </tr>\n",
       "    <tr>\n",
       "      <th>3</th>\n",
       "      <td>238</td>\n",
       "      <td>228517.91</td>\n",
       "      <td>0.00</td>\n",
       "      <td>0.00</td>\n",
       "      <td>18768561.09</td>\n",
       "      <td>18997079.00</td>\n",
       "      <td>0</td>\n",
       "      <td>0.0</td>\n",
       "      <td>0.0</td>\n",
       "      <td>0.0</td>\n",
       "      <td>0.0</td>\n",
       "      <td>1.0</td>\n",
       "    </tr>\n",
       "    <tr>\n",
       "      <th>4</th>\n",
       "      <td>133</td>\n",
       "      <td>180179.73</td>\n",
       "      <td>21448.00</td>\n",
       "      <td>201627.73</td>\n",
       "      <td>7160295.13</td>\n",
       "      <td>6980115.40</td>\n",
       "      <td>0</td>\n",
       "      <td>1.0</td>\n",
       "      <td>0.0</td>\n",
       "      <td>0.0</td>\n",
       "      <td>0.0</td>\n",
       "      <td>0.0</td>\n",
       "    </tr>\n",
       "  </tbody>\n",
       "</table>\n",
       "</div>"
      ],
      "text/plain": [
       "   step      amount  oldbalanceOrg  newbalanceOrig  oldbalanceDest  \\\n",
       "0   303   185164.71     3075480.01      3260644.72       881991.88   \n",
       "1   356    79083.65     5489716.32      5568799.97       153219.51   \n",
       "2    10  2336832.78      147958.78            0.00      5069347.06   \n",
       "3   238   228517.91           0.00            0.00     18768561.09   \n",
       "4   133   180179.73       21448.00       201627.73      7160295.13   \n",
       "\n",
       "   newbalanceDest  isFraud  was_CASH_IN  was_CASH_OUT  was_DEBIT  was_PAYMENT  \\\n",
       "0       696827.18        0          1.0           0.0        0.0          0.0   \n",
       "1        74135.86        0          1.0           0.0        0.0          0.0   \n",
       "2      7307970.46        0          0.0           0.0        0.0          0.0   \n",
       "3     18997079.00        0          0.0           0.0        0.0          0.0   \n",
       "4      6980115.40        0          1.0           0.0        0.0          0.0   \n",
       "\n",
       "   was_TRANSFER  \n",
       "0           0.0  \n",
       "1           0.0  \n",
       "2           1.0  \n",
       "3           1.0  \n",
       "4           0.0  "
      ]
     },
     "execution_count": 36,
     "metadata": {},
     "output_type": "execute_result"
    }
   ],
   "source": [
    "df3 = pd.get_dummies(df3, prefix='was', prefix_sep='_')\n",
    "df3.head()\n",
    "# encoding categorical features"
   ]
  },
  {
   "cell_type": "code",
   "execution_count": 37,
   "metadata": {
    "collapsed": false
   },
   "outputs": [
    {
     "name": "stdout",
     "output_type": "stream",
     "text": [
      "['oldbalanceDest', 'amount', 'was_TRANSFER', 'was_CASH_IN', 'newbalanceDest', 'newbalanceOrig', 'was_PAYMENT', 'was_CASH_OUT', 'was_DEBIT', 'oldbalanceOrg', 'step']\n"
     ]
    }
   ],
   "source": [
    "features3 = list(set(df3.columns) - {'isFraud'})\n",
    "print(features3)\n",
    "# setting features to a list"
   ]
  },
  {
   "cell_type": "code",
   "execution_count": 38,
   "metadata": {
    "collapsed": false
   },
   "outputs": [
    {
     "data": {
      "text/plain": [
       "(509009, 12)"
      ]
     },
     "execution_count": 38,
     "metadata": {},
     "output_type": "execute_result"
    }
   ],
   "source": [
    "df3.shape\n",
    "# 509009 row & 12"
   ]
  },
  {
   "cell_type": "code",
   "execution_count": 39,
   "metadata": {
    "collapsed": false
   },
   "outputs": [
    {
     "data": {
      "text/plain": [
       "RandomForestClassifier(bootstrap=True, class_weight=None, criterion='gini',\n",
       "            max_depth=None, max_features='auto', max_leaf_nodes=None,\n",
       "            min_impurity_split=1e-07, min_samples_leaf=1,\n",
       "            min_samples_split=2, min_weight_fraction_leaf=0.0,\n",
       "            n_estimators=125, n_jobs=-1, oob_score=False, random_state=0,\n",
       "            verbose=0, warm_start=False)"
      ]
     },
     "execution_count": 39,
     "metadata": {},
     "output_type": "execute_result"
    }
   ],
   "source": [
    "model3 = RandomForestClassifier(n_estimators=125, n_jobs=-1, random_state=0)\n",
    "model3.fit(df3[features3], df3.isFraud)\n",
    "# fitting the model3 to the train data set"
   ]
  },
  {
   "cell_type": "code",
   "execution_count": 40,
   "metadata": {
    "collapsed": true
   },
   "outputs": [],
   "source": [
    "kf = StratifiedKFold(n_splits=5)\n",
    "# setting folds to 5"
   ]
  },
  {
   "cell_type": "code",
   "execution_count": 41,
   "metadata": {
    "collapsed": false
   },
   "outputs": [
    {
     "name": "stdout",
     "output_type": "stream",
     "text": [
      "[ 0.99964637  0.9996562   0.9996169   0.99959726  0.99971513]\n",
      "0.99964637181\n"
     ]
    }
   ],
   "source": [
    "kf = StratifiedKFold(n_splits=5, shuffle=True, random_state=0)\n",
    "scores = cross_val_score(model3, df3[features3],\n",
    "                         df3.isFraud, scoring='accuracy', cv=kf)\n",
    "print(scores)\n",
    "print(scores.mean())\n",
    "# running kfolds model"
   ]
  },
  {
   "cell_type": "code",
   "execution_count": 42,
   "metadata": {
    "collapsed": false
   },
   "outputs": [
    {
     "name": "stdout",
     "output_type": "stream",
     "text": [
      "Model R^2 score on entire train data: 1.0\n"
     ]
    }
   ],
   "source": [
    "print(\"Model R^2 score on entire train data: %s\" %\n",
    "      model3.score(df3[features3], df3.isFraud))\n",
    "# scoring full train set"
   ]
  },
  {
   "cell_type": "code",
   "execution_count": 43,
   "metadata": {
    "collapsed": false,
    "scrolled": true
   },
   "outputs": [
    {
     "data": {
      "text/html": [
       "<div>\n",
       "<table border=\"1\" class=\"dataframe\">\n",
       "  <thead>\n",
       "    <tr style=\"text-align: right;\">\n",
       "      <th></th>\n",
       "      <th>step</th>\n",
       "      <th>type</th>\n",
       "      <th>amount</th>\n",
       "      <th>nameOrig</th>\n",
       "      <th>oldbalanceOrg</th>\n",
       "      <th>newbalanceOrig</th>\n",
       "      <th>nameDest</th>\n",
       "      <th>oldbalanceDest</th>\n",
       "      <th>newbalanceDest</th>\n",
       "      <th>id</th>\n",
       "    </tr>\n",
       "  </thead>\n",
       "  <tbody>\n",
       "    <tr>\n",
       "      <th>0</th>\n",
       "      <td>257</td>\n",
       "      <td>CASH_OUT</td>\n",
       "      <td>208758.36</td>\n",
       "      <td>C1628429873</td>\n",
       "      <td>186770.00</td>\n",
       "      <td>0.00</td>\n",
       "      <td>C703878081</td>\n",
       "      <td>98209.59</td>\n",
       "      <td>306967.94</td>\n",
       "      <td>98777</td>\n",
       "    </tr>\n",
       "    <tr>\n",
       "      <th>1</th>\n",
       "      <td>375</td>\n",
       "      <td>PAYMENT</td>\n",
       "      <td>8078.82</td>\n",
       "      <td>C1642149666</td>\n",
       "      <td>40458.00</td>\n",
       "      <td>32379.18</td>\n",
       "      <td>M1726657457</td>\n",
       "      <td>0.00</td>\n",
       "      <td>0.00</td>\n",
       "      <td>397457</td>\n",
       "    </tr>\n",
       "    <tr>\n",
       "      <th>2</th>\n",
       "      <td>168</td>\n",
       "      <td>CASH_OUT</td>\n",
       "      <td>60783.19</td>\n",
       "      <td>C346779827</td>\n",
       "      <td>0.00</td>\n",
       "      <td>0.00</td>\n",
       "      <td>C1063782390</td>\n",
       "      <td>747531.29</td>\n",
       "      <td>808314.48</td>\n",
       "      <td>592225</td>\n",
       "    </tr>\n",
       "    <tr>\n",
       "      <th>3</th>\n",
       "      <td>590</td>\n",
       "      <td>CASH_IN</td>\n",
       "      <td>267290.88</td>\n",
       "      <td>C713342712</td>\n",
       "      <td>4646500.36</td>\n",
       "      <td>4913791.24</td>\n",
       "      <td>C1390373129</td>\n",
       "      <td>299549.13</td>\n",
       "      <td>32258.25</td>\n",
       "      <td>425029</td>\n",
       "    </tr>\n",
       "    <tr>\n",
       "      <th>4</th>\n",
       "      <td>377</td>\n",
       "      <td>CASH_IN</td>\n",
       "      <td>226575.08</td>\n",
       "      <td>C1831624676</td>\n",
       "      <td>7615712.40</td>\n",
       "      <td>7842287.48</td>\n",
       "      <td>C1453112071</td>\n",
       "      <td>1822519.59</td>\n",
       "      <td>1595944.51</td>\n",
       "      <td>118706</td>\n",
       "    </tr>\n",
       "  </tbody>\n",
       "</table>\n",
       "</div>"
      ],
      "text/plain": [
       "   step      type     amount     nameOrig  oldbalanceOrg  newbalanceOrig  \\\n",
       "0   257  CASH_OUT  208758.36  C1628429873      186770.00            0.00   \n",
       "1   375   PAYMENT    8078.82  C1642149666       40458.00        32379.18   \n",
       "2   168  CASH_OUT   60783.19   C346779827           0.00            0.00   \n",
       "3   590   CASH_IN  267290.88   C713342712     4646500.36      4913791.24   \n",
       "4   377   CASH_IN  226575.08  C1831624676     7615712.40      7842287.48   \n",
       "\n",
       "      nameDest  oldbalanceDest  newbalanceDest      id  \n",
       "0   C703878081        98209.59       306967.94   98777  \n",
       "1  M1726657457            0.00            0.00  397457  \n",
       "2  C1063782390       747531.29       808314.48  592225  \n",
       "3  C1390373129       299549.13        32258.25  425029  \n",
       "4  C1453112071      1822519.59      1595944.51  118706  "
      ]
     },
     "execution_count": 43,
     "metadata": {},
     "output_type": "execute_result"
    }
   ],
   "source": [
    "dftest3 = pd.read_csv('test.csv')\n",
    "dftest3.head()\n",
    "# importing test data set"
   ]
  },
  {
   "cell_type": "code",
   "execution_count": 44,
   "metadata": {
    "collapsed": false,
    "scrolled": false
   },
   "outputs": [
    {
     "name": "stdout",
     "output_type": "stream",
     "text": [
      "<class 'pandas.core.frame.DataFrame'>\n",
      "RangeIndex: 127253 entries, 0 to 127252\n",
      "Data columns (total 7 columns):\n",
      "step              127253 non-null int64\n",
      "type              127253 non-null object\n",
      "amount            127253 non-null float64\n",
      "oldbalanceOrg     127253 non-null float64\n",
      "newbalanceOrig    127253 non-null float64\n",
      "oldbalanceDest    127253 non-null float64\n",
      "newbalanceDest    127253 non-null float64\n",
      "dtypes: float64(5), int64(1), object(1)\n",
      "memory usage: 6.8+ MB\n"
     ]
    }
   ],
   "source": [
    "dftest3 = dftest3.ix[:, [0, 1, 2, 4, 5, 7, 8]]\n",
    "dftest3.info()\n",
    "# dropping unwanted columns"
   ]
  },
  {
   "cell_type": "code",
   "execution_count": 45,
   "metadata": {
    "collapsed": false,
    "scrolled": true
   },
   "outputs": [
    {
     "data": {
      "text/html": [
       "<div>\n",
       "<table border=\"1\" class=\"dataframe\">\n",
       "  <thead>\n",
       "    <tr style=\"text-align: right;\">\n",
       "      <th></th>\n",
       "      <th>step</th>\n",
       "      <th>amount</th>\n",
       "      <th>oldbalanceOrg</th>\n",
       "      <th>newbalanceOrig</th>\n",
       "      <th>oldbalanceDest</th>\n",
       "      <th>newbalanceDest</th>\n",
       "      <th>was_CASH_IN</th>\n",
       "      <th>was_CASH_OUT</th>\n",
       "      <th>was_DEBIT</th>\n",
       "      <th>was_PAYMENT</th>\n",
       "      <th>was_TRANSFER</th>\n",
       "    </tr>\n",
       "  </thead>\n",
       "  <tbody>\n",
       "    <tr>\n",
       "      <th>0</th>\n",
       "      <td>257</td>\n",
       "      <td>208758.36</td>\n",
       "      <td>186770.00</td>\n",
       "      <td>0.00</td>\n",
       "      <td>98209.59</td>\n",
       "      <td>306967.94</td>\n",
       "      <td>0.0</td>\n",
       "      <td>1.0</td>\n",
       "      <td>0.0</td>\n",
       "      <td>0.0</td>\n",
       "      <td>0.0</td>\n",
       "    </tr>\n",
       "    <tr>\n",
       "      <th>1</th>\n",
       "      <td>375</td>\n",
       "      <td>8078.82</td>\n",
       "      <td>40458.00</td>\n",
       "      <td>32379.18</td>\n",
       "      <td>0.00</td>\n",
       "      <td>0.00</td>\n",
       "      <td>0.0</td>\n",
       "      <td>0.0</td>\n",
       "      <td>0.0</td>\n",
       "      <td>1.0</td>\n",
       "      <td>0.0</td>\n",
       "    </tr>\n",
       "    <tr>\n",
       "      <th>2</th>\n",
       "      <td>168</td>\n",
       "      <td>60783.19</td>\n",
       "      <td>0.00</td>\n",
       "      <td>0.00</td>\n",
       "      <td>747531.29</td>\n",
       "      <td>808314.48</td>\n",
       "      <td>0.0</td>\n",
       "      <td>1.0</td>\n",
       "      <td>0.0</td>\n",
       "      <td>0.0</td>\n",
       "      <td>0.0</td>\n",
       "    </tr>\n",
       "    <tr>\n",
       "      <th>3</th>\n",
       "      <td>590</td>\n",
       "      <td>267290.88</td>\n",
       "      <td>4646500.36</td>\n",
       "      <td>4913791.24</td>\n",
       "      <td>299549.13</td>\n",
       "      <td>32258.25</td>\n",
       "      <td>1.0</td>\n",
       "      <td>0.0</td>\n",
       "      <td>0.0</td>\n",
       "      <td>0.0</td>\n",
       "      <td>0.0</td>\n",
       "    </tr>\n",
       "    <tr>\n",
       "      <th>4</th>\n",
       "      <td>377</td>\n",
       "      <td>226575.08</td>\n",
       "      <td>7615712.40</td>\n",
       "      <td>7842287.48</td>\n",
       "      <td>1822519.59</td>\n",
       "      <td>1595944.51</td>\n",
       "      <td>1.0</td>\n",
       "      <td>0.0</td>\n",
       "      <td>0.0</td>\n",
       "      <td>0.0</td>\n",
       "      <td>0.0</td>\n",
       "    </tr>\n",
       "  </tbody>\n",
       "</table>\n",
       "</div>"
      ],
      "text/plain": [
       "   step     amount  oldbalanceOrg  newbalanceOrig  oldbalanceDest  \\\n",
       "0   257  208758.36      186770.00            0.00        98209.59   \n",
       "1   375    8078.82       40458.00        32379.18            0.00   \n",
       "2   168   60783.19           0.00            0.00       747531.29   \n",
       "3   590  267290.88     4646500.36      4913791.24       299549.13   \n",
       "4   377  226575.08     7615712.40      7842287.48      1822519.59   \n",
       "\n",
       "   newbalanceDest  was_CASH_IN  was_CASH_OUT  was_DEBIT  was_PAYMENT  \\\n",
       "0       306967.94          0.0           1.0        0.0          0.0   \n",
       "1            0.00          0.0           0.0        0.0          1.0   \n",
       "2       808314.48          0.0           1.0        0.0          0.0   \n",
       "3        32258.25          1.0           0.0        0.0          0.0   \n",
       "4      1595944.51          1.0           0.0        0.0          0.0   \n",
       "\n",
       "   was_TRANSFER  \n",
       "0           0.0  \n",
       "1           0.0  \n",
       "2           0.0  \n",
       "3           0.0  \n",
       "4           0.0  "
      ]
     },
     "execution_count": 45,
     "metadata": {},
     "output_type": "execute_result"
    }
   ],
   "source": [
    "dftest3 = pd.get_dummies(dftest3, prefix='was', prefix_sep='_')\n",
    "dftest3.head()\n",
    "# encoding categorical features"
   ]
  },
  {
   "cell_type": "code",
   "execution_count": 46,
   "metadata": {
    "collapsed": false
   },
   "outputs": [],
   "source": [
    "preds3 = model3.predict_proba(dftest3[features3])[:, 1]\n",
    "# making predictions on test data using full feature list"
   ]
  },
  {
   "cell_type": "code",
   "execution_count": 47,
   "metadata": {
    "collapsed": false
   },
   "outputs": [
    {
     "data": {
      "text/plain": [
       "array([ 0.,  0.,  0., ...,  0.,  0.,  0.])"
      ]
     },
     "execution_count": 47,
     "metadata": {},
     "output_type": "execute_result"
    }
   ],
   "source": [
    "preds3\n",
    "# making sure predictions are probabilities"
   ]
  },
  {
   "cell_type": "code",
   "execution_count": 48,
   "metadata": {
    "collapsed": false
   },
   "outputs": [
    {
     "data": {
      "text/plain": [
       "127253"
      ]
     },
     "execution_count": 48,
     "metadata": {},
     "output_type": "execute_result"
    }
   ],
   "source": [
    "len(preds3)\n",
    "# verifying preditions were on correct dataset"
   ]
  },
  {
   "cell_type": "code",
   "execution_count": 49,
   "metadata": {
    "collapsed": false
   },
   "outputs": [],
   "source": [
    "submit = {'Prediction': preds3, 'id': dftest.id}\n",
    "# making dictionary of predictions and ids"
   ]
  },
  {
   "cell_type": "code",
   "execution_count": 50,
   "metadata": {
    "collapsed": false
   },
   "outputs": [
    {
     "data": {
      "text/html": [
       "<div>\n",
       "<table border=\"1\" class=\"dataframe\">\n",
       "  <thead>\n",
       "    <tr style=\"text-align: right;\">\n",
       "      <th></th>\n",
       "      <th>Prediction</th>\n",
       "      <th>id</th>\n",
       "    </tr>\n",
       "  </thead>\n",
       "  <tbody>\n",
       "    <tr>\n",
       "      <th>0</th>\n",
       "      <td>0.0</td>\n",
       "      <td>98777</td>\n",
       "    </tr>\n",
       "    <tr>\n",
       "      <th>1</th>\n",
       "      <td>0.0</td>\n",
       "      <td>397457</td>\n",
       "    </tr>\n",
       "    <tr>\n",
       "      <th>2</th>\n",
       "      <td>0.0</td>\n",
       "      <td>592225</td>\n",
       "    </tr>\n",
       "    <tr>\n",
       "      <th>3</th>\n",
       "      <td>0.0</td>\n",
       "      <td>425029</td>\n",
       "    </tr>\n",
       "    <tr>\n",
       "      <th>4</th>\n",
       "      <td>0.0</td>\n",
       "      <td>118706</td>\n",
       "    </tr>\n",
       "  </tbody>\n",
       "</table>\n",
       "</div>"
      ],
      "text/plain": [
       "   Prediction      id\n",
       "0         0.0   98777\n",
       "1         0.0  397457\n",
       "2         0.0  592225\n",
       "3         0.0  425029\n",
       "4         0.0  118706"
      ]
     },
     "execution_count": 50,
     "metadata": {},
     "output_type": "execute_result"
    }
   ],
   "source": [
    "submit = pd.DataFrame(submit)\n",
    "submit.head()\n",
    "# creating dataframe"
   ]
  },
  {
   "cell_type": "code",
   "execution_count": 51,
   "metadata": {
    "collapsed": false
   },
   "outputs": [],
   "source": [
    "submit.to_csv('rt150pluskmeanspluskfolds3.csv')\n",
    "# exporting dataframe to .csv for submittal"
   ]
  },
  {
   "cell_type": "code",
   "execution_count": 52,
   "metadata": {
    "collapsed": false
   },
   "outputs": [
    {
     "name": "stdout",
     "output_type": "stream",
     "text": [
      "Feature ranking:\n",
      "1. feature 4 (0.299738)\n",
      "2. feature 9 (0.249815)\n",
      "3. feature 1 (0.169107)\n",
      "4. feature 10 (0.103635)\n",
      "5. feature 0 (0.077986)\n",
      "6. feature 2 (0.036284)\n",
      "7. feature 5 (0.034385)\n",
      "8. feature 7 (0.021780)\n",
      "9. feature 3 (0.006198)\n",
      "10. feature 6 (0.000953)\n",
      "11. feature 8 (0.000120)\n"
     ]
    }
   ],
   "source": [
    "importances3 = model3.feature_importances_\n",
    "std = np.std([model3.feature_importances_ for model3 in model3.estimators_],\n",
    "             axis=0)\n",
    "indices = np.argsort(importances3)[::-1]\n",
    "print(\"Feature ranking:\")\n",
    "for f in range(dftest3.shape[1]):\n",
    "    print(\"%d. feature %d (%f)\" % (f + 1, indices[f],\n",
    "                                   importances3[indices[f]]))\n",
    "# Print the feature ranking"
   ]
  },
  {
   "cell_type": "code",
   "execution_count": 53,
   "metadata": {
    "collapsed": false
   },
   "outputs": [
    {
     "data": {
      "text/plain": [
       "[['oldbalanceDest',\n",
       "  'amount',\n",
       "  'was_TRANSFER',\n",
       "  'was_CASH_IN',\n",
       "  'newbalanceDest',\n",
       "  'newbalanceOrig',\n",
       "  'was_PAYMENT',\n",
       "  'was_CASH_OUT',\n",
       "  'was_DEBIT',\n",
       "  'oldbalanceOrg',\n",
       "  'step']]"
      ]
     },
     "execution_count": 53,
     "metadata": {},
     "output_type": "execute_result"
    }
   ],
   "source": [
    "[features3]\n",
    "# Getting feature names\n",
    "# .97 of feature importance represented by:\n",
    "# Features 2, 10, 37, 9, 6, 31, 3, 18, 8"
   ]
  },
  {
   "cell_type": "markdown",
   "metadata": {},
   "source": [
    "### Process Checkpoint 2\n",
    "   The features drving this model are (in order of importance):\n",
    "Feature ranking:\n",
    "1. 'newbalanceDest' (0.286333)\n",
    "2. 'oldbalanceOrg' (0.235791)\n",
    "3. 'amount' (0.168333)\n",
    "4. 'step' (0.102982)\n",
    "5. 'oldbalanceDest' (0.081684)\n",
    "6. 'was_TRANSFER' (0.052463)\n",
    "7. 'newbalanceOrig' (0.033896)\n",
    "8. 'was_CASH_OUT' (0.032355)\n",
    "9. 'was_CASH_IN' (0.003684)\n",
    "10. 'was_PAYMENT (0.002448)\n",
    "11. 'was_DEBIT' (0.000030)\n",
    " \n",
    "We're getting better in model structure but losing performance based on leaderboard score.  My features are less in number paring them back to 11 from 38 but when submitting to the leaderboard my public score was 0.968805 and a private score of 0.985681.  Again, my private score surpasses my public score and I beleive this to be good my my over all scores degraded as did my ranking.  \n",
    "\n",
    "This tells me that despite the kmeans clustering perhaps not adding showing values when viewing the feature importances, they indeed have some value and shall be added back to my next iteration.  Next interation?  Yes.  Perhaps it is time to employ a feature scaling techniques and to try a switch in models.  Let's double our kmeans too - just for fun.\n",
    "\n",
    "As we get closer to our production model it is becoming clear the the things to look for when trying to detect fraudulent transactions are the size of the new balance of the destitation accounts, the beginning balances of the origin accounts, the transaction amount and the time of day.  Regardless of the presence of the kmeans clustering, these four features were found at the top of the feature importances which makes sense to me.  Our thieves clearly want to target getting the most reward for the risk associated with their nefarious activities.\n",
    "\n",
    "Let's further tweak our model and put an end to their criminal activities."
   ]
  },
  {
   "cell_type": "code",
   "execution_count": 54,
   "metadata": {
    "collapsed": false
   },
   "outputs": [
    {
     "data": {
      "text/html": [
       "<div>\n",
       "<table border=\"1\" class=\"dataframe\">\n",
       "  <thead>\n",
       "    <tr style=\"text-align: right;\">\n",
       "      <th></th>\n",
       "      <th>step</th>\n",
       "      <th>type</th>\n",
       "      <th>amount</th>\n",
       "      <th>nameOrig</th>\n",
       "      <th>oldbalanceOrg</th>\n",
       "      <th>newbalanceOrig</th>\n",
       "      <th>nameDest</th>\n",
       "      <th>oldbalanceDest</th>\n",
       "      <th>newbalanceDest</th>\n",
       "      <th>isFraud</th>\n",
       "      <th>id</th>\n",
       "      <th>Recipient</th>\n",
       "    </tr>\n",
       "  </thead>\n",
       "  <tbody>\n",
       "    <tr>\n",
       "      <th>0</th>\n",
       "      <td>303</td>\n",
       "      <td>CASH_IN</td>\n",
       "      <td>185164.71</td>\n",
       "      <td>C1499985475</td>\n",
       "      <td>3075480.01</td>\n",
       "      <td>3260644.72</td>\n",
       "      <td>C1771727877</td>\n",
       "      <td>881991.88</td>\n",
       "      <td>696827.18</td>\n",
       "      <td>0</td>\n",
       "      <td>540576</td>\n",
       "      <td>C</td>\n",
       "    </tr>\n",
       "    <tr>\n",
       "      <th>1</th>\n",
       "      <td>356</td>\n",
       "      <td>CASH_IN</td>\n",
       "      <td>79083.65</td>\n",
       "      <td>C108745493</td>\n",
       "      <td>5489716.32</td>\n",
       "      <td>5568799.97</td>\n",
       "      <td>C1167754301</td>\n",
       "      <td>153219.51</td>\n",
       "      <td>74135.86</td>\n",
       "      <td>0</td>\n",
       "      <td>120014</td>\n",
       "      <td>C</td>\n",
       "    </tr>\n",
       "    <tr>\n",
       "      <th>2</th>\n",
       "      <td>10</td>\n",
       "      <td>TRANSFER</td>\n",
       "      <td>2336832.78</td>\n",
       "      <td>C975415534</td>\n",
       "      <td>147958.78</td>\n",
       "      <td>0.00</td>\n",
       "      <td>C718985478</td>\n",
       "      <td>5069347.06</td>\n",
       "      <td>7307970.46</td>\n",
       "      <td>0</td>\n",
       "      <td>623141</td>\n",
       "      <td>C</td>\n",
       "    </tr>\n",
       "    <tr>\n",
       "      <th>3</th>\n",
       "      <td>238</td>\n",
       "      <td>TRANSFER</td>\n",
       "      <td>228517.91</td>\n",
       "      <td>C1968162743</td>\n",
       "      <td>0.00</td>\n",
       "      <td>0.00</td>\n",
       "      <td>C1544755390</td>\n",
       "      <td>18768561.09</td>\n",
       "      <td>18997079.00</td>\n",
       "      <td>0</td>\n",
       "      <td>547737</td>\n",
       "      <td>C</td>\n",
       "    </tr>\n",
       "    <tr>\n",
       "      <th>4</th>\n",
       "      <td>133</td>\n",
       "      <td>CASH_IN</td>\n",
       "      <td>180179.73</td>\n",
       "      <td>C467196066</td>\n",
       "      <td>21448.00</td>\n",
       "      <td>201627.73</td>\n",
       "      <td>C1386847873</td>\n",
       "      <td>7160295.13</td>\n",
       "      <td>6980115.40</td>\n",
       "      <td>0</td>\n",
       "      <td>569291</td>\n",
       "      <td>C</td>\n",
       "    </tr>\n",
       "  </tbody>\n",
       "</table>\n",
       "</div>"
      ],
      "text/plain": [
       "   step      type      amount     nameOrig  oldbalanceOrg  newbalanceOrig  \\\n",
       "0   303   CASH_IN   185164.71  C1499985475     3075480.01      3260644.72   \n",
       "1   356   CASH_IN    79083.65   C108745493     5489716.32      5568799.97   \n",
       "2    10  TRANSFER  2336832.78   C975415534      147958.78            0.00   \n",
       "3   238  TRANSFER   228517.91  C1968162743           0.00            0.00   \n",
       "4   133   CASH_IN   180179.73   C467196066       21448.00       201627.73   \n",
       "\n",
       "      nameDest  oldbalanceDest  newbalanceDest  isFraud      id Recipient  \n",
       "0  C1771727877       881991.88       696827.18        0  540576         C  \n",
       "1  C1167754301       153219.51        74135.86        0  120014         C  \n",
       "2   C718985478      5069347.06      7307970.46        0  623141         C  \n",
       "3  C1544755390     18768561.09     18997079.00        0  547737         C  \n",
       "4  C1386847873      7160295.13      6980115.40        0  569291         C  "
      ]
     },
     "execution_count": 54,
     "metadata": {},
     "output_type": "execute_result"
    }
   ],
   "source": [
    "df4 = df\n",
    "df4.head()\n",
    "# setting up df4"
   ]
  },
  {
   "cell_type": "code",
   "execution_count": 55,
   "metadata": {
    "collapsed": false
   },
   "outputs": [
    {
     "data": {
      "text/html": [
       "<div>\n",
       "<table border=\"1\" class=\"dataframe\">\n",
       "  <thead>\n",
       "    <tr style=\"text-align: right;\">\n",
       "      <th></th>\n",
       "      <th>step</th>\n",
       "      <th>type</th>\n",
       "      <th>amount</th>\n",
       "      <th>nameOrig</th>\n",
       "      <th>oldbalanceOrg</th>\n",
       "      <th>newbalanceOrig</th>\n",
       "      <th>nameDest</th>\n",
       "      <th>oldbalanceDest</th>\n",
       "      <th>newbalanceDest</th>\n",
       "      <th>isFraud</th>\n",
       "      <th>id</th>\n",
       "      <th>Recipient</th>\n",
       "    </tr>\n",
       "  </thead>\n",
       "  <tbody>\n",
       "    <tr>\n",
       "      <th>0</th>\n",
       "      <td>303</td>\n",
       "      <td>CASH_IN</td>\n",
       "      <td>185164.71</td>\n",
       "      <td>C1499985475</td>\n",
       "      <td>3075480.01</td>\n",
       "      <td>3260644.72</td>\n",
       "      <td>C1771727877</td>\n",
       "      <td>881991.88</td>\n",
       "      <td>696827.18</td>\n",
       "      <td>0</td>\n",
       "      <td>540576</td>\n",
       "      <td>C</td>\n",
       "    </tr>\n",
       "    <tr>\n",
       "      <th>1</th>\n",
       "      <td>356</td>\n",
       "      <td>CASH_IN</td>\n",
       "      <td>79083.65</td>\n",
       "      <td>C108745493</td>\n",
       "      <td>5489716.32</td>\n",
       "      <td>5568799.97</td>\n",
       "      <td>C1167754301</td>\n",
       "      <td>153219.51</td>\n",
       "      <td>74135.86</td>\n",
       "      <td>0</td>\n",
       "      <td>120014</td>\n",
       "      <td>C</td>\n",
       "    </tr>\n",
       "    <tr>\n",
       "      <th>2</th>\n",
       "      <td>10</td>\n",
       "      <td>TRANSFER</td>\n",
       "      <td>2336832.78</td>\n",
       "      <td>C975415534</td>\n",
       "      <td>147958.78</td>\n",
       "      <td>0.00</td>\n",
       "      <td>C718985478</td>\n",
       "      <td>5069347.06</td>\n",
       "      <td>7307970.46</td>\n",
       "      <td>0</td>\n",
       "      <td>623141</td>\n",
       "      <td>C</td>\n",
       "    </tr>\n",
       "    <tr>\n",
       "      <th>3</th>\n",
       "      <td>238</td>\n",
       "      <td>TRANSFER</td>\n",
       "      <td>228517.91</td>\n",
       "      <td>C1968162743</td>\n",
       "      <td>0.00</td>\n",
       "      <td>0.00</td>\n",
       "      <td>C1544755390</td>\n",
       "      <td>18768561.09</td>\n",
       "      <td>18997079.00</td>\n",
       "      <td>0</td>\n",
       "      <td>547737</td>\n",
       "      <td>C</td>\n",
       "    </tr>\n",
       "    <tr>\n",
       "      <th>4</th>\n",
       "      <td>133</td>\n",
       "      <td>CASH_IN</td>\n",
       "      <td>180179.73</td>\n",
       "      <td>C467196066</td>\n",
       "      <td>21448.00</td>\n",
       "      <td>201627.73</td>\n",
       "      <td>C1386847873</td>\n",
       "      <td>7160295.13</td>\n",
       "      <td>6980115.40</td>\n",
       "      <td>0</td>\n",
       "      <td>569291</td>\n",
       "      <td>C</td>\n",
       "    </tr>\n",
       "  </tbody>\n",
       "</table>\n",
       "</div>"
      ],
      "text/plain": [
       "   step      type      amount     nameOrig  oldbalanceOrg  newbalanceOrig  \\\n",
       "0   303   CASH_IN   185164.71  C1499985475     3075480.01      3260644.72   \n",
       "1   356   CASH_IN    79083.65   C108745493     5489716.32      5568799.97   \n",
       "2    10  TRANSFER  2336832.78   C975415534      147958.78            0.00   \n",
       "3   238  TRANSFER   228517.91  C1968162743           0.00            0.00   \n",
       "4   133   CASH_IN   180179.73   C467196066       21448.00       201627.73   \n",
       "\n",
       "      nameDest  oldbalanceDest  newbalanceDest  isFraud      id Recipient  \n",
       "0  C1771727877       881991.88       696827.18        0  540576         C  \n",
       "1  C1167754301       153219.51        74135.86        0  120014         C  \n",
       "2   C718985478      5069347.06      7307970.46        0  623141         C  \n",
       "3  C1544755390     18768561.09     18997079.00        0  547737         C  \n",
       "4  C1386847873      7160295.13      6980115.40        0  569291         C  "
      ]
     },
     "execution_count": 55,
     "metadata": {},
     "output_type": "execute_result"
    }
   ],
   "source": [
    "df4['Recipient'] = df4['nameDest'].str[:1]\n",
    "df4.head()\n",
    "# Splitting nameDest to retain letter"
   ]
  },
  {
   "cell_type": "code",
   "execution_count": 56,
   "metadata": {
    "collapsed": false
   },
   "outputs": [
    {
     "data": {
      "text/html": [
       "<div>\n",
       "<table border=\"1\" class=\"dataframe\">\n",
       "  <thead>\n",
       "    <tr style=\"text-align: right;\">\n",
       "      <th></th>\n",
       "      <th>step</th>\n",
       "      <th>type</th>\n",
       "      <th>amount</th>\n",
       "      <th>oldbalanceOrg</th>\n",
       "      <th>newbalanceOrig</th>\n",
       "      <th>oldbalanceDest</th>\n",
       "      <th>newbalanceDest</th>\n",
       "      <th>isFraud</th>\n",
       "      <th>Recipient</th>\n",
       "    </tr>\n",
       "  </thead>\n",
       "  <tbody>\n",
       "    <tr>\n",
       "      <th>0</th>\n",
       "      <td>303</td>\n",
       "      <td>CASH_IN</td>\n",
       "      <td>185164.71</td>\n",
       "      <td>3075480.01</td>\n",
       "      <td>3260644.72</td>\n",
       "      <td>881991.88</td>\n",
       "      <td>696827.18</td>\n",
       "      <td>0</td>\n",
       "      <td>C</td>\n",
       "    </tr>\n",
       "    <tr>\n",
       "      <th>1</th>\n",
       "      <td>356</td>\n",
       "      <td>CASH_IN</td>\n",
       "      <td>79083.65</td>\n",
       "      <td>5489716.32</td>\n",
       "      <td>5568799.97</td>\n",
       "      <td>153219.51</td>\n",
       "      <td>74135.86</td>\n",
       "      <td>0</td>\n",
       "      <td>C</td>\n",
       "    </tr>\n",
       "    <tr>\n",
       "      <th>2</th>\n",
       "      <td>10</td>\n",
       "      <td>TRANSFER</td>\n",
       "      <td>2336832.78</td>\n",
       "      <td>147958.78</td>\n",
       "      <td>0.00</td>\n",
       "      <td>5069347.06</td>\n",
       "      <td>7307970.46</td>\n",
       "      <td>0</td>\n",
       "      <td>C</td>\n",
       "    </tr>\n",
       "    <tr>\n",
       "      <th>3</th>\n",
       "      <td>238</td>\n",
       "      <td>TRANSFER</td>\n",
       "      <td>228517.91</td>\n",
       "      <td>0.00</td>\n",
       "      <td>0.00</td>\n",
       "      <td>18768561.09</td>\n",
       "      <td>18997079.00</td>\n",
       "      <td>0</td>\n",
       "      <td>C</td>\n",
       "    </tr>\n",
       "    <tr>\n",
       "      <th>4</th>\n",
       "      <td>133</td>\n",
       "      <td>CASH_IN</td>\n",
       "      <td>180179.73</td>\n",
       "      <td>21448.00</td>\n",
       "      <td>201627.73</td>\n",
       "      <td>7160295.13</td>\n",
       "      <td>6980115.40</td>\n",
       "      <td>0</td>\n",
       "      <td>C</td>\n",
       "    </tr>\n",
       "  </tbody>\n",
       "</table>\n",
       "</div>"
      ],
      "text/plain": [
       "   step      type      amount  oldbalanceOrg  newbalanceOrig  oldbalanceDest  \\\n",
       "0   303   CASH_IN   185164.71     3075480.01      3260644.72       881991.88   \n",
       "1   356   CASH_IN    79083.65     5489716.32      5568799.97       153219.51   \n",
       "2    10  TRANSFER  2336832.78      147958.78            0.00      5069347.06   \n",
       "3   238  TRANSFER   228517.91           0.00            0.00     18768561.09   \n",
       "4   133   CASH_IN   180179.73       21448.00       201627.73      7160295.13   \n",
       "\n",
       "   newbalanceDest  isFraud Recipient  \n",
       "0       696827.18        0         C  \n",
       "1        74135.86        0         C  \n",
       "2      7307970.46        0         C  \n",
       "3     18997079.00        0         C  \n",
       "4      6980115.40        0         C  "
      ]
     },
     "execution_count": 56,
     "metadata": {},
     "output_type": "execute_result"
    }
   ],
   "source": [
    "df4 = df4.ix[:, [0, 1, 2, 4, 5, 7, 8, 9, 11]]\n",
    "df4.head()\n",
    "# dropping unwanted columns"
   ]
  },
  {
   "cell_type": "code",
   "execution_count": 57,
   "metadata": {
    "collapsed": false
   },
   "outputs": [],
   "source": [
    "df4.amount = np.log1p(df4.amount)\n",
    "df4.oldbalanceOrg = np.log1p(df4.oldbalanceOrg)\n",
    "df4.newbalanceOrig = np.log1p(df4.newbalanceOrig)\n",
    "df4.oldbalanceDest = np.log1p(df4.oldbalanceDest)\n",
    "df4.newbalanceDest = np.log1p(df4.newbalanceDest)\n",
    "df4.step = np.log1p(df4.step)\n",
    "# transforming values to normally distributed"
   ]
  },
  {
   "cell_type": "code",
   "execution_count": 58,
   "metadata": {
    "collapsed": false,
    "scrolled": true
   },
   "outputs": [
    {
     "data": {
      "text/html": [
       "<div>\n",
       "<table border=\"1\" class=\"dataframe\">\n",
       "  <thead>\n",
       "    <tr style=\"text-align: right;\">\n",
       "      <th></th>\n",
       "      <th>step</th>\n",
       "      <th>type</th>\n",
       "      <th>amount</th>\n",
       "      <th>oldbalanceOrg</th>\n",
       "      <th>newbalanceOrig</th>\n",
       "      <th>oldbalanceDest</th>\n",
       "      <th>newbalanceDest</th>\n",
       "      <th>isFraud</th>\n",
       "      <th>Recipient</th>\n",
       "    </tr>\n",
       "  </thead>\n",
       "  <tbody>\n",
       "    <tr>\n",
       "      <th>0</th>\n",
       "      <td>5.717028</td>\n",
       "      <td>CASH_IN</td>\n",
       "      <td>12.129006</td>\n",
       "      <td>14.938972</td>\n",
       "      <td>14.997436</td>\n",
       "      <td>13.689939</td>\n",
       "      <td>13.454294</td>\n",
       "      <td>0</td>\n",
       "      <td>C</td>\n",
       "    </tr>\n",
       "    <tr>\n",
       "      <th>1</th>\n",
       "      <td>5.877736</td>\n",
       "      <td>CASH_IN</td>\n",
       "      <td>11.278274</td>\n",
       "      <td>15.518387</td>\n",
       "      <td>15.532690</td>\n",
       "      <td>11.939633</td>\n",
       "      <td>11.213668</td>\n",
       "      <td>0</td>\n",
       "      <td>C</td>\n",
       "    </tr>\n",
       "    <tr>\n",
       "      <th>2</th>\n",
       "      <td>2.397895</td>\n",
       "      <td>TRANSFER</td>\n",
       "      <td>14.664307</td>\n",
       "      <td>11.904696</td>\n",
       "      <td>0.000000</td>\n",
       "      <td>15.438723</td>\n",
       "      <td>15.804476</td>\n",
       "      <td>0</td>\n",
       "      <td>C</td>\n",
       "    </tr>\n",
       "    <tr>\n",
       "      <th>3</th>\n",
       "      <td>5.476464</td>\n",
       "      <td>TRANSFER</td>\n",
       "      <td>12.339374</td>\n",
       "      <td>0.000000</td>\n",
       "      <td>0.000000</td>\n",
       "      <td>16.747694</td>\n",
       "      <td>16.759796</td>\n",
       "      <td>0</td>\n",
       "      <td>C</td>\n",
       "    </tr>\n",
       "    <tr>\n",
       "      <th>4</th>\n",
       "      <td>4.897840</td>\n",
       "      <td>CASH_IN</td>\n",
       "      <td>12.101716</td>\n",
       "      <td>9.973433</td>\n",
       "      <td>12.214183</td>\n",
       "      <td>15.784062</td>\n",
       "      <td>15.758576</td>\n",
       "      <td>0</td>\n",
       "      <td>C</td>\n",
       "    </tr>\n",
       "  </tbody>\n",
       "</table>\n",
       "</div>"
      ],
      "text/plain": [
       "       step      type     amount  oldbalanceOrg  newbalanceOrig  \\\n",
       "0  5.717028   CASH_IN  12.129006      14.938972       14.997436   \n",
       "1  5.877736   CASH_IN  11.278274      15.518387       15.532690   \n",
       "2  2.397895  TRANSFER  14.664307      11.904696        0.000000   \n",
       "3  5.476464  TRANSFER  12.339374       0.000000        0.000000   \n",
       "4  4.897840   CASH_IN  12.101716       9.973433       12.214183   \n",
       "\n",
       "   oldbalanceDest  newbalanceDest  isFraud Recipient  \n",
       "0       13.689939       13.454294        0         C  \n",
       "1       11.939633       11.213668        0         C  \n",
       "2       15.438723       15.804476        0         C  \n",
       "3       16.747694       16.759796        0         C  \n",
       "4       15.784062       15.758576        0         C  "
      ]
     },
     "execution_count": 58,
     "metadata": {},
     "output_type": "execute_result"
    }
   ],
   "source": [
    "df4.head()\n",
    "# confirming transformation"
   ]
  },
  {
   "cell_type": "code",
   "execution_count": 59,
   "metadata": {
    "collapsed": false,
    "scrolled": false
   },
   "outputs": [
    {
     "data": {
      "text/html": [
       "<div>\n",
       "<table border=\"1\" class=\"dataframe\">\n",
       "  <thead>\n",
       "    <tr style=\"text-align: right;\">\n",
       "      <th></th>\n",
       "      <th>step</th>\n",
       "      <th>amount</th>\n",
       "      <th>oldbalanceOrg</th>\n",
       "      <th>newbalanceOrig</th>\n",
       "      <th>oldbalanceDest</th>\n",
       "      <th>newbalanceDest</th>\n",
       "      <th>isFraud</th>\n",
       "      <th>was_CASH_IN</th>\n",
       "      <th>was_CASH_OUT</th>\n",
       "      <th>was_DEBIT</th>\n",
       "      <th>was_PAYMENT</th>\n",
       "      <th>was_TRANSFER</th>\n",
       "      <th>was_C</th>\n",
       "      <th>was_M</th>\n",
       "    </tr>\n",
       "  </thead>\n",
       "  <tbody>\n",
       "    <tr>\n",
       "      <th>0</th>\n",
       "      <td>5.717028</td>\n",
       "      <td>12.129006</td>\n",
       "      <td>14.938972</td>\n",
       "      <td>14.997436</td>\n",
       "      <td>13.689939</td>\n",
       "      <td>13.454294</td>\n",
       "      <td>0</td>\n",
       "      <td>1.0</td>\n",
       "      <td>0.0</td>\n",
       "      <td>0.0</td>\n",
       "      <td>0.0</td>\n",
       "      <td>0.0</td>\n",
       "      <td>1.0</td>\n",
       "      <td>0.0</td>\n",
       "    </tr>\n",
       "    <tr>\n",
       "      <th>1</th>\n",
       "      <td>5.877736</td>\n",
       "      <td>11.278274</td>\n",
       "      <td>15.518387</td>\n",
       "      <td>15.532690</td>\n",
       "      <td>11.939633</td>\n",
       "      <td>11.213668</td>\n",
       "      <td>0</td>\n",
       "      <td>1.0</td>\n",
       "      <td>0.0</td>\n",
       "      <td>0.0</td>\n",
       "      <td>0.0</td>\n",
       "      <td>0.0</td>\n",
       "      <td>1.0</td>\n",
       "      <td>0.0</td>\n",
       "    </tr>\n",
       "    <tr>\n",
       "      <th>2</th>\n",
       "      <td>2.397895</td>\n",
       "      <td>14.664307</td>\n",
       "      <td>11.904696</td>\n",
       "      <td>0.000000</td>\n",
       "      <td>15.438723</td>\n",
       "      <td>15.804476</td>\n",
       "      <td>0</td>\n",
       "      <td>0.0</td>\n",
       "      <td>0.0</td>\n",
       "      <td>0.0</td>\n",
       "      <td>0.0</td>\n",
       "      <td>1.0</td>\n",
       "      <td>1.0</td>\n",
       "      <td>0.0</td>\n",
       "    </tr>\n",
       "    <tr>\n",
       "      <th>3</th>\n",
       "      <td>5.476464</td>\n",
       "      <td>12.339374</td>\n",
       "      <td>0.000000</td>\n",
       "      <td>0.000000</td>\n",
       "      <td>16.747694</td>\n",
       "      <td>16.759796</td>\n",
       "      <td>0</td>\n",
       "      <td>0.0</td>\n",
       "      <td>0.0</td>\n",
       "      <td>0.0</td>\n",
       "      <td>0.0</td>\n",
       "      <td>1.0</td>\n",
       "      <td>1.0</td>\n",
       "      <td>0.0</td>\n",
       "    </tr>\n",
       "    <tr>\n",
       "      <th>4</th>\n",
       "      <td>4.897840</td>\n",
       "      <td>12.101716</td>\n",
       "      <td>9.973433</td>\n",
       "      <td>12.214183</td>\n",
       "      <td>15.784062</td>\n",
       "      <td>15.758576</td>\n",
       "      <td>0</td>\n",
       "      <td>1.0</td>\n",
       "      <td>0.0</td>\n",
       "      <td>0.0</td>\n",
       "      <td>0.0</td>\n",
       "      <td>0.0</td>\n",
       "      <td>1.0</td>\n",
       "      <td>0.0</td>\n",
       "    </tr>\n",
       "  </tbody>\n",
       "</table>\n",
       "</div>"
      ],
      "text/plain": [
       "       step     amount  oldbalanceOrg  newbalanceOrig  oldbalanceDest  \\\n",
       "0  5.717028  12.129006      14.938972       14.997436       13.689939   \n",
       "1  5.877736  11.278274      15.518387       15.532690       11.939633   \n",
       "2  2.397895  14.664307      11.904696        0.000000       15.438723   \n",
       "3  5.476464  12.339374       0.000000        0.000000       16.747694   \n",
       "4  4.897840  12.101716       9.973433       12.214183       15.784062   \n",
       "\n",
       "   newbalanceDest  isFraud  was_CASH_IN  was_CASH_OUT  was_DEBIT  was_PAYMENT  \\\n",
       "0       13.454294        0          1.0           0.0        0.0          0.0   \n",
       "1       11.213668        0          1.0           0.0        0.0          0.0   \n",
       "2       15.804476        0          0.0           0.0        0.0          0.0   \n",
       "3       16.759796        0          0.0           0.0        0.0          0.0   \n",
       "4       15.758576        0          1.0           0.0        0.0          0.0   \n",
       "\n",
       "   was_TRANSFER  was_C  was_M  \n",
       "0           0.0    1.0    0.0  \n",
       "1           0.0    1.0    0.0  \n",
       "2           1.0    1.0    0.0  \n",
       "3           1.0    1.0    0.0  \n",
       "4           0.0    1.0    0.0  "
      ]
     },
     "execution_count": 59,
     "metadata": {},
     "output_type": "execute_result"
    }
   ],
   "source": [
    "df4 = pd.get_dummies(df4, prefix='was', prefix_sep='_')\n",
    "df4.head()\n",
    "# encoding categorical features"
   ]
  },
  {
   "cell_type": "code",
   "execution_count": 60,
   "metadata": {
    "collapsed": false
   },
   "outputs": [
    {
     "name": "stdout",
     "output_type": "stream",
     "text": [
      "['oldbalanceDest', 'was_C', 'amount', 'was_M', 'was_TRANSFER', 'was_CASH_IN', 'newbalanceDest', 'newbalanceOrig', 'was_PAYMENT', 'was_CASH_OUT', 'was_DEBIT', 'oldbalanceOrg', 'step']\n"
     ]
    }
   ],
   "source": [
    "features4 = list(set(df4.columns) - {'isFraud'})\n",
    "print(features4)\n",
    "# setting features to a list"
   ]
  },
  {
   "cell_type": "code",
   "execution_count": 61,
   "metadata": {
    "collapsed": false
   },
   "outputs": [
    {
     "data": {
      "text/plain": [
       "KMeans(algorithm='auto', copy_x=True, init='k-means++', max_iter=300,\n",
       "    n_clusters=50, n_init=10, n_jobs=-1, precompute_distances='auto',\n",
       "    random_state=0, tol=0.0001, verbose=0)"
      ]
     },
     "execution_count": 61,
     "metadata": {},
     "output_type": "execute_result"
    }
   ],
   "source": [
    "kmeans = KMeans(n_clusters=50, random_state=0, n_jobs=-1)\n",
    "kmeans.fit(df4[features4])\n",
    "# breaking data into 50 clusters based on features"
   ]
  },
  {
   "cell_type": "code",
   "execution_count": 62,
   "metadata": {
    "collapsed": true
   },
   "outputs": [],
   "source": [
    "predictedLabels = kmeans.predict(df4[features4])\n",
    "df4['predictedCluster'] = predictedLabels\n",
    "df4['predictedCluster'] = df4.predictedCluster.astype('object')\n",
    "# setting predicted clusters to variable\n",
    "# adding predicted clusters to df1\n",
    "# setting new feature dtype"
   ]
  },
  {
   "cell_type": "code",
   "execution_count": 63,
   "metadata": {
    "collapsed": false,
    "scrolled": true
   },
   "outputs": [
    {
     "data": {
      "text/html": [
       "<div>\n",
       "<table border=\"1\" class=\"dataframe\">\n",
       "  <thead>\n",
       "    <tr style=\"text-align: right;\">\n",
       "      <th></th>\n",
       "      <th>step</th>\n",
       "      <th>amount</th>\n",
       "      <th>oldbalanceOrg</th>\n",
       "      <th>newbalanceOrig</th>\n",
       "      <th>oldbalanceDest</th>\n",
       "      <th>newbalanceDest</th>\n",
       "      <th>isFraud</th>\n",
       "      <th>was_CASH_IN</th>\n",
       "      <th>was_CASH_OUT</th>\n",
       "      <th>was_DEBIT</th>\n",
       "      <th>was_PAYMENT</th>\n",
       "      <th>was_TRANSFER</th>\n",
       "      <th>was_C</th>\n",
       "      <th>was_M</th>\n",
       "      <th>predictedCluster</th>\n",
       "    </tr>\n",
       "  </thead>\n",
       "  <tbody>\n",
       "    <tr>\n",
       "      <th>0</th>\n",
       "      <td>5.717028</td>\n",
       "      <td>12.129006</td>\n",
       "      <td>14.938972</td>\n",
       "      <td>14.997436</td>\n",
       "      <td>13.689939</td>\n",
       "      <td>13.454294</td>\n",
       "      <td>0</td>\n",
       "      <td>1.0</td>\n",
       "      <td>0.0</td>\n",
       "      <td>0.0</td>\n",
       "      <td>0.0</td>\n",
       "      <td>0.0</td>\n",
       "      <td>1.0</td>\n",
       "      <td>0.0</td>\n",
       "      <td>6</td>\n",
       "    </tr>\n",
       "    <tr>\n",
       "      <th>1</th>\n",
       "      <td>5.877736</td>\n",
       "      <td>11.278274</td>\n",
       "      <td>15.518387</td>\n",
       "      <td>15.532690</td>\n",
       "      <td>11.939633</td>\n",
       "      <td>11.213668</td>\n",
       "      <td>0</td>\n",
       "      <td>1.0</td>\n",
       "      <td>0.0</td>\n",
       "      <td>0.0</td>\n",
       "      <td>0.0</td>\n",
       "      <td>0.0</td>\n",
       "      <td>1.0</td>\n",
       "      <td>0.0</td>\n",
       "      <td>27</td>\n",
       "    </tr>\n",
       "    <tr>\n",
       "      <th>2</th>\n",
       "      <td>2.397895</td>\n",
       "      <td>14.664307</td>\n",
       "      <td>11.904696</td>\n",
       "      <td>0.000000</td>\n",
       "      <td>15.438723</td>\n",
       "      <td>15.804476</td>\n",
       "      <td>0</td>\n",
       "      <td>0.0</td>\n",
       "      <td>0.0</td>\n",
       "      <td>0.0</td>\n",
       "      <td>0.0</td>\n",
       "      <td>1.0</td>\n",
       "      <td>1.0</td>\n",
       "      <td>0.0</td>\n",
       "      <td>9</td>\n",
       "    </tr>\n",
       "    <tr>\n",
       "      <th>3</th>\n",
       "      <td>5.476464</td>\n",
       "      <td>12.339374</td>\n",
       "      <td>0.000000</td>\n",
       "      <td>0.000000</td>\n",
       "      <td>16.747694</td>\n",
       "      <td>16.759796</td>\n",
       "      <td>0</td>\n",
       "      <td>0.0</td>\n",
       "      <td>0.0</td>\n",
       "      <td>0.0</td>\n",
       "      <td>0.0</td>\n",
       "      <td>1.0</td>\n",
       "      <td>1.0</td>\n",
       "      <td>0.0</td>\n",
       "      <td>38</td>\n",
       "    </tr>\n",
       "    <tr>\n",
       "      <th>4</th>\n",
       "      <td>4.897840</td>\n",
       "      <td>12.101716</td>\n",
       "      <td>9.973433</td>\n",
       "      <td>12.214183</td>\n",
       "      <td>15.784062</td>\n",
       "      <td>15.758576</td>\n",
       "      <td>0</td>\n",
       "      <td>1.0</td>\n",
       "      <td>0.0</td>\n",
       "      <td>0.0</td>\n",
       "      <td>0.0</td>\n",
       "      <td>0.0</td>\n",
       "      <td>1.0</td>\n",
       "      <td>0.0</td>\n",
       "      <td>25</td>\n",
       "    </tr>\n",
       "  </tbody>\n",
       "</table>\n",
       "</div>"
      ],
      "text/plain": [
       "       step     amount  oldbalanceOrg  newbalanceOrig  oldbalanceDest  \\\n",
       "0  5.717028  12.129006      14.938972       14.997436       13.689939   \n",
       "1  5.877736  11.278274      15.518387       15.532690       11.939633   \n",
       "2  2.397895  14.664307      11.904696        0.000000       15.438723   \n",
       "3  5.476464  12.339374       0.000000        0.000000       16.747694   \n",
       "4  4.897840  12.101716       9.973433       12.214183       15.784062   \n",
       "\n",
       "   newbalanceDest  isFraud  was_CASH_IN  was_CASH_OUT  was_DEBIT  was_PAYMENT  \\\n",
       "0       13.454294        0          1.0           0.0        0.0          0.0   \n",
       "1       11.213668        0          1.0           0.0        0.0          0.0   \n",
       "2       15.804476        0          0.0           0.0        0.0          0.0   \n",
       "3       16.759796        0          0.0           0.0        0.0          0.0   \n",
       "4       15.758576        0          1.0           0.0        0.0          0.0   \n",
       "\n",
       "   was_TRANSFER  was_C  was_M predictedCluster  \n",
       "0           0.0    1.0    0.0                6  \n",
       "1           0.0    1.0    0.0               27  \n",
       "2           1.0    1.0    0.0                9  \n",
       "3           1.0    1.0    0.0               38  \n",
       "4           0.0    1.0    0.0               25  "
      ]
     },
     "execution_count": 63,
     "metadata": {},
     "output_type": "execute_result"
    }
   ],
   "source": [
    "df4.head()\n",
    "# confirming transformation"
   ]
  },
  {
   "cell_type": "code",
   "execution_count": 64,
   "metadata": {
    "collapsed": false,
    "scrolled": false
   },
   "outputs": [
    {
     "data": {
      "text/html": [
       "<div>\n",
       "<table border=\"1\" class=\"dataframe\">\n",
       "  <thead>\n",
       "    <tr style=\"text-align: right;\">\n",
       "      <th></th>\n",
       "      <th>step</th>\n",
       "      <th>amount</th>\n",
       "      <th>oldbalanceOrg</th>\n",
       "      <th>newbalanceOrig</th>\n",
       "      <th>oldbalanceDest</th>\n",
       "      <th>newbalanceDest</th>\n",
       "      <th>isFraud</th>\n",
       "      <th>was_CASH_IN</th>\n",
       "      <th>was_CASH_OUT</th>\n",
       "      <th>was_DEBIT</th>\n",
       "      <th>...</th>\n",
       "      <th>was_40</th>\n",
       "      <th>was_41</th>\n",
       "      <th>was_42</th>\n",
       "      <th>was_43</th>\n",
       "      <th>was_44</th>\n",
       "      <th>was_45</th>\n",
       "      <th>was_46</th>\n",
       "      <th>was_47</th>\n",
       "      <th>was_48</th>\n",
       "      <th>was_49</th>\n",
       "    </tr>\n",
       "  </thead>\n",
       "  <tbody>\n",
       "    <tr>\n",
       "      <th>0</th>\n",
       "      <td>5.717028</td>\n",
       "      <td>12.129006</td>\n",
       "      <td>14.938972</td>\n",
       "      <td>14.997436</td>\n",
       "      <td>13.689939</td>\n",
       "      <td>13.454294</td>\n",
       "      <td>0</td>\n",
       "      <td>1.0</td>\n",
       "      <td>0.0</td>\n",
       "      <td>0.0</td>\n",
       "      <td>...</td>\n",
       "      <td>0.0</td>\n",
       "      <td>0.0</td>\n",
       "      <td>0.0</td>\n",
       "      <td>0.0</td>\n",
       "      <td>0.0</td>\n",
       "      <td>0.0</td>\n",
       "      <td>0.0</td>\n",
       "      <td>0.0</td>\n",
       "      <td>0.0</td>\n",
       "      <td>0.0</td>\n",
       "    </tr>\n",
       "    <tr>\n",
       "      <th>1</th>\n",
       "      <td>5.877736</td>\n",
       "      <td>11.278274</td>\n",
       "      <td>15.518387</td>\n",
       "      <td>15.532690</td>\n",
       "      <td>11.939633</td>\n",
       "      <td>11.213668</td>\n",
       "      <td>0</td>\n",
       "      <td>1.0</td>\n",
       "      <td>0.0</td>\n",
       "      <td>0.0</td>\n",
       "      <td>...</td>\n",
       "      <td>0.0</td>\n",
       "      <td>0.0</td>\n",
       "      <td>0.0</td>\n",
       "      <td>0.0</td>\n",
       "      <td>0.0</td>\n",
       "      <td>0.0</td>\n",
       "      <td>0.0</td>\n",
       "      <td>0.0</td>\n",
       "      <td>0.0</td>\n",
       "      <td>0.0</td>\n",
       "    </tr>\n",
       "    <tr>\n",
       "      <th>2</th>\n",
       "      <td>2.397895</td>\n",
       "      <td>14.664307</td>\n",
       "      <td>11.904696</td>\n",
       "      <td>0.000000</td>\n",
       "      <td>15.438723</td>\n",
       "      <td>15.804476</td>\n",
       "      <td>0</td>\n",
       "      <td>0.0</td>\n",
       "      <td>0.0</td>\n",
       "      <td>0.0</td>\n",
       "      <td>...</td>\n",
       "      <td>0.0</td>\n",
       "      <td>0.0</td>\n",
       "      <td>0.0</td>\n",
       "      <td>0.0</td>\n",
       "      <td>0.0</td>\n",
       "      <td>0.0</td>\n",
       "      <td>0.0</td>\n",
       "      <td>0.0</td>\n",
       "      <td>0.0</td>\n",
       "      <td>0.0</td>\n",
       "    </tr>\n",
       "    <tr>\n",
       "      <th>3</th>\n",
       "      <td>5.476464</td>\n",
       "      <td>12.339374</td>\n",
       "      <td>0.000000</td>\n",
       "      <td>0.000000</td>\n",
       "      <td>16.747694</td>\n",
       "      <td>16.759796</td>\n",
       "      <td>0</td>\n",
       "      <td>0.0</td>\n",
       "      <td>0.0</td>\n",
       "      <td>0.0</td>\n",
       "      <td>...</td>\n",
       "      <td>0.0</td>\n",
       "      <td>0.0</td>\n",
       "      <td>0.0</td>\n",
       "      <td>0.0</td>\n",
       "      <td>0.0</td>\n",
       "      <td>0.0</td>\n",
       "      <td>0.0</td>\n",
       "      <td>0.0</td>\n",
       "      <td>0.0</td>\n",
       "      <td>0.0</td>\n",
       "    </tr>\n",
       "    <tr>\n",
       "      <th>4</th>\n",
       "      <td>4.897840</td>\n",
       "      <td>12.101716</td>\n",
       "      <td>9.973433</td>\n",
       "      <td>12.214183</td>\n",
       "      <td>15.784062</td>\n",
       "      <td>15.758576</td>\n",
       "      <td>0</td>\n",
       "      <td>1.0</td>\n",
       "      <td>0.0</td>\n",
       "      <td>0.0</td>\n",
       "      <td>...</td>\n",
       "      <td>0.0</td>\n",
       "      <td>0.0</td>\n",
       "      <td>0.0</td>\n",
       "      <td>0.0</td>\n",
       "      <td>0.0</td>\n",
       "      <td>0.0</td>\n",
       "      <td>0.0</td>\n",
       "      <td>0.0</td>\n",
       "      <td>0.0</td>\n",
       "      <td>0.0</td>\n",
       "    </tr>\n",
       "  </tbody>\n",
       "</table>\n",
       "<p>5 rows × 64 columns</p>\n",
       "</div>"
      ],
      "text/plain": [
       "       step     amount  oldbalanceOrg  newbalanceOrig  oldbalanceDest  \\\n",
       "0  5.717028  12.129006      14.938972       14.997436       13.689939   \n",
       "1  5.877736  11.278274      15.518387       15.532690       11.939633   \n",
       "2  2.397895  14.664307      11.904696        0.000000       15.438723   \n",
       "3  5.476464  12.339374       0.000000        0.000000       16.747694   \n",
       "4  4.897840  12.101716       9.973433       12.214183       15.784062   \n",
       "\n",
       "   newbalanceDest  isFraud  was_CASH_IN  was_CASH_OUT  was_DEBIT   ...    \\\n",
       "0       13.454294        0          1.0           0.0        0.0   ...     \n",
       "1       11.213668        0          1.0           0.0        0.0   ...     \n",
       "2       15.804476        0          0.0           0.0        0.0   ...     \n",
       "3       16.759796        0          0.0           0.0        0.0   ...     \n",
       "4       15.758576        0          1.0           0.0        0.0   ...     \n",
       "\n",
       "   was_40  was_41  was_42  was_43  was_44  was_45  was_46  was_47  was_48  \\\n",
       "0     0.0     0.0     0.0     0.0     0.0     0.0     0.0     0.0     0.0   \n",
       "1     0.0     0.0     0.0     0.0     0.0     0.0     0.0     0.0     0.0   \n",
       "2     0.0     0.0     0.0     0.0     0.0     0.0     0.0     0.0     0.0   \n",
       "3     0.0     0.0     0.0     0.0     0.0     0.0     0.0     0.0     0.0   \n",
       "4     0.0     0.0     0.0     0.0     0.0     0.0     0.0     0.0     0.0   \n",
       "\n",
       "   was_49  \n",
       "0     0.0  \n",
       "1     0.0  \n",
       "2     0.0  \n",
       "3     0.0  \n",
       "4     0.0  \n",
       "\n",
       "[5 rows x 64 columns]"
      ]
     },
     "execution_count": 64,
     "metadata": {},
     "output_type": "execute_result"
    }
   ],
   "source": [
    "df4 = pd.get_dummies(df4, prefix='was', prefix_sep='_')\n",
    "df4.head()\n",
    "# encoding categorical features"
   ]
  },
  {
   "cell_type": "code",
   "execution_count": 65,
   "metadata": {
    "collapsed": false
   },
   "outputs": [
    {
     "name": "stdout",
     "output_type": "stream",
     "text": [
      "['was_C', 'was_37', 'was_25', 'was_13', 'was_TRANSFER', 'was_20', 'was_7', 'was_0', 'was_40', 'was_42', 'was_17', 'newbalanceOrig', 'was_45', 'was_CASH_OUT', 'was_48', 'was_12', 'was_32', 'was_39', 'was_29', 'was_4', 'was_34', 'was_11', 'was_31', 'was_43', 'was_30', 'was_2', 'was_22', 'was_49', 'was_8', 'was_38', 'was_1', 'was_21', 'amount', 'was_M', 'was_14', 'was_PAYMENT', 'was_33', 'was_35', 'was_5', 'was_27', 'was_47', 'was_44', 'was_24', 'was_28', 'was_10', 'oldbalanceOrg', 'step', 'was_26', 'was_19', 'was_46', 'was_15', 'newbalanceDest', 'was_3', 'was_23', 'was_18', 'was_DEBIT', 'was_36', 'was_6', 'was_41', 'oldbalanceDest', 'was_CASH_IN', 'was_9', 'was_16']\n"
     ]
    }
   ],
   "source": [
    "features4 = list(set(df4.columns) - {'isFraud'})\n",
    "print(features4)\n",
    "# setting features to a list"
   ]
  },
  {
   "cell_type": "code",
   "execution_count": 66,
   "metadata": {
    "collapsed": false
   },
   "outputs": [
    {
     "data": {
      "text/plain": [
       "(509009, 64)"
      ]
     },
     "execution_count": 66,
     "metadata": {},
     "output_type": "execute_result"
    }
   ],
   "source": [
    "df4.shape\n",
    "# 509009 row & 64 columns"
   ]
  },
  {
   "cell_type": "code",
   "execution_count": 67,
   "metadata": {
    "collapsed": false
   },
   "outputs": [],
   "source": [
    "train, test = tts(df4, test_size=.2, random_state=0)\n",
    "# splitting df4 into train/test sets"
   ]
  },
  {
   "cell_type": "code",
   "execution_count": 68,
   "metadata": {
    "collapsed": false
   },
   "outputs": [
    {
     "name": "stdout",
     "output_type": "stream",
     "text": [
      "<class 'pandas.core.frame.DataFrame'>\n",
      "Int64Index: 407207 entries, 320262 to 461484\n",
      "Data columns (total 64 columns):\n",
      "step              407207 non-null float64\n",
      "amount            407207 non-null float64\n",
      "oldbalanceOrg     407207 non-null float64\n",
      "newbalanceOrig    407207 non-null float64\n",
      "oldbalanceDest    407207 non-null float64\n",
      "newbalanceDest    407207 non-null float64\n",
      "isFraud           407207 non-null int64\n",
      "was_CASH_IN       407207 non-null float64\n",
      "was_CASH_OUT      407207 non-null float64\n",
      "was_DEBIT         407207 non-null float64\n",
      "was_PAYMENT       407207 non-null float64\n",
      "was_TRANSFER      407207 non-null float64\n",
      "was_C             407207 non-null float64\n",
      "was_M             407207 non-null float64\n",
      "was_0             407207 non-null float64\n",
      "was_1             407207 non-null float64\n",
      "was_2             407207 non-null float64\n",
      "was_3             407207 non-null float64\n",
      "was_4             407207 non-null float64\n",
      "was_5             407207 non-null float64\n",
      "was_6             407207 non-null float64\n",
      "was_7             407207 non-null float64\n",
      "was_8             407207 non-null float64\n",
      "was_9             407207 non-null float64\n",
      "was_10            407207 non-null float64\n",
      "was_11            407207 non-null float64\n",
      "was_12            407207 non-null float64\n",
      "was_13            407207 non-null float64\n",
      "was_14            407207 non-null float64\n",
      "was_15            407207 non-null float64\n",
      "was_16            407207 non-null float64\n",
      "was_17            407207 non-null float64\n",
      "was_18            407207 non-null float64\n",
      "was_19            407207 non-null float64\n",
      "was_20            407207 non-null float64\n",
      "was_21            407207 non-null float64\n",
      "was_22            407207 non-null float64\n",
      "was_23            407207 non-null float64\n",
      "was_24            407207 non-null float64\n",
      "was_25            407207 non-null float64\n",
      "was_26            407207 non-null float64\n",
      "was_27            407207 non-null float64\n",
      "was_28            407207 non-null float64\n",
      "was_29            407207 non-null float64\n",
      "was_30            407207 non-null float64\n",
      "was_31            407207 non-null float64\n",
      "was_32            407207 non-null float64\n",
      "was_33            407207 non-null float64\n",
      "was_34            407207 non-null float64\n",
      "was_35            407207 non-null float64\n",
      "was_36            407207 non-null float64\n",
      "was_37            407207 non-null float64\n",
      "was_38            407207 non-null float64\n",
      "was_39            407207 non-null float64\n",
      "was_40            407207 non-null float64\n",
      "was_41            407207 non-null float64\n",
      "was_42            407207 non-null float64\n",
      "was_43            407207 non-null float64\n",
      "was_44            407207 non-null float64\n",
      "was_45            407207 non-null float64\n",
      "was_46            407207 non-null float64\n",
      "was_47            407207 non-null float64\n",
      "was_48            407207 non-null float64\n",
      "was_49            407207 non-null float64\n",
      "dtypes: float64(63), int64(1)\n",
      "memory usage: 201.9 MB\n"
     ]
    }
   ],
   "source": [
    "train.info()\n",
    "# verifiyng train = 80% of df4"
   ]
  },
  {
   "cell_type": "code",
   "execution_count": 69,
   "metadata": {
    "collapsed": false
   },
   "outputs": [
    {
     "name": "stdout",
     "output_type": "stream",
     "text": [
      "######################################################################\n",
      "Model accuracy score on training data with hyperparameter of 1e-10: 0.998691083405\n",
      "Model accuracy score on test data with hyperparameter of 1e-10: 0.998664073397\n",
      "Number of features in the model: 63\n",
      "###################################################################### \n",
      "\n",
      "######################################################################\n",
      "Model accuracy score on training data with hyperparameter of 7.19685673001e-10: 0.998691083405\n",
      "Model accuracy score on test data with hyperparameter of 7.19685673001e-10: 0.998664073397\n",
      "Number of features in the model: 63\n",
      "###################################################################### \n",
      "\n",
      "######################################################################\n",
      "Model accuracy score on training data with hyperparameter of 5.17947467923e-09: 0.998691083405\n",
      "Model accuracy score on test data with hyperparameter of 5.17947467923e-09: 0.998664073397\n",
      "Number of features in the model: 63\n",
      "###################################################################### \n",
      "\n",
      "######################################################################\n",
      "Model accuracy score on training data with hyperparameter of 3.72759372031e-08: 0.998691083405\n",
      "Model accuracy score on test data with hyperparameter of 3.72759372031e-08: 0.998664073397\n",
      "Number of features in the model: 63\n",
      "###################################################################### \n",
      "\n",
      "######################################################################\n",
      "Model accuracy score on training data with hyperparameter of 2.68269579528e-07: 0.998691083405\n",
      "Model accuracy score on test data with hyperparameter of 2.68269579528e-07: 0.998664073397\n",
      "Number of features in the model: 63\n",
      "###################################################################### \n",
      "\n",
      "######################################################################\n",
      "Model accuracy score on training data with hyperparameter of 1.93069772888e-06: 0.998691083405\n",
      "Model accuracy score on test data with hyperparameter of 1.93069772888e-06: 0.998664073397\n",
      "Number of features in the model: 63\n",
      "###################################################################### \n",
      "\n",
      "######################################################################\n",
      "Model accuracy score on training data with hyperparameter of 1.38949549437e-05: 0.998691083405\n",
      "Model accuracy score on test data with hyperparameter of 1.38949549437e-05: 0.998664073397\n",
      "Number of features in the model: 61\n",
      "###################################################################### \n",
      "\n",
      "######################################################################\n",
      "Model accuracy score on training data with hyperparameter of 0.0001: 0.998691083405\n",
      "Model accuracy score on test data with hyperparameter of 0.0001: 0.998664073397\n",
      "Number of features in the model: 54\n",
      "###################################################################### \n",
      "\n",
      "######################################################################\n",
      "Model accuracy score on training data with hyperparameter of 0.000719685673001: 0.998695994912\n",
      "Model accuracy score on test data with hyperparameter of 0.000719685673001: 0.998673896387\n",
      "Number of features in the model: 51\n",
      "###################################################################### \n",
      "\n",
      "######################################################################\n",
      "Model accuracy score on training data with hyperparameter of 0.00517947467923: 0.999263273961\n",
      "Model accuracy score on test data with hyperparameter of 0.00517947467923: 0.999223983812\n",
      "Number of features in the model: 48\n",
      "###################################################################### \n",
      "\n",
      "######################################################################\n",
      "Model accuracy score on training data with hyperparameter of 0.0372759372031: 0.999280464236\n",
      "Model accuracy score on test data with hyperparameter of 0.0372759372031: 0.999253452781\n",
      "Number of features in the model: 45\n",
      "###################################################################### \n",
      "\n",
      "######################################################################\n",
      "Model accuracy score on training data with hyperparameter of 0.268269579528: 0.999363959853\n",
      "Model accuracy score on test data with hyperparameter of 0.268269579528: 0.999322213709\n",
      "Number of features in the model: 47\n",
      "###################################################################### \n",
      "\n",
      "######################################################################\n",
      "Model accuracy score on training data with hyperparameter of 1.93069772888: 0.999415530676\n",
      "Model accuracy score on test data with hyperparameter of 1.93069772888: 0.999351682678\n",
      "Number of features in the model: 47\n",
      "###################################################################### \n",
      "\n",
      "######################################################################\n",
      "Model accuracy score on training data with hyperparameter of 13.8949549437: 0.999363959853\n",
      "Model accuracy score on test data with hyperparameter of 13.8949549437: 0.99930256773\n",
      "Number of features in the model: 47\n",
      "###################################################################### \n",
      "\n",
      "######################################################################\n",
      "Model accuracy score on training data with hyperparameter of 100.0: 0.9993615041\n",
      "Model accuracy score on test data with hyperparameter of 100.0: 0.99928292175\n",
      "Number of features in the model: 46\n",
      "###################################################################### \n",
      "\n"
     ]
    }
   ],
   "source": [
    "ptr = []\n",
    "p = []\n",
    "for i in np.logspace(-10, 2, num=15):\n",
    "    model4 = LinearSVC(C=i, random_state=0)\n",
    "    model4.fit(train[features4], train.isFraud)\n",
    "    print(70*\"#\")\n",
    "    trainscore = model4.score(train[features4], train.isFraud)\n",
    "    print(\"Model accuracy score on training data with hyperparameter of %s: %s\"\n",
    "          % (i, trainscore))\n",
    "    testscore = model4.score(test[features4], test.isFraud)\n",
    "    print(\"Model accuracy score on test data with hyperparameter of %s: %s\"\n",
    "          % (i, testscore))\n",
    "    print(\"Number of features in the model: {}\"\n",
    "          .format(np.sum(model4.coef_ != 0)))\n",
    "    print(70*\"#\", \"\\n\")\n",
    "    ptr.append(trainscore)\n",
    "    p.append(testscore)\n",
    "    # iterating on regularization hyperparameter\n",
    "    # l2 penalty is ridge regularization"
   ]
  },
  {
   "cell_type": "code",
   "execution_count": 70,
   "metadata": {
    "collapsed": false
   },
   "outputs": [
    {
     "data": {
      "text/plain": [
       "LinearSVC(C=1.93069772888, class_weight=None, dual=True, fit_intercept=True,\n",
       "     intercept_scaling=1, loss='squared_hinge', max_iter=1000,\n",
       "     multi_class='ovr', penalty='l2', random_state=0, tol=0.0001,\n",
       "     verbose=0)"
      ]
     },
     "execution_count": 70,
     "metadata": {},
     "output_type": "execute_result"
    }
   ],
   "source": [
    "model4 = LinearSVC(C=1.93069772888, random_state=0)\n",
    "model4.fit(train[features4], train.isFraud)\n",
    "# resetting model to current best results"
   ]
  },
  {
   "cell_type": "code",
   "execution_count": 71,
   "metadata": {
    "collapsed": false
   },
   "outputs": [
    {
     "name": "stdout",
     "output_type": "stream",
     "text": [
      "######################################################################\n",
      "Model accuracy score on training data with hyperparameter of 1e-10: 0.998685681393\n",
      "Number of features in the model: 63\n",
      "###################################################################### \n",
      "\n",
      "######################################################################\n",
      "Model accuracy score on training data with hyperparameter of 7.19685673001e-10: 0.998685681393\n",
      "Number of features in the model: 63\n",
      "###################################################################### \n",
      "\n",
      "######################################################################\n",
      "Model accuracy score on training data with hyperparameter of 5.17947467923e-09: 0.998685681393\n",
      "Number of features in the model: 63\n",
      "###################################################################### \n",
      "\n",
      "######################################################################\n",
      "Model accuracy score on training data with hyperparameter of 3.72759372031e-08: 0.998685681393\n",
      "Number of features in the model: 63\n",
      "###################################################################### \n",
      "\n",
      "######################################################################\n",
      "Model accuracy score on training data with hyperparameter of 2.68269579528e-07: 0.998685681393\n",
      "Number of features in the model: 63\n",
      "###################################################################### \n",
      "\n",
      "######################################################################\n",
      "Model accuracy score on training data with hyperparameter of 1.93069772888e-06: 0.998685681393\n",
      "Number of features in the model: 63\n",
      "###################################################################### \n",
      "\n",
      "######################################################################\n",
      "Model accuracy score on training data with hyperparameter of 1.38949549437e-05: 0.998685681393\n",
      "Number of features in the model: 61\n",
      "###################################################################### \n",
      "\n",
      "######################################################################\n",
      "Model accuracy score on training data with hyperparameter of 0.0001: 0.998685681393\n",
      "Number of features in the model: 52\n",
      "###################################################################### \n",
      "\n",
      "######################################################################\n",
      "Model accuracy score on training data with hyperparameter of 0.000719685673001: 0.999176831844\n",
      "Number of features in the model: 52\n",
      "###################################################################### \n",
      "\n",
      "######################################################################\n",
      "Model accuracy score on training data with hyperparameter of 0.00517947467923: 0.999255415916\n",
      "Number of features in the model: 52\n",
      "###################################################################### \n",
      "\n",
      "######################################################################\n",
      "Model accuracy score on training data with hyperparameter of 0.0372759372031: 0.999273097332\n",
      "Number of features in the model: 48\n",
      "###################################################################### \n",
      "\n",
      "######################################################################\n",
      "Model accuracy score on training data with hyperparameter of 0.268269579528: 0.999369362821\n",
      "Number of features in the model: 49\n",
      "###################################################################### \n",
      "\n",
      "######################################################################\n",
      "Model accuracy score on training data with hyperparameter of 1.93069772888: 0.999449911495\n",
      "Number of features in the model: 51\n",
      "###################################################################### \n",
      "\n",
      "######################################################################\n",
      "Model accuracy score on training data with hyperparameter of 13.8949549437: 0.99679966366\n",
      "Number of features in the model: 47\n",
      "###################################################################### \n",
      "\n",
      "######################################################################\n",
      "Model accuracy score on training data with hyperparameter of 100.0: 0.998703362809\n",
      "Number of features in the model: 48\n",
      "###################################################################### \n",
      "\n"
     ]
    }
   ],
   "source": [
    "ptr = []\n",
    "p = []\n",
    "for i in np.logspace(-10, 2, num=15):\n",
    "    model4 = LinearSVC(C=i, random_state=0)\n",
    "    model4.fit(df4[features4], df4.isFraud)\n",
    "    print(70*\"#\")\n",
    "    fullscore = model4.score(df4[features4], df4.isFraud)\n",
    "    print(\"Model accuracy score on training data with hyperparameter of %s: %s\"\n",
    "          % (i, fullscore))\n",
    "    print(\"Number of features in the model: {}\"\n",
    "          .format(np.sum(model4.coef_ != 0)))\n",
    "    print(70*\"#\", \"\\n\")\n",
    "    ptr.append(trainscore)\n",
    "    p.append(testscore)\n",
    "    # fitting to full training set for comparison\n",
    "    # iterating on regularization hyperparameter\n",
    "    # l2 penalty is ridge regularization"
   ]
  },
  {
   "cell_type": "markdown",
   "metadata": {},
   "source": [
    "Very pleased that the c values for both my train/test and full train trials resulted in the same suggested C and that now my model is in it's final state - for now......."
   ]
  },
  {
   "cell_type": "code",
   "execution_count": 72,
   "metadata": {
    "collapsed": false,
    "scrolled": true
   },
   "outputs": [
    {
     "data": {
      "text/html": [
       "<div>\n",
       "<table border=\"1\" class=\"dataframe\">\n",
       "  <thead>\n",
       "    <tr style=\"text-align: right;\">\n",
       "      <th></th>\n",
       "      <th>step</th>\n",
       "      <th>type</th>\n",
       "      <th>amount</th>\n",
       "      <th>nameOrig</th>\n",
       "      <th>oldbalanceOrg</th>\n",
       "      <th>newbalanceOrig</th>\n",
       "      <th>nameDest</th>\n",
       "      <th>oldbalanceDest</th>\n",
       "      <th>newbalanceDest</th>\n",
       "      <th>id</th>\n",
       "    </tr>\n",
       "  </thead>\n",
       "  <tbody>\n",
       "    <tr>\n",
       "      <th>0</th>\n",
       "      <td>257</td>\n",
       "      <td>CASH_OUT</td>\n",
       "      <td>208758.36</td>\n",
       "      <td>C1628429873</td>\n",
       "      <td>186770.00</td>\n",
       "      <td>0.00</td>\n",
       "      <td>C703878081</td>\n",
       "      <td>98209.59</td>\n",
       "      <td>306967.94</td>\n",
       "      <td>98777</td>\n",
       "    </tr>\n",
       "    <tr>\n",
       "      <th>1</th>\n",
       "      <td>375</td>\n",
       "      <td>PAYMENT</td>\n",
       "      <td>8078.82</td>\n",
       "      <td>C1642149666</td>\n",
       "      <td>40458.00</td>\n",
       "      <td>32379.18</td>\n",
       "      <td>M1726657457</td>\n",
       "      <td>0.00</td>\n",
       "      <td>0.00</td>\n",
       "      <td>397457</td>\n",
       "    </tr>\n",
       "    <tr>\n",
       "      <th>2</th>\n",
       "      <td>168</td>\n",
       "      <td>CASH_OUT</td>\n",
       "      <td>60783.19</td>\n",
       "      <td>C346779827</td>\n",
       "      <td>0.00</td>\n",
       "      <td>0.00</td>\n",
       "      <td>C1063782390</td>\n",
       "      <td>747531.29</td>\n",
       "      <td>808314.48</td>\n",
       "      <td>592225</td>\n",
       "    </tr>\n",
       "    <tr>\n",
       "      <th>3</th>\n",
       "      <td>590</td>\n",
       "      <td>CASH_IN</td>\n",
       "      <td>267290.88</td>\n",
       "      <td>C713342712</td>\n",
       "      <td>4646500.36</td>\n",
       "      <td>4913791.24</td>\n",
       "      <td>C1390373129</td>\n",
       "      <td>299549.13</td>\n",
       "      <td>32258.25</td>\n",
       "      <td>425029</td>\n",
       "    </tr>\n",
       "    <tr>\n",
       "      <th>4</th>\n",
       "      <td>377</td>\n",
       "      <td>CASH_IN</td>\n",
       "      <td>226575.08</td>\n",
       "      <td>C1831624676</td>\n",
       "      <td>7615712.40</td>\n",
       "      <td>7842287.48</td>\n",
       "      <td>C1453112071</td>\n",
       "      <td>1822519.59</td>\n",
       "      <td>1595944.51</td>\n",
       "      <td>118706</td>\n",
       "    </tr>\n",
       "  </tbody>\n",
       "</table>\n",
       "</div>"
      ],
      "text/plain": [
       "   step      type     amount     nameOrig  oldbalanceOrg  newbalanceOrig  \\\n",
       "0   257  CASH_OUT  208758.36  C1628429873      186770.00            0.00   \n",
       "1   375   PAYMENT    8078.82  C1642149666       40458.00        32379.18   \n",
       "2   168  CASH_OUT   60783.19   C346779827           0.00            0.00   \n",
       "3   590   CASH_IN  267290.88   C713342712     4646500.36      4913791.24   \n",
       "4   377   CASH_IN  226575.08  C1831624676     7615712.40      7842287.48   \n",
       "\n",
       "      nameDest  oldbalanceDest  newbalanceDest      id  \n",
       "0   C703878081        98209.59       306967.94   98777  \n",
       "1  M1726657457            0.00            0.00  397457  \n",
       "2  C1063782390       747531.29       808314.48  592225  \n",
       "3  C1390373129       299549.13        32258.25  425029  \n",
       "4  C1453112071      1822519.59      1595944.51  118706  "
      ]
     },
     "execution_count": 72,
     "metadata": {},
     "output_type": "execute_result"
    }
   ],
   "source": [
    "dftest4 = pd.read_csv('test.csv')\n",
    "dftest4.head()\n",
    "# importing test data set"
   ]
  },
  {
   "cell_type": "code",
   "execution_count": 73,
   "metadata": {
    "collapsed": false
   },
   "outputs": [
    {
     "data": {
      "text/html": [
       "<div>\n",
       "<table border=\"1\" class=\"dataframe\">\n",
       "  <thead>\n",
       "    <tr style=\"text-align: right;\">\n",
       "      <th></th>\n",
       "      <th>step</th>\n",
       "      <th>type</th>\n",
       "      <th>amount</th>\n",
       "      <th>nameOrig</th>\n",
       "      <th>oldbalanceOrg</th>\n",
       "      <th>newbalanceOrig</th>\n",
       "      <th>nameDest</th>\n",
       "      <th>oldbalanceDest</th>\n",
       "      <th>newbalanceDest</th>\n",
       "      <th>id</th>\n",
       "      <th>Recipient</th>\n",
       "    </tr>\n",
       "  </thead>\n",
       "  <tbody>\n",
       "    <tr>\n",
       "      <th>0</th>\n",
       "      <td>257</td>\n",
       "      <td>CASH_OUT</td>\n",
       "      <td>208758.36</td>\n",
       "      <td>C1628429873</td>\n",
       "      <td>186770.00</td>\n",
       "      <td>0.00</td>\n",
       "      <td>C703878081</td>\n",
       "      <td>98209.59</td>\n",
       "      <td>306967.94</td>\n",
       "      <td>98777</td>\n",
       "      <td>C</td>\n",
       "    </tr>\n",
       "    <tr>\n",
       "      <th>1</th>\n",
       "      <td>375</td>\n",
       "      <td>PAYMENT</td>\n",
       "      <td>8078.82</td>\n",
       "      <td>C1642149666</td>\n",
       "      <td>40458.00</td>\n",
       "      <td>32379.18</td>\n",
       "      <td>M1726657457</td>\n",
       "      <td>0.00</td>\n",
       "      <td>0.00</td>\n",
       "      <td>397457</td>\n",
       "      <td>M</td>\n",
       "    </tr>\n",
       "    <tr>\n",
       "      <th>2</th>\n",
       "      <td>168</td>\n",
       "      <td>CASH_OUT</td>\n",
       "      <td>60783.19</td>\n",
       "      <td>C346779827</td>\n",
       "      <td>0.00</td>\n",
       "      <td>0.00</td>\n",
       "      <td>C1063782390</td>\n",
       "      <td>747531.29</td>\n",
       "      <td>808314.48</td>\n",
       "      <td>592225</td>\n",
       "      <td>C</td>\n",
       "    </tr>\n",
       "    <tr>\n",
       "      <th>3</th>\n",
       "      <td>590</td>\n",
       "      <td>CASH_IN</td>\n",
       "      <td>267290.88</td>\n",
       "      <td>C713342712</td>\n",
       "      <td>4646500.36</td>\n",
       "      <td>4913791.24</td>\n",
       "      <td>C1390373129</td>\n",
       "      <td>299549.13</td>\n",
       "      <td>32258.25</td>\n",
       "      <td>425029</td>\n",
       "      <td>C</td>\n",
       "    </tr>\n",
       "    <tr>\n",
       "      <th>4</th>\n",
       "      <td>377</td>\n",
       "      <td>CASH_IN</td>\n",
       "      <td>226575.08</td>\n",
       "      <td>C1831624676</td>\n",
       "      <td>7615712.40</td>\n",
       "      <td>7842287.48</td>\n",
       "      <td>C1453112071</td>\n",
       "      <td>1822519.59</td>\n",
       "      <td>1595944.51</td>\n",
       "      <td>118706</td>\n",
       "      <td>C</td>\n",
       "    </tr>\n",
       "  </tbody>\n",
       "</table>\n",
       "</div>"
      ],
      "text/plain": [
       "   step      type     amount     nameOrig  oldbalanceOrg  newbalanceOrig  \\\n",
       "0   257  CASH_OUT  208758.36  C1628429873      186770.00            0.00   \n",
       "1   375   PAYMENT    8078.82  C1642149666       40458.00        32379.18   \n",
       "2   168  CASH_OUT   60783.19   C346779827           0.00            0.00   \n",
       "3   590   CASH_IN  267290.88   C713342712     4646500.36      4913791.24   \n",
       "4   377   CASH_IN  226575.08  C1831624676     7615712.40      7842287.48   \n",
       "\n",
       "      nameDest  oldbalanceDest  newbalanceDest      id Recipient  \n",
       "0   C703878081        98209.59       306967.94   98777         C  \n",
       "1  M1726657457            0.00            0.00  397457         M  \n",
       "2  C1063782390       747531.29       808314.48  592225         C  \n",
       "3  C1390373129       299549.13        32258.25  425029         C  \n",
       "4  C1453112071      1822519.59      1595944.51  118706         C  "
      ]
     },
     "execution_count": 73,
     "metadata": {},
     "output_type": "execute_result"
    }
   ],
   "source": [
    "dftest4['Recipient'] = dftest4['nameDest'].str[:1]\n",
    "dftest4.head()\n",
    "# Splitting nameDest to retain letter"
   ]
  },
  {
   "cell_type": "code",
   "execution_count": 74,
   "metadata": {
    "collapsed": false
   },
   "outputs": [
    {
     "data": {
      "text/html": [
       "<div>\n",
       "<table border=\"1\" class=\"dataframe\">\n",
       "  <thead>\n",
       "    <tr style=\"text-align: right;\">\n",
       "      <th></th>\n",
       "      <th>step</th>\n",
       "      <th>type</th>\n",
       "      <th>amount</th>\n",
       "      <th>oldbalanceOrg</th>\n",
       "      <th>newbalanceOrig</th>\n",
       "      <th>oldbalanceDest</th>\n",
       "      <th>newbalanceDest</th>\n",
       "      <th>Recipient</th>\n",
       "    </tr>\n",
       "  </thead>\n",
       "  <tbody>\n",
       "    <tr>\n",
       "      <th>0</th>\n",
       "      <td>257</td>\n",
       "      <td>CASH_OUT</td>\n",
       "      <td>208758.36</td>\n",
       "      <td>186770.00</td>\n",
       "      <td>0.00</td>\n",
       "      <td>98209.59</td>\n",
       "      <td>306967.94</td>\n",
       "      <td>C</td>\n",
       "    </tr>\n",
       "    <tr>\n",
       "      <th>1</th>\n",
       "      <td>375</td>\n",
       "      <td>PAYMENT</td>\n",
       "      <td>8078.82</td>\n",
       "      <td>40458.00</td>\n",
       "      <td>32379.18</td>\n",
       "      <td>0.00</td>\n",
       "      <td>0.00</td>\n",
       "      <td>M</td>\n",
       "    </tr>\n",
       "    <tr>\n",
       "      <th>2</th>\n",
       "      <td>168</td>\n",
       "      <td>CASH_OUT</td>\n",
       "      <td>60783.19</td>\n",
       "      <td>0.00</td>\n",
       "      <td>0.00</td>\n",
       "      <td>747531.29</td>\n",
       "      <td>808314.48</td>\n",
       "      <td>C</td>\n",
       "    </tr>\n",
       "    <tr>\n",
       "      <th>3</th>\n",
       "      <td>590</td>\n",
       "      <td>CASH_IN</td>\n",
       "      <td>267290.88</td>\n",
       "      <td>4646500.36</td>\n",
       "      <td>4913791.24</td>\n",
       "      <td>299549.13</td>\n",
       "      <td>32258.25</td>\n",
       "      <td>C</td>\n",
       "    </tr>\n",
       "    <tr>\n",
       "      <th>4</th>\n",
       "      <td>377</td>\n",
       "      <td>CASH_IN</td>\n",
       "      <td>226575.08</td>\n",
       "      <td>7615712.40</td>\n",
       "      <td>7842287.48</td>\n",
       "      <td>1822519.59</td>\n",
       "      <td>1595944.51</td>\n",
       "      <td>C</td>\n",
       "    </tr>\n",
       "  </tbody>\n",
       "</table>\n",
       "</div>"
      ],
      "text/plain": [
       "   step      type     amount  oldbalanceOrg  newbalanceOrig  oldbalanceDest  \\\n",
       "0   257  CASH_OUT  208758.36      186770.00            0.00        98209.59   \n",
       "1   375   PAYMENT    8078.82       40458.00        32379.18            0.00   \n",
       "2   168  CASH_OUT   60783.19           0.00            0.00       747531.29   \n",
       "3   590   CASH_IN  267290.88     4646500.36      4913791.24       299549.13   \n",
       "4   377   CASH_IN  226575.08     7615712.40      7842287.48      1822519.59   \n",
       "\n",
       "   newbalanceDest Recipient  \n",
       "0       306967.94         C  \n",
       "1            0.00         M  \n",
       "2       808314.48         C  \n",
       "3        32258.25         C  \n",
       "4      1595944.51         C  "
      ]
     },
     "execution_count": 74,
     "metadata": {},
     "output_type": "execute_result"
    }
   ],
   "source": [
    "dftest4 = dftest4.ix[:, [0, 1, 2, 4, 5, 7, 8, 10]]\n",
    "dftest4.head()\n",
    "# dropping unwanted columns"
   ]
  },
  {
   "cell_type": "code",
   "execution_count": 75,
   "metadata": {
    "collapsed": false
   },
   "outputs": [],
   "source": [
    "dftest4.amount = np.log1p(dftest4.amount)\n",
    "dftest4.oldbalanceOrg = np.log1p(dftest4.oldbalanceOrg)\n",
    "dftest4.newbalanceOrig = np.log1p(dftest4.newbalanceOrig)\n",
    "dftest4.oldbalanceDest = np.log1p(dftest4.oldbalanceDest)\n",
    "dftest4.newbalanceDest = np.log1p(dftest4.newbalanceDest)\n",
    "dftest4.step = np.log1p(dftest4.step)\n",
    "# transforming values to normally distributed"
   ]
  },
  {
   "cell_type": "code",
   "execution_count": 76,
   "metadata": {
    "collapsed": false,
    "scrolled": true
   },
   "outputs": [
    {
     "data": {
      "text/html": [
       "<div>\n",
       "<table border=\"1\" class=\"dataframe\">\n",
       "  <thead>\n",
       "    <tr style=\"text-align: right;\">\n",
       "      <th></th>\n",
       "      <th>step</th>\n",
       "      <th>type</th>\n",
       "      <th>amount</th>\n",
       "      <th>oldbalanceOrg</th>\n",
       "      <th>newbalanceOrig</th>\n",
       "      <th>oldbalanceDest</th>\n",
       "      <th>newbalanceDest</th>\n",
       "      <th>Recipient</th>\n",
       "    </tr>\n",
       "  </thead>\n",
       "  <tbody>\n",
       "    <tr>\n",
       "      <th>0</th>\n",
       "      <td>5.552960</td>\n",
       "      <td>CASH_OUT</td>\n",
       "      <td>12.248937</td>\n",
       "      <td>12.137639</td>\n",
       "      <td>0.000000</td>\n",
       "      <td>11.494869</td>\n",
       "      <td>12.634502</td>\n",
       "      <td>C</td>\n",
       "    </tr>\n",
       "    <tr>\n",
       "      <th>1</th>\n",
       "      <td>5.929589</td>\n",
       "      <td>PAYMENT</td>\n",
       "      <td>8.997125</td>\n",
       "      <td>10.608044</td>\n",
       "      <td>10.385302</td>\n",
       "      <td>0.000000</td>\n",
       "      <td>0.000000</td>\n",
       "      <td>M</td>\n",
       "    </tr>\n",
       "    <tr>\n",
       "      <th>2</th>\n",
       "      <td>5.129899</td>\n",
       "      <td>CASH_OUT</td>\n",
       "      <td>11.015085</td>\n",
       "      <td>0.000000</td>\n",
       "      <td>0.000000</td>\n",
       "      <td>13.524533</td>\n",
       "      <td>13.602708</td>\n",
       "      <td>C</td>\n",
       "    </tr>\n",
       "    <tr>\n",
       "      <th>3</th>\n",
       "      <td>6.381816</td>\n",
       "      <td>CASH_IN</td>\n",
       "      <td>12.496097</td>\n",
       "      <td>15.351625</td>\n",
       "      <td>15.407557</td>\n",
       "      <td>12.610037</td>\n",
       "      <td>10.381560</td>\n",
       "      <td>C</td>\n",
       "    </tr>\n",
       "    <tr>\n",
       "      <th>4</th>\n",
       "      <td>5.934894</td>\n",
       "      <td>CASH_IN</td>\n",
       "      <td>12.330836</td>\n",
       "      <td>15.845724</td>\n",
       "      <td>15.875041</td>\n",
       "      <td>14.415731</td>\n",
       "      <td>14.282977</td>\n",
       "      <td>C</td>\n",
       "    </tr>\n",
       "  </tbody>\n",
       "</table>\n",
       "</div>"
      ],
      "text/plain": [
       "       step      type     amount  oldbalanceOrg  newbalanceOrig  \\\n",
       "0  5.552960  CASH_OUT  12.248937      12.137639        0.000000   \n",
       "1  5.929589   PAYMENT   8.997125      10.608044       10.385302   \n",
       "2  5.129899  CASH_OUT  11.015085       0.000000        0.000000   \n",
       "3  6.381816   CASH_IN  12.496097      15.351625       15.407557   \n",
       "4  5.934894   CASH_IN  12.330836      15.845724       15.875041   \n",
       "\n",
       "   oldbalanceDest  newbalanceDest Recipient  \n",
       "0       11.494869       12.634502         C  \n",
       "1        0.000000        0.000000         M  \n",
       "2       13.524533       13.602708         C  \n",
       "3       12.610037       10.381560         C  \n",
       "4       14.415731       14.282977         C  "
      ]
     },
     "execution_count": 76,
     "metadata": {},
     "output_type": "execute_result"
    }
   ],
   "source": [
    "dftest4.head()\n",
    "# confirming transformation"
   ]
  },
  {
   "cell_type": "code",
   "execution_count": 77,
   "metadata": {
    "collapsed": false,
    "scrolled": false
   },
   "outputs": [
    {
     "data": {
      "text/html": [
       "<div>\n",
       "<table border=\"1\" class=\"dataframe\">\n",
       "  <thead>\n",
       "    <tr style=\"text-align: right;\">\n",
       "      <th></th>\n",
       "      <th>step</th>\n",
       "      <th>amount</th>\n",
       "      <th>oldbalanceOrg</th>\n",
       "      <th>newbalanceOrig</th>\n",
       "      <th>oldbalanceDest</th>\n",
       "      <th>newbalanceDest</th>\n",
       "      <th>was_CASH_IN</th>\n",
       "      <th>was_CASH_OUT</th>\n",
       "      <th>was_DEBIT</th>\n",
       "      <th>was_PAYMENT</th>\n",
       "      <th>was_TRANSFER</th>\n",
       "      <th>was_C</th>\n",
       "      <th>was_M</th>\n",
       "    </tr>\n",
       "  </thead>\n",
       "  <tbody>\n",
       "    <tr>\n",
       "      <th>0</th>\n",
       "      <td>5.552960</td>\n",
       "      <td>12.248937</td>\n",
       "      <td>12.137639</td>\n",
       "      <td>0.000000</td>\n",
       "      <td>11.494869</td>\n",
       "      <td>12.634502</td>\n",
       "      <td>0.0</td>\n",
       "      <td>1.0</td>\n",
       "      <td>0.0</td>\n",
       "      <td>0.0</td>\n",
       "      <td>0.0</td>\n",
       "      <td>1.0</td>\n",
       "      <td>0.0</td>\n",
       "    </tr>\n",
       "    <tr>\n",
       "      <th>1</th>\n",
       "      <td>5.929589</td>\n",
       "      <td>8.997125</td>\n",
       "      <td>10.608044</td>\n",
       "      <td>10.385302</td>\n",
       "      <td>0.000000</td>\n",
       "      <td>0.000000</td>\n",
       "      <td>0.0</td>\n",
       "      <td>0.0</td>\n",
       "      <td>0.0</td>\n",
       "      <td>1.0</td>\n",
       "      <td>0.0</td>\n",
       "      <td>0.0</td>\n",
       "      <td>1.0</td>\n",
       "    </tr>\n",
       "    <tr>\n",
       "      <th>2</th>\n",
       "      <td>5.129899</td>\n",
       "      <td>11.015085</td>\n",
       "      <td>0.000000</td>\n",
       "      <td>0.000000</td>\n",
       "      <td>13.524533</td>\n",
       "      <td>13.602708</td>\n",
       "      <td>0.0</td>\n",
       "      <td>1.0</td>\n",
       "      <td>0.0</td>\n",
       "      <td>0.0</td>\n",
       "      <td>0.0</td>\n",
       "      <td>1.0</td>\n",
       "      <td>0.0</td>\n",
       "    </tr>\n",
       "    <tr>\n",
       "      <th>3</th>\n",
       "      <td>6.381816</td>\n",
       "      <td>12.496097</td>\n",
       "      <td>15.351625</td>\n",
       "      <td>15.407557</td>\n",
       "      <td>12.610037</td>\n",
       "      <td>10.381560</td>\n",
       "      <td>1.0</td>\n",
       "      <td>0.0</td>\n",
       "      <td>0.0</td>\n",
       "      <td>0.0</td>\n",
       "      <td>0.0</td>\n",
       "      <td>1.0</td>\n",
       "      <td>0.0</td>\n",
       "    </tr>\n",
       "    <tr>\n",
       "      <th>4</th>\n",
       "      <td>5.934894</td>\n",
       "      <td>12.330836</td>\n",
       "      <td>15.845724</td>\n",
       "      <td>15.875041</td>\n",
       "      <td>14.415731</td>\n",
       "      <td>14.282977</td>\n",
       "      <td>1.0</td>\n",
       "      <td>0.0</td>\n",
       "      <td>0.0</td>\n",
       "      <td>0.0</td>\n",
       "      <td>0.0</td>\n",
       "      <td>1.0</td>\n",
       "      <td>0.0</td>\n",
       "    </tr>\n",
       "  </tbody>\n",
       "</table>\n",
       "</div>"
      ],
      "text/plain": [
       "       step     amount  oldbalanceOrg  newbalanceOrig  oldbalanceDest  \\\n",
       "0  5.552960  12.248937      12.137639        0.000000       11.494869   \n",
       "1  5.929589   8.997125      10.608044       10.385302        0.000000   \n",
       "2  5.129899  11.015085       0.000000        0.000000       13.524533   \n",
       "3  6.381816  12.496097      15.351625       15.407557       12.610037   \n",
       "4  5.934894  12.330836      15.845724       15.875041       14.415731   \n",
       "\n",
       "   newbalanceDest  was_CASH_IN  was_CASH_OUT  was_DEBIT  was_PAYMENT  \\\n",
       "0       12.634502          0.0           1.0        0.0          0.0   \n",
       "1        0.000000          0.0           0.0        0.0          1.0   \n",
       "2       13.602708          0.0           1.0        0.0          0.0   \n",
       "3       10.381560          1.0           0.0        0.0          0.0   \n",
       "4       14.282977          1.0           0.0        0.0          0.0   \n",
       "\n",
       "   was_TRANSFER  was_C  was_M  \n",
       "0           0.0    1.0    0.0  \n",
       "1           0.0    0.0    1.0  \n",
       "2           0.0    1.0    0.0  \n",
       "3           0.0    1.0    0.0  \n",
       "4           0.0    1.0    0.0  "
      ]
     },
     "execution_count": 77,
     "metadata": {},
     "output_type": "execute_result"
    }
   ],
   "source": [
    "dftest4 = pd.get_dummies(dftest4, prefix='was', prefix_sep='_')\n",
    "dftest4.head()\n",
    "# encoding categorical features"
   ]
  },
  {
   "cell_type": "code",
   "execution_count": 78,
   "metadata": {
    "collapsed": false
   },
   "outputs": [
    {
     "name": "stdout",
     "output_type": "stream",
     "text": [
      "['oldbalanceDest', 'was_C', 'amount', 'was_M', 'was_TRANSFER', 'was_CASH_IN', 'newbalanceDest', 'newbalanceOrig', 'was_PAYMENT', 'was_DEBIT', 'oldbalanceOrg', 'step', 'was_CASH_OUT']\n"
     ]
    }
   ],
   "source": [
    "features4 = list(set(dftest4.columns) - {'isFraud'})\n",
    "print(features4)\n",
    "# setting features to a list"
   ]
  },
  {
   "cell_type": "code",
   "execution_count": 79,
   "metadata": {
    "collapsed": false
   },
   "outputs": [
    {
     "data": {
      "text/plain": [
       "KMeans(algorithm='auto', copy_x=True, init='k-means++', max_iter=300,\n",
       "    n_clusters=50, n_init=10, n_jobs=-1, precompute_distances='auto',\n",
       "    random_state=0, tol=0.0001, verbose=0)"
      ]
     },
     "execution_count": 79,
     "metadata": {},
     "output_type": "execute_result"
    }
   ],
   "source": [
    "kmeans = KMeans(n_clusters=50, random_state=0, n_jobs=-1)\n",
    "kmeans.fit(dftest4[features4])\n",
    "# breaking data into 50 clusters based on features"
   ]
  },
  {
   "cell_type": "code",
   "execution_count": 80,
   "metadata": {
    "collapsed": true
   },
   "outputs": [],
   "source": [
    "predictedLabels = kmeans.predict(dftest4[features4])\n",
    "dftest4['predictedCluster'] = predictedLabels\n",
    "dftest4['predictedCluster'] = dftest4.predictedCluster.astype('object')\n",
    "# setting predicted clusters to variable\n",
    "# adding predicted clusters to df1\n",
    "# setting new feature dtype"
   ]
  },
  {
   "cell_type": "code",
   "execution_count": 81,
   "metadata": {
    "collapsed": false,
    "scrolled": true
   },
   "outputs": [
    {
     "data": {
      "text/html": [
       "<div>\n",
       "<table border=\"1\" class=\"dataframe\">\n",
       "  <thead>\n",
       "    <tr style=\"text-align: right;\">\n",
       "      <th></th>\n",
       "      <th>step</th>\n",
       "      <th>amount</th>\n",
       "      <th>oldbalanceOrg</th>\n",
       "      <th>newbalanceOrig</th>\n",
       "      <th>oldbalanceDest</th>\n",
       "      <th>newbalanceDest</th>\n",
       "      <th>was_CASH_IN</th>\n",
       "      <th>was_CASH_OUT</th>\n",
       "      <th>was_DEBIT</th>\n",
       "      <th>was_PAYMENT</th>\n",
       "      <th>was_TRANSFER</th>\n",
       "      <th>was_C</th>\n",
       "      <th>was_M</th>\n",
       "      <th>predictedCluster</th>\n",
       "    </tr>\n",
       "  </thead>\n",
       "  <tbody>\n",
       "    <tr>\n",
       "      <th>0</th>\n",
       "      <td>5.552960</td>\n",
       "      <td>12.248937</td>\n",
       "      <td>12.137639</td>\n",
       "      <td>0.000000</td>\n",
       "      <td>11.494869</td>\n",
       "      <td>12.634502</td>\n",
       "      <td>0.0</td>\n",
       "      <td>1.0</td>\n",
       "      <td>0.0</td>\n",
       "      <td>0.0</td>\n",
       "      <td>0.0</td>\n",
       "      <td>1.0</td>\n",
       "      <td>0.0</td>\n",
       "      <td>18</td>\n",
       "    </tr>\n",
       "    <tr>\n",
       "      <th>1</th>\n",
       "      <td>5.929589</td>\n",
       "      <td>8.997125</td>\n",
       "      <td>10.608044</td>\n",
       "      <td>10.385302</td>\n",
       "      <td>0.000000</td>\n",
       "      <td>0.000000</td>\n",
       "      <td>0.0</td>\n",
       "      <td>0.0</td>\n",
       "      <td>0.0</td>\n",
       "      <td>1.0</td>\n",
       "      <td>0.0</td>\n",
       "      <td>0.0</td>\n",
       "      <td>1.0</td>\n",
       "      <td>27</td>\n",
       "    </tr>\n",
       "    <tr>\n",
       "      <th>2</th>\n",
       "      <td>5.129899</td>\n",
       "      <td>11.015085</td>\n",
       "      <td>0.000000</td>\n",
       "      <td>0.000000</td>\n",
       "      <td>13.524533</td>\n",
       "      <td>13.602708</td>\n",
       "      <td>0.0</td>\n",
       "      <td>1.0</td>\n",
       "      <td>0.0</td>\n",
       "      <td>0.0</td>\n",
       "      <td>0.0</td>\n",
       "      <td>1.0</td>\n",
       "      <td>0.0</td>\n",
       "      <td>44</td>\n",
       "    </tr>\n",
       "    <tr>\n",
       "      <th>3</th>\n",
       "      <td>6.381816</td>\n",
       "      <td>12.496097</td>\n",
       "      <td>15.351625</td>\n",
       "      <td>15.407557</td>\n",
       "      <td>12.610037</td>\n",
       "      <td>10.381560</td>\n",
       "      <td>1.0</td>\n",
       "      <td>0.0</td>\n",
       "      <td>0.0</td>\n",
       "      <td>0.0</td>\n",
       "      <td>0.0</td>\n",
       "      <td>1.0</td>\n",
       "      <td>0.0</td>\n",
       "      <td>42</td>\n",
       "    </tr>\n",
       "    <tr>\n",
       "      <th>4</th>\n",
       "      <td>5.934894</td>\n",
       "      <td>12.330836</td>\n",
       "      <td>15.845724</td>\n",
       "      <td>15.875041</td>\n",
       "      <td>14.415731</td>\n",
       "      <td>14.282977</td>\n",
       "      <td>1.0</td>\n",
       "      <td>0.0</td>\n",
       "      <td>0.0</td>\n",
       "      <td>0.0</td>\n",
       "      <td>0.0</td>\n",
       "      <td>1.0</td>\n",
       "      <td>0.0</td>\n",
       "      <td>36</td>\n",
       "    </tr>\n",
       "  </tbody>\n",
       "</table>\n",
       "</div>"
      ],
      "text/plain": [
       "       step     amount  oldbalanceOrg  newbalanceOrig  oldbalanceDest  \\\n",
       "0  5.552960  12.248937      12.137639        0.000000       11.494869   \n",
       "1  5.929589   8.997125      10.608044       10.385302        0.000000   \n",
       "2  5.129899  11.015085       0.000000        0.000000       13.524533   \n",
       "3  6.381816  12.496097      15.351625       15.407557       12.610037   \n",
       "4  5.934894  12.330836      15.845724       15.875041       14.415731   \n",
       "\n",
       "   newbalanceDest  was_CASH_IN  was_CASH_OUT  was_DEBIT  was_PAYMENT  \\\n",
       "0       12.634502          0.0           1.0        0.0          0.0   \n",
       "1        0.000000          0.0           0.0        0.0          1.0   \n",
       "2       13.602708          0.0           1.0        0.0          0.0   \n",
       "3       10.381560          1.0           0.0        0.0          0.0   \n",
       "4       14.282977          1.0           0.0        0.0          0.0   \n",
       "\n",
       "   was_TRANSFER  was_C  was_M predictedCluster  \n",
       "0           0.0    1.0    0.0               18  \n",
       "1           0.0    0.0    1.0               27  \n",
       "2           0.0    1.0    0.0               44  \n",
       "3           0.0    1.0    0.0               42  \n",
       "4           0.0    1.0    0.0               36  "
      ]
     },
     "execution_count": 81,
     "metadata": {},
     "output_type": "execute_result"
    }
   ],
   "source": [
    "dftest4.head()\n",
    "# confirming transformation"
   ]
  },
  {
   "cell_type": "code",
   "execution_count": 82,
   "metadata": {
    "collapsed": false,
    "scrolled": false
   },
   "outputs": [
    {
     "data": {
      "text/html": [
       "<div>\n",
       "<table border=\"1\" class=\"dataframe\">\n",
       "  <thead>\n",
       "    <tr style=\"text-align: right;\">\n",
       "      <th></th>\n",
       "      <th>step</th>\n",
       "      <th>amount</th>\n",
       "      <th>oldbalanceOrg</th>\n",
       "      <th>newbalanceOrig</th>\n",
       "      <th>oldbalanceDest</th>\n",
       "      <th>newbalanceDest</th>\n",
       "      <th>was_CASH_IN</th>\n",
       "      <th>was_CASH_OUT</th>\n",
       "      <th>was_DEBIT</th>\n",
       "      <th>was_PAYMENT</th>\n",
       "      <th>...</th>\n",
       "      <th>was_40</th>\n",
       "      <th>was_41</th>\n",
       "      <th>was_42</th>\n",
       "      <th>was_43</th>\n",
       "      <th>was_44</th>\n",
       "      <th>was_45</th>\n",
       "      <th>was_46</th>\n",
       "      <th>was_47</th>\n",
       "      <th>was_48</th>\n",
       "      <th>was_49</th>\n",
       "    </tr>\n",
       "  </thead>\n",
       "  <tbody>\n",
       "    <tr>\n",
       "      <th>0</th>\n",
       "      <td>5.552960</td>\n",
       "      <td>12.248937</td>\n",
       "      <td>12.137639</td>\n",
       "      <td>0.000000</td>\n",
       "      <td>11.494869</td>\n",
       "      <td>12.634502</td>\n",
       "      <td>0.0</td>\n",
       "      <td>1.0</td>\n",
       "      <td>0.0</td>\n",
       "      <td>0.0</td>\n",
       "      <td>...</td>\n",
       "      <td>0.0</td>\n",
       "      <td>0.0</td>\n",
       "      <td>0.0</td>\n",
       "      <td>0.0</td>\n",
       "      <td>0.0</td>\n",
       "      <td>0.0</td>\n",
       "      <td>0.0</td>\n",
       "      <td>0.0</td>\n",
       "      <td>0.0</td>\n",
       "      <td>0.0</td>\n",
       "    </tr>\n",
       "    <tr>\n",
       "      <th>1</th>\n",
       "      <td>5.929589</td>\n",
       "      <td>8.997125</td>\n",
       "      <td>10.608044</td>\n",
       "      <td>10.385302</td>\n",
       "      <td>0.000000</td>\n",
       "      <td>0.000000</td>\n",
       "      <td>0.0</td>\n",
       "      <td>0.0</td>\n",
       "      <td>0.0</td>\n",
       "      <td>1.0</td>\n",
       "      <td>...</td>\n",
       "      <td>0.0</td>\n",
       "      <td>0.0</td>\n",
       "      <td>0.0</td>\n",
       "      <td>0.0</td>\n",
       "      <td>0.0</td>\n",
       "      <td>0.0</td>\n",
       "      <td>0.0</td>\n",
       "      <td>0.0</td>\n",
       "      <td>0.0</td>\n",
       "      <td>0.0</td>\n",
       "    </tr>\n",
       "    <tr>\n",
       "      <th>2</th>\n",
       "      <td>5.129899</td>\n",
       "      <td>11.015085</td>\n",
       "      <td>0.000000</td>\n",
       "      <td>0.000000</td>\n",
       "      <td>13.524533</td>\n",
       "      <td>13.602708</td>\n",
       "      <td>0.0</td>\n",
       "      <td>1.0</td>\n",
       "      <td>0.0</td>\n",
       "      <td>0.0</td>\n",
       "      <td>...</td>\n",
       "      <td>0.0</td>\n",
       "      <td>0.0</td>\n",
       "      <td>0.0</td>\n",
       "      <td>0.0</td>\n",
       "      <td>1.0</td>\n",
       "      <td>0.0</td>\n",
       "      <td>0.0</td>\n",
       "      <td>0.0</td>\n",
       "      <td>0.0</td>\n",
       "      <td>0.0</td>\n",
       "    </tr>\n",
       "    <tr>\n",
       "      <th>3</th>\n",
       "      <td>6.381816</td>\n",
       "      <td>12.496097</td>\n",
       "      <td>15.351625</td>\n",
       "      <td>15.407557</td>\n",
       "      <td>12.610037</td>\n",
       "      <td>10.381560</td>\n",
       "      <td>1.0</td>\n",
       "      <td>0.0</td>\n",
       "      <td>0.0</td>\n",
       "      <td>0.0</td>\n",
       "      <td>...</td>\n",
       "      <td>0.0</td>\n",
       "      <td>0.0</td>\n",
       "      <td>1.0</td>\n",
       "      <td>0.0</td>\n",
       "      <td>0.0</td>\n",
       "      <td>0.0</td>\n",
       "      <td>0.0</td>\n",
       "      <td>0.0</td>\n",
       "      <td>0.0</td>\n",
       "      <td>0.0</td>\n",
       "    </tr>\n",
       "    <tr>\n",
       "      <th>4</th>\n",
       "      <td>5.934894</td>\n",
       "      <td>12.330836</td>\n",
       "      <td>15.845724</td>\n",
       "      <td>15.875041</td>\n",
       "      <td>14.415731</td>\n",
       "      <td>14.282977</td>\n",
       "      <td>1.0</td>\n",
       "      <td>0.0</td>\n",
       "      <td>0.0</td>\n",
       "      <td>0.0</td>\n",
       "      <td>...</td>\n",
       "      <td>0.0</td>\n",
       "      <td>0.0</td>\n",
       "      <td>0.0</td>\n",
       "      <td>0.0</td>\n",
       "      <td>0.0</td>\n",
       "      <td>0.0</td>\n",
       "      <td>0.0</td>\n",
       "      <td>0.0</td>\n",
       "      <td>0.0</td>\n",
       "      <td>0.0</td>\n",
       "    </tr>\n",
       "  </tbody>\n",
       "</table>\n",
       "<p>5 rows × 63 columns</p>\n",
       "</div>"
      ],
      "text/plain": [
       "       step     amount  oldbalanceOrg  newbalanceOrig  oldbalanceDest  \\\n",
       "0  5.552960  12.248937      12.137639        0.000000       11.494869   \n",
       "1  5.929589   8.997125      10.608044       10.385302        0.000000   \n",
       "2  5.129899  11.015085       0.000000        0.000000       13.524533   \n",
       "3  6.381816  12.496097      15.351625       15.407557       12.610037   \n",
       "4  5.934894  12.330836      15.845724       15.875041       14.415731   \n",
       "\n",
       "   newbalanceDest  was_CASH_IN  was_CASH_OUT  was_DEBIT  was_PAYMENT   ...    \\\n",
       "0       12.634502          0.0           1.0        0.0          0.0   ...     \n",
       "1        0.000000          0.0           0.0        0.0          1.0   ...     \n",
       "2       13.602708          0.0           1.0        0.0          0.0   ...     \n",
       "3       10.381560          1.0           0.0        0.0          0.0   ...     \n",
       "4       14.282977          1.0           0.0        0.0          0.0   ...     \n",
       "\n",
       "   was_40  was_41  was_42  was_43  was_44  was_45  was_46  was_47  was_48  \\\n",
       "0     0.0     0.0     0.0     0.0     0.0     0.0     0.0     0.0     0.0   \n",
       "1     0.0     0.0     0.0     0.0     0.0     0.0     0.0     0.0     0.0   \n",
       "2     0.0     0.0     0.0     0.0     1.0     0.0     0.0     0.0     0.0   \n",
       "3     0.0     0.0     1.0     0.0     0.0     0.0     0.0     0.0     0.0   \n",
       "4     0.0     0.0     0.0     0.0     0.0     0.0     0.0     0.0     0.0   \n",
       "\n",
       "   was_49  \n",
       "0     0.0  \n",
       "1     0.0  \n",
       "2     0.0  \n",
       "3     0.0  \n",
       "4     0.0  \n",
       "\n",
       "[5 rows x 63 columns]"
      ]
     },
     "execution_count": 82,
     "metadata": {},
     "output_type": "execute_result"
    }
   ],
   "source": [
    "dftest4 = pd.get_dummies(dftest4, prefix='was', prefix_sep='_')\n",
    "dftest4.head()\n",
    "# encoding categorical features"
   ]
  },
  {
   "cell_type": "code",
   "execution_count": 83,
   "metadata": {
    "collapsed": false
   },
   "outputs": [
    {
     "name": "stdout",
     "output_type": "stream",
     "text": [
      "['was_C', 'was_37', 'was_25', 'was_13', 'was_TRANSFER', 'was_20', 'was_7', 'was_0', 'was_40', 'was_42', 'was_17', 'newbalanceOrig', 'was_45', 'was_CASH_OUT', 'was_48', 'was_12', 'was_32', 'was_39', 'was_29', 'was_4', 'was_34', 'was_11', 'was_31', 'was_43', 'was_30', 'was_2', 'was_22', 'was_49', 'was_8', 'was_38', 'was_1', 'was_21', 'amount', 'was_M', 'was_14', 'was_PAYMENT', 'was_33', 'was_35', 'was_5', 'was_27', 'was_47', 'was_44', 'was_24', 'was_28', 'was_10', 'oldbalanceOrg', 'step', 'was_26', 'was_19', 'was_46', 'was_15', 'newbalanceDest', 'was_3', 'was_23', 'was_18', 'was_DEBIT', 'was_36', 'was_6', 'was_41', 'oldbalanceDest', 'was_CASH_IN', 'was_9', 'was_16']\n"
     ]
    }
   ],
   "source": [
    "features4 = list(set(df4.columns) - {'isFraud'})\n",
    "print(features4)\n",
    "# setting features to a list"
   ]
  },
  {
   "cell_type": "code",
   "execution_count": 84,
   "metadata": {
    "collapsed": false
   },
   "outputs": [
    {
     "data": {
      "text/plain": [
       "(127253, 63)"
      ]
     },
     "execution_count": 84,
     "metadata": {},
     "output_type": "execute_result"
    }
   ],
   "source": [
    "dftest4.shape\n",
    "# 127243 row & 63 columns"
   ]
  },
  {
   "cell_type": "code",
   "execution_count": 85,
   "metadata": {
    "collapsed": false
   },
   "outputs": [],
   "source": [
    "preds4 = model4.decision_function(dftest4[features4])"
   ]
  },
  {
   "cell_type": "code",
   "execution_count": 86,
   "metadata": {
    "collapsed": false
   },
   "outputs": [
    {
     "data": {
      "text/plain": [
       "array([  1.65677225,  -9.71213395, -18.45521579, ...,  -5.85185491,\n",
       "       -19.78776979, -18.81740243])"
      ]
     },
     "execution_count": 86,
     "metadata": {},
     "output_type": "execute_result"
    }
   ],
   "source": [
    "preds4\n",
    "# making sure predictions are probabilities"
   ]
  },
  {
   "cell_type": "code",
   "execution_count": 87,
   "metadata": {
    "collapsed": false
   },
   "outputs": [
    {
     "data": {
      "text/plain": [
       "127253"
      ]
     },
     "execution_count": 87,
     "metadata": {},
     "output_type": "execute_result"
    }
   ],
   "source": [
    "len(preds4)\n",
    "# verifying preditions were on correct dataset"
   ]
  },
  {
   "cell_type": "code",
   "execution_count": 88,
   "metadata": {
    "collapsed": false
   },
   "outputs": [],
   "source": [
    "submit = {'Prediction': preds4, 'id': dftest.id}\n",
    "# making dictionary of predictions and ids"
   ]
  },
  {
   "cell_type": "code",
   "execution_count": 89,
   "metadata": {
    "collapsed": false
   },
   "outputs": [
    {
     "data": {
      "text/html": [
       "<div>\n",
       "<table border=\"1\" class=\"dataframe\">\n",
       "  <thead>\n",
       "    <tr style=\"text-align: right;\">\n",
       "      <th></th>\n",
       "      <th>Prediction</th>\n",
       "      <th>id</th>\n",
       "    </tr>\n",
       "  </thead>\n",
       "  <tbody>\n",
       "    <tr>\n",
       "      <th>0</th>\n",
       "      <td>1.656772</td>\n",
       "      <td>98777</td>\n",
       "    </tr>\n",
       "    <tr>\n",
       "      <th>1</th>\n",
       "      <td>-9.712134</td>\n",
       "      <td>397457</td>\n",
       "    </tr>\n",
       "    <tr>\n",
       "      <th>2</th>\n",
       "      <td>-18.455216</td>\n",
       "      <td>592225</td>\n",
       "    </tr>\n",
       "    <tr>\n",
       "      <th>3</th>\n",
       "      <td>-10.895265</td>\n",
       "      <td>425029</td>\n",
       "    </tr>\n",
       "    <tr>\n",
       "      <th>4</th>\n",
       "      <td>-10.366523</td>\n",
       "      <td>118706</td>\n",
       "    </tr>\n",
       "  </tbody>\n",
       "</table>\n",
       "</div>"
      ],
      "text/plain": [
       "   Prediction      id\n",
       "0    1.656772   98777\n",
       "1   -9.712134  397457\n",
       "2  -18.455216  592225\n",
       "3  -10.895265  425029\n",
       "4  -10.366523  118706"
      ]
     },
     "execution_count": 89,
     "metadata": {},
     "output_type": "execute_result"
    }
   ],
   "source": [
    "submit = pd.DataFrame(submit)\n",
    "submit.head()\n",
    "# creating dataframe"
   ]
  },
  {
   "cell_type": "code",
   "execution_count": 90,
   "metadata": {
    "collapsed": false
   },
   "outputs": [],
   "source": [
    "submit.to_csv('rt150pluskmeanspluskfolds4.csv')\n",
    "# exporting dataframe to .csv for submittal"
   ]
  },
  {
   "cell_type": "code",
   "execution_count": 91,
   "metadata": {
    "collapsed": false
   },
   "outputs": [
    {
     "data": {
      "text/plain": [
       "<matplotlib.axes._subplots.AxesSubplot at 0x2af806bf4a8>"
      ]
     },
     "execution_count": 91,
     "metadata": {},
     "output_type": "execute_result"
    },
    {
     "data": {
      "image/png": "[encoded data removed]",
      "text/plain": [
       "<matplotlib.figure.Figure at 0x2af806bbac8>"
      ]
     },
     "metadata": {},
     "output_type": "display_data"
    }
   ],
   "source": [
    "pd.DataFrame({\"Coefficients\": np.ravel(model4.coef_), \"features\":\n",
    "              list(range(len((features4))))}).plot(kind='scatter',\n",
    "                                                   y='Coefficients',\n",
    "                                                   x='features',\n",
    "                                                   figsize=(12, 6))\n",
    "# vizualizing coefficient importance"
   ]
  },
  {
   "cell_type": "code",
   "execution_count": 92,
   "metadata": {
    "collapsed": false
   },
   "outputs": [
    {
     "data": {
      "text/plain": [
       "array([[ -1.21542073e+00,   1.95156391e-17,   0.00000000e+00,\n",
       "         -2.49405659e+00,   1.41867217e+00,   8.23993651e-17,\n",
       "          4.15871781e-01,   3.08847557e+00,   0.00000000e+00,\n",
       "          0.00000000e+00,   0.00000000e+00,  -7.22731775e-01,\n",
       "         -1.22104876e+00,   1.40017770e+00,   2.16840434e-19,\n",
       "          7.78275838e+00,   4.33680869e-19,  -6.93889390e-18,\n",
       "         -3.54900341e-01,   0.00000000e+00,  -3.33201441e+00,\n",
       "         -6.01387118e-01,  -5.65342652e-01,   0.00000000e+00,\n",
       "         -1.52465931e-19,   8.70705981e-01,  -1.40649428e-01,\n",
       "         -7.33289230e-01,  -1.93022129e-01,   0.00000000e+00,\n",
       "         -8.67361738e-19,  -1.95156391e-18,  -1.26849109e+00,\n",
       "         -2.22851665e+00,   1.38150926e+00,  -2.22851665e+00,\n",
       "         -2.16840434e-19,   0.00000000e+00,  -1.46197785e+00,\n",
       "         -4.11108709e-01,   0.00000000e+00,  -1.59487006e+00,\n",
       "          1.08420217e-19,   0.00000000e+00,   0.00000000e+00,\n",
       "          1.54031463e+00,   1.98796202e-01,  -8.85265408e-02,\n",
       "          0.00000000e+00,  -3.04127392e-01,   0.00000000e+00,\n",
       "          3.42057847e-02,   0.00000000e+00,  -7.09339439e-01,\n",
       "          1.16834244e+00,  -5.53375380e-01,   0.00000000e+00,\n",
       "          3.03576608e-18,  -4.85368789e-01,  -8.23484161e-02,\n",
       "         -3.48089521e+00,  -3.90784876e-01,  -3.06978650e+00]])"
      ]
     },
     "execution_count": 92,
     "metadata": {},
     "output_type": "execute_result"
    }
   ],
   "source": [
    "model4.coef_\n",
    "# Print the Coefficient weights\n",
    "# Wha?"
   ]
  },
  {
   "cell_type": "code",
   "execution_count": 93,
   "metadata": {
    "collapsed": false
   },
   "outputs": [
    {
     "data": {
      "text/plain": [
       "[['was_C',\n",
       "  'was_37',\n",
       "  'was_25',\n",
       "  'was_13',\n",
       "  'was_TRANSFER',\n",
       "  'was_20',\n",
       "  'was_7',\n",
       "  'was_0',\n",
       "  'was_40',\n",
       "  'was_42',\n",
       "  'was_17',\n",
       "  'newbalanceOrig',\n",
       "  'was_45',\n",
       "  'was_CASH_OUT',\n",
       "  'was_48',\n",
       "  'was_12',\n",
       "  'was_32',\n",
       "  'was_39',\n",
       "  'was_29',\n",
       "  'was_4',\n",
       "  'was_34',\n",
       "  'was_11',\n",
       "  'was_31',\n",
       "  'was_43',\n",
       "  'was_30',\n",
       "  'was_2',\n",
       "  'was_22',\n",
       "  'was_49',\n",
       "  'was_8',\n",
       "  'was_38',\n",
       "  'was_1',\n",
       "  'was_21',\n",
       "  'amount',\n",
       "  'was_M',\n",
       "  'was_14',\n",
       "  'was_PAYMENT',\n",
       "  'was_33',\n",
       "  'was_35',\n",
       "  'was_5',\n",
       "  'was_27',\n",
       "  'was_47',\n",
       "  'was_44',\n",
       "  'was_24',\n",
       "  'was_28',\n",
       "  'was_10',\n",
       "  'oldbalanceOrg',\n",
       "  'step',\n",
       "  'was_26',\n",
       "  'was_19',\n",
       "  'was_46',\n",
       "  'was_15',\n",
       "  'newbalanceDest',\n",
       "  'was_3',\n",
       "  'was_23',\n",
       "  'was_18',\n",
       "  'was_DEBIT',\n",
       "  'was_36',\n",
       "  'was_6',\n",
       "  'was_41',\n",
       "  'oldbalanceDest',\n",
       "  'was_CASH_IN',\n",
       "  'was_9',\n",
       "  'was_16']]"
      ]
     },
     "execution_count": 93,
     "metadata": {},
     "output_type": "execute_result"
    }
   ],
   "source": [
    "[features4]\n",
    "# Getting feature names"
   ]
  },
  {
   "cell_type": "markdown",
   "metadata": {},
   "source": [
    "### Process Checkpoint 3\n",
    "\n",
    "So this model could be titled \"A Tale of Two Cities.\"  On the one hand my public leaderboard score has improved to that of a 0.992386 - leaving only the slightest of margins for conitnued improvement and my best result yet. My private leaderboard rating however was a 0.984878 which is outperformed by both of the Random Forrest models.  Interesting.  Additionally on the negative side would be a general lack of understanding of the SVM model coefficients.  I can visualize them for you but i cannot - as of yet - explain them to an extent that pleases me.  I do take comfort in the fact that this seems to be a common trait with us aspiring data scientists.  This provides me a place to continue my learning and for now I shall move forward.  \n",
    "\n",
    "So, in the spirit of moving forward I need to figure out why my model scores less successfully on the private leaderboard which uses the AUC as it's success parameter.  I'd like to ignore it but it is a more important measure and worthy of better understanding."
   ]
  },
  {
   "cell_type": "code",
   "execution_count": 94,
   "metadata": {
    "collapsed": false
   },
   "outputs": [
    {
     "data": {
      "text/plain": [
       "array([[507771,    569],\n",
       "       [    91,    578]])"
      ]
     },
     "execution_count": 94,
     "metadata": {},
     "output_type": "execute_result"
    }
   ],
   "source": [
    "confusion_matrix(df4.isFraud, model4.predict(df4[features4]))\n",
    "# Recall for not Fraud = 507771/508340 = 99.9%\n",
    "# Recall for is Fraud = 578/669 = 86.4%\n",
    "# Precision for not Fraud = 507771/507862 = 99.9%\n",
    "# Precision for is Fraud = 578/1147 = 50.3%"
   ]
  },
  {
   "cell_type": "code",
   "execution_count": 95,
   "metadata": {
    "collapsed": false
   },
   "outputs": [
    {
     "name": "stdout",
     "output_type": "stream",
     "text": [
      "             precision    recall  f1-score   support\n",
      "\n",
      "          0       1.00      1.00      1.00    508340\n",
      "          1       0.50      0.86      0.64       669\n",
      "\n",
      "avg / total       1.00      1.00      1.00    509009\n",
      "\n"
     ]
    }
   ],
   "source": [
    "print(classification_report(df4.isFraud, model4.predict(df4[features4])))\n",
    "# Whoa - not a good precision\n",
    "# This could explain the poor private leaderboard score"
   ]
  },
  {
   "cell_type": "code",
   "execution_count": 96,
   "metadata": {
    "collapsed": false
   },
   "outputs": [
    {
     "data": {
      "text/plain": [
       "RandomForestClassifier(bootstrap=True, class_weight=None, criterion='gini',\n",
       "            max_depth=None, max_features='auto', max_leaf_nodes=None,\n",
       "            min_impurity_split=1e-07, min_samples_leaf=1,\n",
       "            min_samples_split=2, min_weight_fraction_leaf=0.0,\n",
       "            n_estimators=125, n_jobs=-1, oob_score=False, random_state=0,\n",
       "            verbose=0, warm_start=False)"
      ]
     },
     "execution_count": 96,
     "metadata": {},
     "output_type": "execute_result"
    }
   ],
   "source": [
    "model.fit(df1[features1], df1.isFraud)"
   ]
  },
  {
   "cell_type": "code",
   "execution_count": 97,
   "metadata": {
    "collapsed": false
   },
   "outputs": [
    {
     "data": {
      "text/plain": [
       "array([[508340,      0],\n",
       "       [     0,    669]])"
      ]
     },
     "execution_count": 97,
     "metadata": {},
     "output_type": "execute_result"
    }
   ],
   "source": [
    "confusion_matrix(df1.isFraud, model.predict(df1[features1]))\n",
    "# Recall for not Fraud = 508340/508340 = 100%\n",
    "# Recall for is Fraud = 669/669 = 100%\n",
    "# Precision for not Fraud = 508340/508340 = 100%\n",
    "# Precision for is Fraud = 669/669 = 100%"
   ]
  },
  {
   "cell_type": "code",
   "execution_count": 98,
   "metadata": {
    "collapsed": false
   },
   "outputs": [
    {
     "name": "stdout",
     "output_type": "stream",
     "text": [
      "             precision    recall  f1-score   support\n",
      "\n",
      "          0       1.00      1.00      1.00    508340\n",
      "          1       1.00      1.00      1.00       669\n",
      "\n",
      "avg / total       1.00      1.00      1.00    509009\n",
      "\n"
     ]
    }
   ],
   "source": [
    "print(classification_report(df1.isFraud, model.predict(df1[features1])))\n",
    "# Wow - what a great result\n",
    "# This could explain the excellent private leaderboard score"
   ]
  },
  {
   "cell_type": "markdown",
   "metadata": {},
   "source": [
    "### Process Checkpoint 4\n",
    "So - my issue with not performing well on the private leaderboard resides in the poor performance in my model prediticng too many false positives.  There are far too many and the model needs to be further groomed to address it but it is erring on the correct side of the equation.  This means we as a financial institution would perhaps make more coutesy calls verifying the appropriateness of the transactions prior to them being executed.  Some people will balk at the intrusion but my preference it to err on the side of conservatism until further model improvements can be gained.\n",
    "\n",
    "In order to compare the private leaderboard results for my final model (model 4) and that of my best model showing (model) I've calculated the confusion matrix for my model.  There is not doubt in my mind now why the private leaderboard performance is so different are this exercise.  \n",
    "\n",
    "Though not perfect, this model pleases me to the point it could be productionalized for now while further enhancements are gained.  Some of the methods I would use to further drive up the precision of my model4 would include: binning of my numerical features, generating polynomial features and reducing my data dimensions using PCA.  Alas, the boss is here and wants to deploy sometime - asap.\n",
    "\n",
    "Now we need to build a pipeline......"
   ]
  },
  {
   "cell_type": "markdown",
   "metadata": {},
   "source": [
    "Starting with a preprocessing function to manipulate raw data into proper format to be trained/tested/scored on the final model"
   ]
  },
  {
   "cell_type": "code",
   "execution_count": 99,
   "metadata": {
    "collapsed": true
   },
   "outputs": [],
   "source": [
    "def preprocess_train():\n",
    "    \"\"\"\n",
    "    preprocess()\n",
    "\n",
    "    Imports pandas as .pd,\n",
    "    asks for file path and file name,\n",
    "    1mports .csv file,\n",
    "    and creates pandas data frame.\n",
    "    Splits 'nameDest' to retain letter\n",
    "    Drops unneeded columns\n",
    "    Gets dummies\n",
    "    Makes Feature list\n",
    "    Organizes into 50 kmenas clusters\n",
    "    Gets dummies\n",
    "    Makes Feature list\n",
    "\n",
    "    Parameters\n",
    "    ----------\n",
    "    file path:\n",
    "        local address of file\n",
    "    file name:\n",
    "        name of file with extension\n",
    "\n",
    "    Returns\n",
    "    -------\n",
    "    out: data frame\n",
    "        A Pandas data frame as df\n",
    "\n",
    "    Examples\n",
    "    --------\n",
    "    >>> preprocess()\n",
    "        What is your file path? C:\\\\Users\\\\DN\\\\hwkkix\\\\\n",
    "        data820\\\\assignments\\\\assignment-03\\\\data\\\\\n",
    "        What is your file name with extension? 1.csv\n",
    "    >>> Thanks for helping store your file path and\n",
    "        name! Enjoy your new dataframe\n",
    "    \"\"\"\n",
    "    import pandas as pd\n",
    "    path = input('What is your file path? ')\n",
    "    file = input('What is your file name with extension? ')\n",
    "    print('Thanks for helping store your file path and name!\n",
    "          'Enjoy your new dataframe ')\n",
    "    df = pd.read_csv(path+file)\n",
    "    df['Recipient'] = df['nameDest'].str[:1]\n",
    "    df = df.ix[:, [0, 1, 2, 4, 5, 7, 8, 9, 11]]\n",
    "    df.amount = np.log1p(df.amount)\n",
    "    df.oldbalanceOrg = np.log1p(df4.oldbalanceOrg)\n",
    "    df.newbalanceOrig = np.log1p(df.newbalanceOrig)\n",
    "    df.oldbalanceDest = np.log1p(df.oldbalanceDest)\n",
    "    df.newbalanceDest = np.log1p(df.newbalanceDest)\n",
    "    df.step = np.log1p(df.step)\n",
    "    df = pd.get_dummies(df, prefix='was', prefix_sep='_')\n",
    "    features = list(set(df.columns) - {'isFraud'})\n",
    "    kmeans = KMeans(n_clusters=50, random_state=0, n_jobs=-1)\n",
    "    kmeans.fit(df[features])\n",
    "    predictedLabels = kmeans.predict(df[features])\n",
    "    df['predictedCluster'] = predictedLabels\n",
    "    df['predictedCluster'] = df.predictedCluster.astype('object')\n",
    "    df = pd.get_dummies(df, prefix='was', prefix_sep='_')\n",
    "    features = list(set(df.columns) - {'isFraud'})\n",
    "    return df\n",
    "# Establish preprocess training script"
   ]
  },
  {
   "cell_type": "code",
   "execution_count": 100,
   "metadata": {
    "collapsed": false
   },
   "outputs": [
    {
     "name": "stdout",
     "output_type": "stream",
     "text": [
      "What is your file path? C:\\Users\\DN\\hwkkix\\detectingfraud\\project-submissions\\\n",
      "What is your file name with extension? train.csv\n",
      "Thanks for helping store your file path and name! Enjoy your new dataframe \n"
     ]
    },
    {
     "data": {
      "text/html": [
       "<div>\n",
       "<table border=\"1\" class=\"dataframe\">\n",
       "  <thead>\n",
       "    <tr style=\"text-align: right;\">\n",
       "      <th></th>\n",
       "      <th>step</th>\n",
       "      <th>amount</th>\n",
       "      <th>oldbalanceOrg</th>\n",
       "      <th>newbalanceOrig</th>\n",
       "      <th>oldbalanceDest</th>\n",
       "      <th>newbalanceDest</th>\n",
       "      <th>isFraud</th>\n",
       "      <th>was_CASH_IN</th>\n",
       "      <th>was_CASH_OUT</th>\n",
       "      <th>was_DEBIT</th>\n",
       "      <th>...</th>\n",
       "      <th>was_40</th>\n",
       "      <th>was_41</th>\n",
       "      <th>was_42</th>\n",
       "      <th>was_43</th>\n",
       "      <th>was_44</th>\n",
       "      <th>was_45</th>\n",
       "      <th>was_46</th>\n",
       "      <th>was_47</th>\n",
       "      <th>was_48</th>\n",
       "      <th>was_49</th>\n",
       "    </tr>\n",
       "  </thead>\n",
       "  <tbody>\n",
       "    <tr>\n",
       "      <th>0</th>\n",
       "      <td>5.717028</td>\n",
       "      <td>12.129006</td>\n",
       "      <td>2.768767</td>\n",
       "      <td>14.997436</td>\n",
       "      <td>13.689939</td>\n",
       "      <td>13.454294</td>\n",
       "      <td>0</td>\n",
       "      <td>1.0</td>\n",
       "      <td>0.0</td>\n",
       "      <td>0.0</td>\n",
       "      <td>...</td>\n",
       "      <td>0.0</td>\n",
       "      <td>0.0</td>\n",
       "      <td>0.0</td>\n",
       "      <td>0.0</td>\n",
       "      <td>0.0</td>\n",
       "      <td>0.0</td>\n",
       "      <td>0.0</td>\n",
       "      <td>0.0</td>\n",
       "      <td>0.0</td>\n",
       "      <td>0.0</td>\n",
       "    </tr>\n",
       "    <tr>\n",
       "      <th>1</th>\n",
       "      <td>5.877736</td>\n",
       "      <td>11.278274</td>\n",
       "      <td>2.804474</td>\n",
       "      <td>15.532690</td>\n",
       "      <td>11.939633</td>\n",
       "      <td>11.213668</td>\n",
       "      <td>0</td>\n",
       "      <td>1.0</td>\n",
       "      <td>0.0</td>\n",
       "      <td>0.0</td>\n",
       "      <td>...</td>\n",
       "      <td>0.0</td>\n",
       "      <td>0.0</td>\n",
       "      <td>0.0</td>\n",
       "      <td>0.0</td>\n",
       "      <td>0.0</td>\n",
       "      <td>0.0</td>\n",
       "      <td>0.0</td>\n",
       "      <td>0.0</td>\n",
       "      <td>0.0</td>\n",
       "      <td>0.0</td>\n",
       "    </tr>\n",
       "    <tr>\n",
       "      <th>2</th>\n",
       "      <td>2.397895</td>\n",
       "      <td>14.664307</td>\n",
       "      <td>2.557591</td>\n",
       "      <td>0.000000</td>\n",
       "      <td>15.438723</td>\n",
       "      <td>15.804476</td>\n",
       "      <td>0</td>\n",
       "      <td>0.0</td>\n",
       "      <td>0.0</td>\n",
       "      <td>0.0</td>\n",
       "      <td>...</td>\n",
       "      <td>0.0</td>\n",
       "      <td>0.0</td>\n",
       "      <td>0.0</td>\n",
       "      <td>0.0</td>\n",
       "      <td>0.0</td>\n",
       "      <td>0.0</td>\n",
       "      <td>0.0</td>\n",
       "      <td>0.0</td>\n",
       "      <td>0.0</td>\n",
       "      <td>0.0</td>\n",
       "    </tr>\n",
       "    <tr>\n",
       "      <th>3</th>\n",
       "      <td>5.476464</td>\n",
       "      <td>12.339374</td>\n",
       "      <td>0.000000</td>\n",
       "      <td>0.000000</td>\n",
       "      <td>16.747694</td>\n",
       "      <td>16.759796</td>\n",
       "      <td>0</td>\n",
       "      <td>0.0</td>\n",
       "      <td>0.0</td>\n",
       "      <td>0.0</td>\n",
       "      <td>...</td>\n",
       "      <td>0.0</td>\n",
       "      <td>0.0</td>\n",
       "      <td>0.0</td>\n",
       "      <td>0.0</td>\n",
       "      <td>0.0</td>\n",
       "      <td>0.0</td>\n",
       "      <td>0.0</td>\n",
       "      <td>0.0</td>\n",
       "      <td>0.0</td>\n",
       "      <td>1.0</td>\n",
       "    </tr>\n",
       "    <tr>\n",
       "      <th>4</th>\n",
       "      <td>4.897840</td>\n",
       "      <td>12.101716</td>\n",
       "      <td>2.395477</td>\n",
       "      <td>12.214183</td>\n",
       "      <td>15.784062</td>\n",
       "      <td>15.758576</td>\n",
       "      <td>0</td>\n",
       "      <td>1.0</td>\n",
       "      <td>0.0</td>\n",
       "      <td>0.0</td>\n",
       "      <td>...</td>\n",
       "      <td>0.0</td>\n",
       "      <td>0.0</td>\n",
       "      <td>0.0</td>\n",
       "      <td>1.0</td>\n",
       "      <td>0.0</td>\n",
       "      <td>0.0</td>\n",
       "      <td>0.0</td>\n",
       "      <td>0.0</td>\n",
       "      <td>0.0</td>\n",
       "      <td>0.0</td>\n",
       "    </tr>\n",
       "  </tbody>\n",
       "</table>\n",
       "<p>5 rows × 64 columns</p>\n",
       "</div>"
      ],
      "text/plain": [
       "       step     amount  oldbalanceOrg  newbalanceOrig  oldbalanceDest  \\\n",
       "0  5.717028  12.129006       2.768767       14.997436       13.689939   \n",
       "1  5.877736  11.278274       2.804474       15.532690       11.939633   \n",
       "2  2.397895  14.664307       2.557591        0.000000       15.438723   \n",
       "3  5.476464  12.339374       0.000000        0.000000       16.747694   \n",
       "4  4.897840  12.101716       2.395477       12.214183       15.784062   \n",
       "\n",
       "   newbalanceDest  isFraud  was_CASH_IN  was_CASH_OUT  was_DEBIT   ...    \\\n",
       "0       13.454294        0          1.0           0.0        0.0   ...     \n",
       "1       11.213668        0          1.0           0.0        0.0   ...     \n",
       "2       15.804476        0          0.0           0.0        0.0   ...     \n",
       "3       16.759796        0          0.0           0.0        0.0   ...     \n",
       "4       15.758576        0          1.0           0.0        0.0   ...     \n",
       "\n",
       "   was_40  was_41  was_42  was_43  was_44  was_45  was_46  was_47  was_48  \\\n",
       "0     0.0     0.0     0.0     0.0     0.0     0.0     0.0     0.0     0.0   \n",
       "1     0.0     0.0     0.0     0.0     0.0     0.0     0.0     0.0     0.0   \n",
       "2     0.0     0.0     0.0     0.0     0.0     0.0     0.0     0.0     0.0   \n",
       "3     0.0     0.0     0.0     0.0     0.0     0.0     0.0     0.0     0.0   \n",
       "4     0.0     0.0     0.0     1.0     0.0     0.0     0.0     0.0     0.0   \n",
       "\n",
       "   was_49  \n",
       "0     0.0  \n",
       "1     0.0  \n",
       "2     0.0  \n",
       "3     1.0  \n",
       "4     0.0  \n",
       "\n",
       "[5 rows x 64 columns]"
      ]
     },
     "execution_count": 100,
     "metadata": {},
     "output_type": "execute_result"
    }
   ],
   "source": [
    "df = preprocess_train()\n",
    "df.head()\n",
    "# running the preprocess function to prep raw data files"
   ]
  },
  {
   "cell_type": "code",
   "execution_count": 101,
   "metadata": {
    "collapsed": false
   },
   "outputs": [],
   "source": [
    "train, test = tts(df, test_size=.2, random_state=0)\n",
    "# splitting data prior to pipeline"
   ]
  },
  {
   "cell_type": "code",
   "execution_count": 102,
   "metadata": {
    "collapsed": false
   },
   "outputs": [
    {
     "data": {
      "text/plain": [
       "Pipeline(steps=[('linearsvc', LinearSVC(C=1.93069772888, class_weight=None, dual=True, fit_intercept=True,\n",
       "     intercept_scaling=1, loss='squared_hinge', max_iter=1000,\n",
       "     multi_class='ovr', penalty='l2', random_state=0, tol=0.0001,\n",
       "     verbose=0))])"
      ]
     },
     "execution_count": 102,
     "metadata": {},
     "output_type": "execute_result"
    }
   ],
   "source": [
    "pipe = make_pipeline(LinearSVC(C=1.93069772888, random_state=0))\n",
    "pipe.fit(train[features], train.isFraud)\n",
    "# establishing pipeline that incorporates PCA and Linear SVM model"
   ]
  },
  {
   "cell_type": "code",
   "execution_count": 103,
   "metadata": {
    "collapsed": false
   },
   "outputs": [
    {
     "name": "stdout",
     "output_type": "stream",
     "text": [
      "######################################################################\n",
      "Pipeline model accuracy score on training data set: 0.999236260673\n",
      "######################################################################\n"
     ]
    }
   ],
   "source": [
    "trainscore = pipe.score(train[features], train.isFraud)\n",
    "print(70*\"#\")\n",
    "print(\"Pipeline model accuracy score on training data set: %s\" % (trainscore))\n",
    "print(70*\"#\")\n",
    "# Scoring the pipe on train"
   ]
  },
  {
   "cell_type": "code",
   "execution_count": 104,
   "metadata": {
    "collapsed": false
   },
   "outputs": [
    {
     "name": "stdout",
     "output_type": "stream",
     "text": [
      "######################################################################\n",
      "Pipeline model accuracy score on testing data set: 0.999204337832\n",
      "######################################################################\n"
     ]
    }
   ],
   "source": [
    "testscore = pipe.score(test[features], test.isFraud)\n",
    "print(70*\"#\")\n",
    "print(\"Pipeline model accuracy score on testing data set: %s\" % (testscore))\n",
    "print(70*\"#\")\n",
    "# Scoring the pipe on test"
   ]
  },
  {
   "cell_type": "code",
   "execution_count": 105,
   "metadata": {
    "collapsed": false
   },
   "outputs": [
    {
     "name": "stdout",
     "output_type": "stream",
     "text": [
      "######################################################################\n",
      "Pipeline model accuracy score on the full data set: 0.999229876093\n",
      "######################################################################\n"
     ]
    }
   ],
   "source": [
    "fullscore = pipe.score(df[features], df.isFraud)\n",
    "print(70*\"#\")\n",
    "print(\"Pipeline model accuracy score on the full data set: %s\" % (fullscore))\n",
    "print(70*\"#\")\n",
    "# Scoring the pipe on full data set"
   ]
  },
  {
   "cell_type": "code",
   "execution_count": 106,
   "metadata": {
    "collapsed": false
   },
   "outputs": [
    {
     "data": {
      "text/plain": [
       "array([[508325,     15],\n",
       "       [   377,    292]])"
      ]
     },
     "execution_count": 106,
     "metadata": {},
     "output_type": "execute_result"
    }
   ],
   "source": [
    "confusion_matrix(df.isFraud, pipe.predict(df[features]))\n",
    "# Recall for not Fraud = 508325/508350 = 99.9%\n",
    "# Recall for is Fraud = 292/669 = 44%\n",
    "# Precision for not Fraud = 508325/508702 = 99.9%\n",
    "# Precision for is Fraud = 292/307 = 95%"
   ]
  },
  {
   "cell_type": "code",
   "execution_count": 107,
   "metadata": {
    "collapsed": false,
    "scrolled": true
   },
   "outputs": [
    {
     "name": "stdout",
     "output_type": "stream",
     "text": [
      "             precision    recall  f1-score   support\n",
      "\n",
      "          0       1.00      1.00      1.00    508340\n",
      "          1       0.95      0.44      0.60       669\n",
      "\n",
      "avg / total       1.00      1.00      1.00    509009\n",
      "\n"
     ]
    }
   ],
   "source": [
    "print(classification_report(df.isFraud, pipe.predict(df[features])))"
   ]
  },
  {
   "cell_type": "code",
   "execution_count": 108,
   "metadata": {
    "collapsed": false
   },
   "outputs": [],
   "source": [
    "def preprocess_test():\n",
    "    \"\"\"\n",
    "    preprocess()\n",
    "\n",
    "    Imports pandas as .pd,\n",
    "    asks for file path and file name\n",
    "    1mports .csv file, and creates pandas data frame.\n",
    "    Splits 'nameDest' to retain letter\n",
    "    Drops unneeded columns\n",
    "    Gets dummies\n",
    "    Makes Feature list\n",
    "    Organizes into 50 kmenas clusters\n",
    "    Gets dummies\n",
    "    Makes Feature list\n",
    "\n",
    "    Parameters\n",
    "    ----------\n",
    "    file path:\n",
    "        local address of file\n",
    "    file name:\n",
    "        name of file with extension\n",
    "\n",
    "    Returns\n",
    "    -------\n",
    "    out: data frame\n",
    "        A Pandas data frame as df\n",
    "\n",
    "    Examples\n",
    "    --------\n",
    "    >>> preprocess()\n",
    "        What is your file path? C:\\\\Users\\\\DN\\\\hwkkix\\\\\n",
    "        data820\\\\assignments\\\\assignment-03\\\\data\\\\\n",
    "        What is your file name with extension? 1.csv\n",
    "    >>> Thanks for helping store your file path and\n",
    "        name! Enjoy your new dataframe\n",
    "    \"\"\"\n",
    "    import pandas as pd\n",
    "    path = input('What is your file path? ')\n",
    "    file = input('What is your file name with extension? ')\n",
    "    print('Thanks for helping store your file path and name!\n",
    "          'Enjoy your new dataframe ')\n",
    "    df = pd.read_csv(path+file)\n",
    "    df['Recipient'] = df['nameDest'].str[:1]\n",
    "    df = df.ix[:, [0, 1, 2, 4, 5, 7, 8, 10]]\n",
    "    df.amount = np.log1p(df.amount)\n",
    "    df.oldbalanceOrg = np.log1p(df4.oldbalanceOrg)\n",
    "    df.newbalanceOrig = np.log1p(df.newbalanceOrig)\n",
    "    df.oldbalanceDest = np.log1p(df.oldbalanceDest)\n",
    "    df.newbalanceDest = np.log1p(df.newbalanceDest)\n",
    "    df.step = np.log1p(df.step)\n",
    "    df = pd.get_dummies(df, prefix='was', prefix_sep='_')\n",
    "    features = list(set(df.columns) - {'isFraud'})\n",
    "    kmeans = KMeans(n_clusters=50, random_state=0, n_jobs=-1)\n",
    "    kmeans.fit(df[features])\n",
    "    predictedLabels = kmeans.predict(df[features])\n",
    "    df['predictedCluster'] = predictedLabels\n",
    "    df['predictedCluster'] = df.predictedCluster.astype('object')\n",
    "    df = pd.get_dummies(df, prefix='was', prefix_sep='_')\n",
    "    features = list(set(df.columns) - {'isFraud'})\n",
    "    return df\n",
    "# Establish preprocess testing script"
   ]
  },
  {
   "cell_type": "code",
   "execution_count": 109,
   "metadata": {
    "collapsed": false
   },
   "outputs": [
    {
     "name": "stdout",
     "output_type": "stream",
     "text": [
      "What is your file path? C:\\Users\\DN\\hwkkix\\detectingfraud\\project-submissions\\\n",
      "What is your file name with extension? test.csv\n",
      "Thanks for helping store your file path and name! Enjoy your new dataframe \n"
     ]
    },
    {
     "data": {
      "text/html": [
       "<div>\n",
       "<table border=\"1\" class=\"dataframe\">\n",
       "  <thead>\n",
       "    <tr style=\"text-align: right;\">\n",
       "      <th></th>\n",
       "      <th>step</th>\n",
       "      <th>amount</th>\n",
       "      <th>oldbalanceOrg</th>\n",
       "      <th>newbalanceOrig</th>\n",
       "      <th>oldbalanceDest</th>\n",
       "      <th>newbalanceDest</th>\n",
       "      <th>was_CASH_IN</th>\n",
       "      <th>was_CASH_OUT</th>\n",
       "      <th>was_DEBIT</th>\n",
       "      <th>was_PAYMENT</th>\n",
       "      <th>...</th>\n",
       "      <th>was_40</th>\n",
       "      <th>was_41</th>\n",
       "      <th>was_42</th>\n",
       "      <th>was_43</th>\n",
       "      <th>was_44</th>\n",
       "      <th>was_45</th>\n",
       "      <th>was_46</th>\n",
       "      <th>was_47</th>\n",
       "      <th>was_48</th>\n",
       "      <th>was_49</th>\n",
       "    </tr>\n",
       "  </thead>\n",
       "  <tbody>\n",
       "    <tr>\n",
       "      <th>0</th>\n",
       "      <td>5.552960</td>\n",
       "      <td>12.248937</td>\n",
       "      <td>2.768767</td>\n",
       "      <td>0.000000</td>\n",
       "      <td>11.494869</td>\n",
       "      <td>12.634502</td>\n",
       "      <td>0.0</td>\n",
       "      <td>1.0</td>\n",
       "      <td>0.0</td>\n",
       "      <td>0.0</td>\n",
       "      <td>...</td>\n",
       "      <td>0.0</td>\n",
       "      <td>0.0</td>\n",
       "      <td>0.0</td>\n",
       "      <td>0.0</td>\n",
       "      <td>0.0</td>\n",
       "      <td>0.0</td>\n",
       "      <td>0.0</td>\n",
       "      <td>0.0</td>\n",
       "      <td>0.0</td>\n",
       "      <td>0.0</td>\n",
       "    </tr>\n",
       "    <tr>\n",
       "      <th>1</th>\n",
       "      <td>5.929589</td>\n",
       "      <td>8.997125</td>\n",
       "      <td>2.804474</td>\n",
       "      <td>10.385302</td>\n",
       "      <td>0.000000</td>\n",
       "      <td>0.000000</td>\n",
       "      <td>0.0</td>\n",
       "      <td>0.0</td>\n",
       "      <td>0.0</td>\n",
       "      <td>1.0</td>\n",
       "      <td>...</td>\n",
       "      <td>0.0</td>\n",
       "      <td>0.0</td>\n",
       "      <td>0.0</td>\n",
       "      <td>0.0</td>\n",
       "      <td>0.0</td>\n",
       "      <td>0.0</td>\n",
       "      <td>0.0</td>\n",
       "      <td>0.0</td>\n",
       "      <td>0.0</td>\n",
       "      <td>0.0</td>\n",
       "    </tr>\n",
       "    <tr>\n",
       "      <th>2</th>\n",
       "      <td>5.129899</td>\n",
       "      <td>11.015085</td>\n",
       "      <td>2.557591</td>\n",
       "      <td>0.000000</td>\n",
       "      <td>13.524533</td>\n",
       "      <td>13.602708</td>\n",
       "      <td>0.0</td>\n",
       "      <td>1.0</td>\n",
       "      <td>0.0</td>\n",
       "      <td>0.0</td>\n",
       "      <td>...</td>\n",
       "      <td>0.0</td>\n",
       "      <td>0.0</td>\n",
       "      <td>0.0</td>\n",
       "      <td>0.0</td>\n",
       "      <td>0.0</td>\n",
       "      <td>0.0</td>\n",
       "      <td>1.0</td>\n",
       "      <td>0.0</td>\n",
       "      <td>0.0</td>\n",
       "      <td>0.0</td>\n",
       "    </tr>\n",
       "    <tr>\n",
       "      <th>3</th>\n",
       "      <td>6.381816</td>\n",
       "      <td>12.496097</td>\n",
       "      <td>0.000000</td>\n",
       "      <td>15.407557</td>\n",
       "      <td>12.610037</td>\n",
       "      <td>10.381560</td>\n",
       "      <td>1.0</td>\n",
       "      <td>0.0</td>\n",
       "      <td>0.0</td>\n",
       "      <td>0.0</td>\n",
       "      <td>...</td>\n",
       "      <td>0.0</td>\n",
       "      <td>0.0</td>\n",
       "      <td>0.0</td>\n",
       "      <td>0.0</td>\n",
       "      <td>0.0</td>\n",
       "      <td>0.0</td>\n",
       "      <td>0.0</td>\n",
       "      <td>0.0</td>\n",
       "      <td>0.0</td>\n",
       "      <td>0.0</td>\n",
       "    </tr>\n",
       "    <tr>\n",
       "      <th>4</th>\n",
       "      <td>5.934894</td>\n",
       "      <td>12.330836</td>\n",
       "      <td>2.395477</td>\n",
       "      <td>15.875041</td>\n",
       "      <td>14.415731</td>\n",
       "      <td>14.282977</td>\n",
       "      <td>1.0</td>\n",
       "      <td>0.0</td>\n",
       "      <td>0.0</td>\n",
       "      <td>0.0</td>\n",
       "      <td>...</td>\n",
       "      <td>0.0</td>\n",
       "      <td>0.0</td>\n",
       "      <td>0.0</td>\n",
       "      <td>0.0</td>\n",
       "      <td>0.0</td>\n",
       "      <td>0.0</td>\n",
       "      <td>0.0</td>\n",
       "      <td>0.0</td>\n",
       "      <td>0.0</td>\n",
       "      <td>0.0</td>\n",
       "    </tr>\n",
       "  </tbody>\n",
       "</table>\n",
       "<p>5 rows × 63 columns</p>\n",
       "</div>"
      ],
      "text/plain": [
       "       step     amount  oldbalanceOrg  newbalanceOrig  oldbalanceDest  \\\n",
       "0  5.552960  12.248937       2.768767        0.000000       11.494869   \n",
       "1  5.929589   8.997125       2.804474       10.385302        0.000000   \n",
       "2  5.129899  11.015085       2.557591        0.000000       13.524533   \n",
       "3  6.381816  12.496097       0.000000       15.407557       12.610037   \n",
       "4  5.934894  12.330836       2.395477       15.875041       14.415731   \n",
       "\n",
       "   newbalanceDest  was_CASH_IN  was_CASH_OUT  was_DEBIT  was_PAYMENT   ...    \\\n",
       "0       12.634502          0.0           1.0        0.0          0.0   ...     \n",
       "1        0.000000          0.0           0.0        0.0          1.0   ...     \n",
       "2       13.602708          0.0           1.0        0.0          0.0   ...     \n",
       "3       10.381560          1.0           0.0        0.0          0.0   ...     \n",
       "4       14.282977          1.0           0.0        0.0          0.0   ...     \n",
       "\n",
       "   was_40  was_41  was_42  was_43  was_44  was_45  was_46  was_47  was_48  \\\n",
       "0     0.0     0.0     0.0     0.0     0.0     0.0     0.0     0.0     0.0   \n",
       "1     0.0     0.0     0.0     0.0     0.0     0.0     0.0     0.0     0.0   \n",
       "2     0.0     0.0     0.0     0.0     0.0     0.0     1.0     0.0     0.0   \n",
       "3     0.0     0.0     0.0     0.0     0.0     0.0     0.0     0.0     0.0   \n",
       "4     0.0     0.0     0.0     0.0     0.0     0.0     0.0     0.0     0.0   \n",
       "\n",
       "   was_49  \n",
       "0     0.0  \n",
       "1     0.0  \n",
       "2     0.0  \n",
       "3     0.0  \n",
       "4     0.0  \n",
       "\n",
       "[5 rows x 63 columns]"
      ]
     },
     "execution_count": 109,
     "metadata": {},
     "output_type": "execute_result"
    }
   ],
   "source": [
    "df = preprocess_test()\n",
    "df.head()\n",
    "# running the preprocess function to prep raw data files"
   ]
  },
  {
   "cell_type": "code",
   "execution_count": 110,
   "metadata": {
    "collapsed": true
   },
   "outputs": [],
   "source": [
    "preds = pipe.decision_function(df[features])"
   ]
  },
  {
   "cell_type": "code",
   "execution_count": 111,
   "metadata": {
    "collapsed": false
   },
   "outputs": [
    {
     "data": {
      "text/plain": [
       "array([ -0.19706743,  -0.79550982,  -0.95808095, ...,  -1.63712136,\n",
       "        -1.61279643, -10.03964371])"
      ]
     },
     "execution_count": 111,
     "metadata": {},
     "output_type": "execute_result"
    }
   ],
   "source": [
    "preds\n",
    "# making sure predictions are probabilities"
   ]
  },
  {
   "cell_type": "code",
   "execution_count": 112,
   "metadata": {
    "collapsed": false
   },
   "outputs": [
    {
     "data": {
      "text/plain": [
       "127253"
      ]
     },
     "execution_count": 112,
     "metadata": {},
     "output_type": "execute_result"
    }
   ],
   "source": [
    "len(preds)\n",
    "# verifying preditions were on correct dataset"
   ]
  },
  {
   "cell_type": "code",
   "execution_count": 113,
   "metadata": {
    "collapsed": false
   },
   "outputs": [],
   "source": [
    "submit = {'Prediction': preds, 'id': dftest.id}\n",
    "# making dictionary of predictions and ids"
   ]
  },
  {
   "cell_type": "code",
   "execution_count": 114,
   "metadata": {
    "collapsed": false
   },
   "outputs": [
    {
     "data": {
      "text/html": [
       "<div>\n",
       "<table border=\"1\" class=\"dataframe\">\n",
       "  <thead>\n",
       "    <tr style=\"text-align: right;\">\n",
       "      <th></th>\n",
       "      <th>Prediction</th>\n",
       "      <th>id</th>\n",
       "    </tr>\n",
       "  </thead>\n",
       "  <tbody>\n",
       "    <tr>\n",
       "      <th>0</th>\n",
       "      <td>-0.197067</td>\n",
       "      <td>98777</td>\n",
       "    </tr>\n",
       "    <tr>\n",
       "      <th>1</th>\n",
       "      <td>-0.795510</td>\n",
       "      <td>397457</td>\n",
       "    </tr>\n",
       "    <tr>\n",
       "      <th>2</th>\n",
       "      <td>-0.958081</td>\n",
       "      <td>592225</td>\n",
       "    </tr>\n",
       "    <tr>\n",
       "      <th>3</th>\n",
       "      <td>-11.905882</td>\n",
       "      <td>425029</td>\n",
       "    </tr>\n",
       "    <tr>\n",
       "      <th>4</th>\n",
       "      <td>-4.076398</td>\n",
       "      <td>118706</td>\n",
       "    </tr>\n",
       "  </tbody>\n",
       "</table>\n",
       "</div>"
      ],
      "text/plain": [
       "   Prediction      id\n",
       "0   -0.197067   98777\n",
       "1   -0.795510  397457\n",
       "2   -0.958081  592225\n",
       "3  -11.905882  425029\n",
       "4   -4.076398  118706"
      ]
     },
     "execution_count": 114,
     "metadata": {},
     "output_type": "execute_result"
    }
   ],
   "source": [
    "submit = pd.DataFrame(submit)\n",
    "submit.head()\n",
    "# creating dataframe"
   ]
  },
  {
   "cell_type": "code",
   "execution_count": 115,
   "metadata": {
    "collapsed": false
   },
   "outputs": [],
   "source": [
    "submit.to_csv('rt150pluskmeanspluskfolds6.csv')\n",
    "# exporting dataframe to .csv for submittal"
   ]
  },
  {
   "cell_type": "markdown",
   "metadata": {},
   "source": [
    "### Process Checkpoint 5\n",
    "\n",
    "Building my pipeline turned into a pipe bomb!  Submitting my version 6 .csv resulted in a 0.684476 public leaderboard score and a 0.659461 private leaderboard score.  These two scores would lead me back to the drawing board.  "
   ]
  },
  {
   "cell_type": "markdown",
   "metadata": {},
   "source": [
    "# Help!!"
   ]
  },
  {
   "cell_type": "code",
   "execution_count": 116,
   "metadata": {
    "collapsed": false
   },
   "outputs": [
    {
     "ename": "NameError",
     "evalue": "name 'features5' is not defined",
     "output_type": "error",
     "traceback": [
      "\u001b[0;31m---------------------------------------------------------------------------\u001b[0m",
      "\u001b[0;31mNameError\u001b[0m                                 Traceback (most recent call last)",
      "\u001b[0;32m<ipython-input-116-4ed97fe66059>\u001b[0m in \u001b[0;36mplotroc\u001b[0;34m(C)\u001b[0m\n\u001b[1;32m      1\u001b[0m \u001b[1;33m@\u001b[0m\u001b[0minteract\u001b[0m\u001b[1;33m\u001b[0m\u001b[0m\n\u001b[1;32m      2\u001b[0m \u001b[1;32mdef\u001b[0m \u001b[0mplotroc\u001b[0m\u001b[1;33m(\u001b[0m\u001b[0mC\u001b[0m\u001b[1;33m=\u001b[0m\u001b[1;33m(\u001b[0m\u001b[1;36m0\u001b[0m\u001b[1;33m,\u001b[0m\u001b[1;36m100\u001b[0m\u001b[1;33m,\u001b[0m\u001b[1;36m1\u001b[0m\u001b[1;33m)\u001b[0m\u001b[1;33m)\u001b[0m\u001b[1;33m:\u001b[0m\u001b[1;33m\u001b[0m\u001b[0m\n\u001b[0;32m----> 3\u001b[0;31m     \u001b[0mmodel5\u001b[0m \u001b[1;33m=\u001b[0m \u001b[0mLinearSVC\u001b[0m\u001b[1;33m(\u001b[0m\u001b[0mC\u001b[0m\u001b[1;33m=\u001b[0m\u001b[0mC\u001b[0m\u001b[1;33m,\u001b[0m \u001b[0mrandom_state\u001b[0m\u001b[1;33m=\u001b[0m\u001b[1;36m0\u001b[0m\u001b[1;33m)\u001b[0m\u001b[1;33m.\u001b[0m\u001b[0mfit\u001b[0m\u001b[1;33m(\u001b[0m\u001b[0mtrain\u001b[0m\u001b[1;33m[\u001b[0m\u001b[0mfeatures5\u001b[0m\u001b[1;33m]\u001b[0m\u001b[1;33m,\u001b[0m \u001b[0mtrain\u001b[0m\u001b[1;33m.\u001b[0m\u001b[0misFraud\u001b[0m\u001b[1;33m)\u001b[0m\u001b[1;33m\u001b[0m\u001b[0m\n\u001b[0m\u001b[1;32m      4\u001b[0m     \u001b[0mfpr\u001b[0m\u001b[1;33m,\u001b[0m \u001b[0mrecall\u001b[0m\u001b[1;33m,\u001b[0m \u001b[0mthresholds\u001b[0m \u001b[1;33m=\u001b[0m \u001b[0mroc_curve\u001b[0m\u001b[1;33m(\u001b[0m\u001b[0mtest\u001b[0m\u001b[1;33m.\u001b[0m\u001b[0misFraud\u001b[0m \u001b[1;33m,\u001b[0m \u001b[0mmodel5\u001b[0m\u001b[1;33m.\u001b[0m\u001b[0mdecision_function\u001b[0m\u001b[1;33m(\u001b[0m\u001b[0mtest\u001b[0m\u001b[1;33m[\u001b[0m\u001b[0mfeatures5\u001b[0m\u001b[1;33m]\u001b[0m\u001b[1;33m)\u001b[0m\u001b[1;33m)\u001b[0m\u001b[1;33m\u001b[0m\u001b[0m\n\u001b[1;32m      5\u001b[0m     \u001b[0mplt\u001b[0m\u001b[1;33m.\u001b[0m\u001b[0mfigure\u001b[0m\u001b[1;33m(\u001b[0m\u001b[0mfigsize\u001b[0m\u001b[1;33m=\u001b[0m\u001b[1;33m(\u001b[0m\u001b[1;36m12\u001b[0m\u001b[1;33m,\u001b[0m\u001b[1;36m8\u001b[0m\u001b[1;33m)\u001b[0m\u001b[1;33m)\u001b[0m\u001b[1;33m\u001b[0m\u001b[0m\n",
      "\u001b[0;31mNameError\u001b[0m: name 'features5' is not defined"
     ]
    }
   ],
   "source": [
    "@interact\n",
    "def plotroc(C=(0, 100, 1)):\n",
    "    model5 = LinearSVC(C=C, random_state=0).fit(train[features5],\n",
    "                                                train.isFraud)\n",
    "    fpr, recall, thresholds = roc_curve(\n",
    "        test.isFraud, model5.decision_function(test[features5]))\n",
    "    plt.figure(figsize=(12, 8))\n",
    "    plt.plot(fpr, recall)\n",
    "    print('Accuracy score is: %s'\n",
    "          % accuracy_score(test.isFraud, model5.predict(test[features5])))\n",
    "# I do not think i did this correctly\n",
    "# wanted to keep it in case you can help on why"
   ]
  },
  {
   "cell_type": "markdown",
   "metadata": {},
   "source": [
    "My pipeline is messed up too and I could use any advice here that you think may help."
   ]
  }
 ],
 "metadata": {
  "anaconda-cloud": {},
  "kernelspec": {
   "display_name": "Python [default]",
   "language": "python",
   "name": "python3"
  },
  "language_info": {
   "codemirror_mode": {
    "name": "ipython",
    "version": 3
   },
   "file_extension": ".py",
   "mimetype": "text/x-python",
   "name": "python",
   "nbconvert_exporter": "python",
   "pygments_lexer": "ipython3",
   "version": "3.5.2"
  }
 },
 "nbformat": 4,
 "nbformat_minor": 2
}
